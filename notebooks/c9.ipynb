{
 "cells": [
  {
   "cell_type": "code",
   "execution_count": 1,
   "metadata": {},
   "outputs": [],
   "source": [
    "from glob import glob\n",
    "import pandas as pd\n",
    "import numpy as np\n",
    "from scipy import stats  \n",
    "import matplotlib.pyplot as plt\n",
    "import japanize_matplotlib"
   ]
  },
  {
   "cell_type": "code",
   "execution_count": 2,
   "metadata": {},
   "outputs": [
    {
     "name": "stdout",
     "output_type": "stream",
     "text": [
      "0 ../csv/例題_データアナリティクス基礎\\例題10_自由記述データ&形態素解析データ.xlsx\n",
      "1 ../csv/例題_データアナリティクス基礎\\例題11_乱数で発生させた分布の基本統計量.xlsx\n",
      "2 ../csv/例題_データアナリティクス基礎\\例題1_自転車データ.xlsx\n",
      "3 ../csv/例題_データアナリティクス基礎\\例題2_顧客ID付き食品購入データ.xlsx\n",
      "4 ../csv/例題_データアナリティクス基礎\\例題3_テレビ視聴アンケートデータ.xlsx\n",
      "5 ../csv/例題_データアナリティクス基礎\\例題4_5つの地域の事業所数.xlsx\n",
      "6 ../csv/例題_データアナリティクス基礎\\例題5_関東地方の人口データ.xlsx\n",
      "7 ../csv/例題_データアナリティクス基礎\\例題7_異なる授業形態による成績データ.xlsx\n",
      "8 ../csv/例題_データアナリティクス基礎\\例題8_遊園地テーマパーク入場者数.xlsx\n",
      "9 ../csv/例題_データアナリティクス基礎\\例題9_店舗別販売額.xlsx\n"
     ]
    }
   ],
   "source": [
    "files = glob(\"../csv/例題_データアナリティクス基礎/*\")\n",
    "for i, f in enumerate(files):\n",
    "    print(i, f)\n"
   ]
  },
  {
   "cell_type": "code",
   "execution_count": 10,
   "metadata": {},
   "outputs": [
    {
     "name": "stdout",
     "output_type": "stream",
     "text": [
      "Index(['ID', '性別', '年齢', 'スマートフォンに対する印象'], dtype='object')\n"
     ]
    },
    {
     "data": {
      "text/html": [
       "<div>\n",
       "<style scoped>\n",
       "    .dataframe tbody tr th:only-of-type {\n",
       "        vertical-align: middle;\n",
       "    }\n",
       "\n",
       "    .dataframe tbody tr th {\n",
       "        vertical-align: top;\n",
       "    }\n",
       "\n",
       "    .dataframe thead th {\n",
       "        text-align: right;\n",
       "    }\n",
       "</style>\n",
       "<table border=\"1\" class=\"dataframe\">\n",
       "  <thead>\n",
       "    <tr style=\"text-align: right;\">\n",
       "      <th></th>\n",
       "      <th>id</th>\n",
       "      <th>gender</th>\n",
       "      <th>age</th>\n",
       "      <th>impression</th>\n",
       "    </tr>\n",
       "  </thead>\n",
       "  <tbody>\n",
       "    <tr>\n",
       "      <th>0</th>\n",
       "      <td>1</td>\n",
       "      <td>男性</td>\n",
       "      <td>27</td>\n",
       "      <td>必要な気がするけれど、束縛間も感じさせる</td>\n",
       "    </tr>\n",
       "    <tr>\n",
       "      <th>1</th>\n",
       "      <td>2</td>\n",
       "      <td>男性</td>\n",
       "      <td>25</td>\n",
       "      <td>忘れたら絶対取りに帰る。仕事にもプライベートにも使う。</td>\n",
       "    </tr>\n",
       "    <tr>\n",
       "      <th>2</th>\n",
       "      <td>3</td>\n",
       "      <td>女性</td>\n",
       "      <td>21</td>\n",
       "      <td>絶対大事</td>\n",
       "    </tr>\n",
       "    <tr>\n",
       "      <th>3</th>\n",
       "      <td>4</td>\n",
       "      <td>男性</td>\n",
       "      <td>28</td>\n",
       "      <td>なくても結構いける</td>\n",
       "    </tr>\n",
       "    <tr>\n",
       "      <th>4</th>\n",
       "      <td>5</td>\n",
       "      <td>女性</td>\n",
       "      <td>20</td>\n",
       "      <td>手から離せない。ライフライン。</td>\n",
       "    </tr>\n",
       "  </tbody>\n",
       "</table>\n",
       "</div>"
      ],
      "text/plain": [
       "   id gender  age                   impression\n",
       "0   1     男性   27         必要な気がするけれど、束縛間も感じさせる\n",
       "1   2     男性   25  忘れたら絶対取りに帰る。仕事にもプライベートにも使う。\n",
       "2   3     女性   21                         絶対大事\n",
       "3   4     男性   28                    なくても結構いける\n",
       "4   5     女性   20              手から離せない。ライフライン。"
      ]
     },
     "execution_count": 10,
     "metadata": {},
     "output_type": "execute_result"
    }
   ],
   "source": [
    "df1 = pd.read_excel(files[0], sheet_name=0)\n",
    "print(df1.columns)\n",
    "df1.columns = ['id', 'gender', 'age', 'impression']\n",
    "df1.head()"
   ]
  },
  {
   "cell_type": "code",
   "execution_count": 3,
   "metadata": {},
   "outputs": [
    {
     "name": "stdout",
     "output_type": "stream",
     "text": [
      "Index(['ID', '性別', '辞書', '文境界', '書字形（＝表層形）', '語彙素', '語彙素読み', '品詞', '大分類',\n",
      "       '中分類', '小分類', '細分類', '活用型', '活用形', '発音形出現形', '仮名形出現形', '語種', '書字形(基本形)',\n",
      "       '発音形(基本形)', '仮名形(基本形)', '語形(基本形)'],\n",
      "      dtype='object')\n"
     ]
    },
    {
     "data": {
      "text/html": [
       "<div>\n",
       "<style scoped>\n",
       "    .dataframe tbody tr th:only-of-type {\n",
       "        vertical-align: middle;\n",
       "    }\n",
       "\n",
       "    .dataframe tbody tr th {\n",
       "        vertical-align: top;\n",
       "    }\n",
       "\n",
       "    .dataframe thead th {\n",
       "        text-align: right;\n",
       "    }\n",
       "</style>\n",
       "<table border=\"1\" class=\"dataframe\">\n",
       "  <thead>\n",
       "    <tr style=\"text-align: right;\">\n",
       "      <th></th>\n",
       "      <th>ID</th>\n",
       "      <th>性別</th>\n",
       "      <th>辞書</th>\n",
       "      <th>文境界</th>\n",
       "      <th>書字形（＝表層形）</th>\n",
       "      <th>語彙素</th>\n",
       "      <th>語彙素読み</th>\n",
       "      <th>品詞</th>\n",
       "      <th>大分類</th>\n",
       "      <th>中分類</th>\n",
       "      <th>...</th>\n",
       "      <th>細分類</th>\n",
       "      <th>活用型</th>\n",
       "      <th>活用形</th>\n",
       "      <th>発音形出現形</th>\n",
       "      <th>仮名形出現形</th>\n",
       "      <th>語種</th>\n",
       "      <th>書字形(基本形)</th>\n",
       "      <th>発音形(基本形)</th>\n",
       "      <th>仮名形(基本形)</th>\n",
       "      <th>語形(基本形)</th>\n",
       "    </tr>\n",
       "  </thead>\n",
       "  <tbody>\n",
       "    <tr>\n",
       "      <th>0</th>\n",
       "      <td>1</td>\n",
       "      <td>男性</td>\n",
       "      <td>現代語</td>\n",
       "      <td>B</td>\n",
       "      <td>必要</td>\n",
       "      <td>必要</td>\n",
       "      <td>ヒツヨウ</td>\n",
       "      <td>名詞-普通名詞-形状詞可能</td>\n",
       "      <td>名詞</td>\n",
       "      <td>普通名詞</td>\n",
       "      <td>...</td>\n",
       "      <td>NaN</td>\n",
       "      <td>NaN</td>\n",
       "      <td>NaN</td>\n",
       "      <td>ヒツヨー</td>\n",
       "      <td>ヒツヨウ</td>\n",
       "      <td>漢</td>\n",
       "      <td>必要</td>\n",
       "      <td>ヒツヨー</td>\n",
       "      <td>ヒツヨウ</td>\n",
       "      <td>ヒツヨウ</td>\n",
       "    </tr>\n",
       "    <tr>\n",
       "      <th>1</th>\n",
       "      <td>1</td>\n",
       "      <td>男性</td>\n",
       "      <td>現代語</td>\n",
       "      <td>I</td>\n",
       "      <td>な</td>\n",
       "      <td>だ</td>\n",
       "      <td>ダ</td>\n",
       "      <td>助動詞</td>\n",
       "      <td>助動詞</td>\n",
       "      <td>NaN</td>\n",
       "      <td>...</td>\n",
       "      <td>NaN</td>\n",
       "      <td>助動詞-ダ</td>\n",
       "      <td>連体形-一般</td>\n",
       "      <td>ナ</td>\n",
       "      <td>ナ</td>\n",
       "      <td>和</td>\n",
       "      <td>だ</td>\n",
       "      <td>ダ</td>\n",
       "      <td>ダ</td>\n",
       "      <td>ダ</td>\n",
       "    </tr>\n",
       "    <tr>\n",
       "      <th>2</th>\n",
       "      <td>1</td>\n",
       "      <td>男性</td>\n",
       "      <td>現代語</td>\n",
       "      <td>I</td>\n",
       "      <td>気</td>\n",
       "      <td>気</td>\n",
       "      <td>キ</td>\n",
       "      <td>名詞-普通名詞-一般</td>\n",
       "      <td>名詞</td>\n",
       "      <td>普通名詞</td>\n",
       "      <td>...</td>\n",
       "      <td>NaN</td>\n",
       "      <td>NaN</td>\n",
       "      <td>NaN</td>\n",
       "      <td>キ</td>\n",
       "      <td>キ</td>\n",
       "      <td>漢</td>\n",
       "      <td>気</td>\n",
       "      <td>キ</td>\n",
       "      <td>キ</td>\n",
       "      <td>キ</td>\n",
       "    </tr>\n",
       "    <tr>\n",
       "      <th>3</th>\n",
       "      <td>1</td>\n",
       "      <td>男性</td>\n",
       "      <td>現代語</td>\n",
       "      <td>I</td>\n",
       "      <td>が</td>\n",
       "      <td>が</td>\n",
       "      <td>ガ</td>\n",
       "      <td>助詞-格助詞</td>\n",
       "      <td>助詞</td>\n",
       "      <td>格助詞</td>\n",
       "      <td>...</td>\n",
       "      <td>NaN</td>\n",
       "      <td>NaN</td>\n",
       "      <td>NaN</td>\n",
       "      <td>ガ</td>\n",
       "      <td>ガ</td>\n",
       "      <td>和</td>\n",
       "      <td>が</td>\n",
       "      <td>ガ</td>\n",
       "      <td>ガ</td>\n",
       "      <td>ガ</td>\n",
       "    </tr>\n",
       "    <tr>\n",
       "      <th>4</th>\n",
       "      <td>1</td>\n",
       "      <td>男性</td>\n",
       "      <td>現代語</td>\n",
       "      <td>I</td>\n",
       "      <td>する</td>\n",
       "      <td>為る</td>\n",
       "      <td>スル</td>\n",
       "      <td>動詞-非自立可能</td>\n",
       "      <td>動詞</td>\n",
       "      <td>非自立可能</td>\n",
       "      <td>...</td>\n",
       "      <td>NaN</td>\n",
       "      <td>サ行変格</td>\n",
       "      <td>終止形-一般</td>\n",
       "      <td>スル</td>\n",
       "      <td>スル</td>\n",
       "      <td>和</td>\n",
       "      <td>する</td>\n",
       "      <td>スル</td>\n",
       "      <td>スル</td>\n",
       "      <td>スル</td>\n",
       "    </tr>\n",
       "  </tbody>\n",
       "</table>\n",
       "<p>5 rows × 21 columns</p>\n",
       "</div>"
      ],
      "text/plain": [
       "   ID  性別   辞書 文境界 書字形（＝表層形） 語彙素 語彙素読み             品詞  大分類    中分類  ... 細分類  \\\n",
       "0   1  男性  現代語   B        必要  必要  ヒツヨウ  名詞-普通名詞-形状詞可能   名詞   普通名詞  ... NaN   \n",
       "1   1  男性  現代語   I         な   だ     ダ            助動詞  助動詞    NaN  ... NaN   \n",
       "2   1  男性  現代語   I         気   気     キ     名詞-普通名詞-一般   名詞   普通名詞  ... NaN   \n",
       "3   1  男性  現代語   I         が   が     ガ         助詞-格助詞   助詞    格助詞  ... NaN   \n",
       "4   1  男性  現代語   I        する  為る    スル       動詞-非自立可能   動詞  非自立可能  ... NaN   \n",
       "\n",
       "     活用型     活用形 発音形出現形 仮名形出現形 語種 書字形(基本形) 発音形(基本形) 仮名形(基本形) 語形(基本形)  \n",
       "0    NaN     NaN   ヒツヨー   ヒツヨウ  漢       必要     ヒツヨー     ヒツヨウ    ヒツヨウ  \n",
       "1  助動詞-ダ  連体形-一般      ナ      ナ  和        だ        ダ        ダ       ダ  \n",
       "2    NaN     NaN      キ      キ  漢        気        キ        キ       キ  \n",
       "3    NaN     NaN      ガ      ガ  和        が        ガ        ガ       ガ  \n",
       "4   サ行変格  終止形-一般     スル     スル  和       する       スル       スル      スル  \n",
       "\n",
       "[5 rows x 21 columns]"
      ]
     },
     "execution_count": 3,
     "metadata": {},
     "output_type": "execute_result"
    }
   ],
   "source": [
    "df2 = pd.read_excel(files[0], sheet_name=1)\n",
    "print(df2.columns)\n",
    "# df2.columns = ['id', 'customer_id', 'price', 'food', 'weekday', 'gender']\n",
    "df2.head()"
   ]
  },
  {
   "cell_type": "markdown",
   "metadata": {},
   "source": [
    "- 性別 == 男性 and 大分類 == 名詞\n",
    "- 性別 == 女性 and 大分類 == 名詞"
   ]
  },
  {
   "cell_type": "code",
   "execution_count": 59,
   "metadata": {},
   "outputs": [
    {
     "name": "stdout",
     "output_type": "stream",
     "text": [
      "53\n",
      "34\n"
     ]
    }
   ],
   "source": [
    "# 性別 == 男性 and 大分類 == 名詞\n",
    "print(df2.query('性別 == \"男性\" and 大分類 == \"名詞\"').count()['ID'])\n",
    "# 性別 == 女性 and 大分類 == 名詞\n",
    "print(df2.query('性別 == \"女性\" and 大分類 == \"名詞\"').count()['ID'])"
   ]
  },
  {
   "cell_type": "code",
   "execution_count": 134,
   "metadata": {},
   "outputs": [
    {
     "name": "stdout",
     "output_type": "stream",
     "text": [
      "大分類\n",
      "名詞    0.284314\n",
      "dtype: float64\n"
     ]
    }
   ],
   "source": [
    "# 平均出現回数の男女差\n",
    "noun = df2[df2['大分類'] == '名詞']\n",
    "noun_gender = noun.pivot_table(index=['性別', 'ID'], columns='大分類', aggfunc='count')['中分類']\n",
    "print(abs(noun_gender.loc['女性'].mean() - noun_gender.loc['男性'].mean()))\n",
    "# noun_gender"
   ]
  },
  {
   "cell_type": "code",
   "execution_count": 135,
   "metadata": {},
   "outputs": [
    {
     "data": {
      "text/html": [
       "<div>\n",
       "<style scoped>\n",
       "    .dataframe tbody tr th:only-of-type {\n",
       "        vertical-align: middle;\n",
       "    }\n",
       "\n",
       "    .dataframe tbody tr th {\n",
       "        vertical-align: top;\n",
       "    }\n",
       "\n",
       "    .dataframe thead th {\n",
       "        text-align: right;\n",
       "    }\n",
       "</style>\n",
       "<table border=\"1\" class=\"dataframe\">\n",
       "  <thead>\n",
       "    <tr style=\"text-align: right;\">\n",
       "      <th>性別</th>\n",
       "      <th>女性</th>\n",
       "      <th>男性</th>\n",
       "    </tr>\n",
       "    <tr>\n",
       "      <th>書字形（＝表層形）</th>\n",
       "      <th></th>\n",
       "      <th></th>\n",
       "    </tr>\n",
       "  </thead>\n",
       "  <tbody>\n",
       "    <tr>\n",
       "      <th>便利</th>\n",
       "      <td>2.0</td>\n",
       "      <td>5.0</td>\n",
       "    </tr>\n",
       "  </tbody>\n",
       "</table>\n",
       "</div>"
      ],
      "text/plain": [
       "性別          女性   男性\n",
       "書字形（＝表層形）          \n",
       "便利         2.0  5.0"
      ]
     },
     "execution_count": 135,
     "metadata": {},
     "output_type": "execute_result"
    }
   ],
   "source": [
    "# 男女ともに2回以上出現\n",
    "noun_aaa =  noun.pivot_table(index='書字形（＝表層形）', columns='性別', aggfunc='count')['ID']\n",
    "noun_aaa.query('女性 >= 2 and 男性 >= 2')"
   ]
  },
  {
   "cell_type": "code",
   "execution_count": 138,
   "metadata": {},
   "outputs": [
    {
     "data": {
      "image/png": "[encoded data removed]",
      "text/plain": [
       "<Figure size 300x300 with 1 Axes>"
      ]
     },
     "metadata": {},
     "output_type": "display_data"
    }
   ],
   "source": [
    "# 男性・動詞・活用形の割合\n",
    "verb_men = df2.query('大分類 == \"動詞\" and 性別 == \"男性\"')\n",
    "graph_date = verb_men.groupby('活用形').count()['ID']\n",
    "plt.figure(figsize=(3, 3))\n",
    "label = [i for i in range(5)]\n",
    "plt.pie(graph_date, labels=graph_date.index, autopct='%.0f%%', startangle=90, counterclock=False)\n",
    "plt.title('男性・動詞・活用形の割合')\n",
    "plt.legend\n",
    "plt.show()"
   ]
  },
  {
   "cell_type": "code",
   "execution_count": 139,
   "metadata": {},
   "outputs": [
    {
     "data": {
      "text/html": [
       "<div>\n",
       "<style scoped>\n",
       "    .dataframe tbody tr th:only-of-type {\n",
       "        vertical-align: middle;\n",
       "    }\n",
       "\n",
       "    .dataframe tbody tr th {\n",
       "        vertical-align: top;\n",
       "    }\n",
       "\n",
       "    .dataframe thead th {\n",
       "        text-align: right;\n",
       "    }\n",
       "</style>\n",
       "<table border=\"1\" class=\"dataframe\">\n",
       "  <thead>\n",
       "    <tr style=\"text-align: right;\">\n",
       "      <th>書字形(基本形)</th>\n",
       "      <th>必需</th>\n",
       "      <th>便利</th>\n",
       "    </tr>\n",
       "    <tr>\n",
       "      <th>書字形(基本形)</th>\n",
       "      <th></th>\n",
       "      <th></th>\n",
       "    </tr>\n",
       "  </thead>\n",
       "  <tbody>\n",
       "    <tr>\n",
       "      <th>必需</th>\n",
       "      <td>1.000000</td>\n",
       "      <td>0.258199</td>\n",
       "    </tr>\n",
       "    <tr>\n",
       "      <th>便利</th>\n",
       "      <td>0.258199</td>\n",
       "      <td>1.000000</td>\n",
       "    </tr>\n",
       "  </tbody>\n",
       "</table>\n",
       "</div>"
      ],
      "text/plain": [
       "書字形(基本形)        必需        便利\n",
       "書字形(基本形)                    \n",
       "必需        1.000000  0.258199\n",
       "便利        0.258199  1.000000"
      ]
     },
     "execution_count": 139,
     "metadata": {},
     "output_type": "execute_result"
    }
   ],
   "source": [
    "noun_women = df2.query('性別 == \"女性\" and 大分類 == \"名詞\"')\n",
    "noun_women_table = noun_women.pivot_table(index='ID', columns='書字形(基本形)', aggfunc='count')\n",
    "noun_women_table['辞書'][['必需', '便利']].fillna(0).corr()"
   ]
  }
 ],
 "metadata": {
  "kernelspec": {
   "display_name": "Python 3",
   "language": "python",
   "name": "python3"
  },
  "language_info": {
   "codemirror_mode": {
    "name": "ipython",
    "version": 3
   },
   "file_extension": ".py",
   "mimetype": "text/x-python",
   "name": "python",
   "nbconvert_exporter": "python",
   "pygments_lexer": "ipython3",
   "version": "3.10.9"
  }
 },
 "nbformat": 4,
 "nbformat_minor": 2
}
