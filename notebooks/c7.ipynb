{
 "cells": [
  {
   "cell_type": "code",
   "execution_count": 1,
   "metadata": {},
   "outputs": [],
   "source": [
    "from glob import glob\n",
    "import pandas as pd\n",
    "import numpy as np\n",
    "from scipy import stats  \n",
    "import matplotlib.pyplot as plt\n",
    "import japanize_matplotlib"
   ]
  },
  {
   "cell_type": "code",
   "execution_count": 2,
   "metadata": {},
   "outputs": [
    {
     "name": "stdout",
     "output_type": "stream",
     "text": [
      "0 ../csv/例題_データアナリティクス基礎\\例題10_自由記述データ&形態素解析データ.xlsx\n",
      "1 ../csv/例題_データアナリティクス基礎\\例題11_乱数で発生させた分布の基本統計量.xlsx\n",
      "2 ../csv/例題_データアナリティクス基礎\\例題1_自転車データ.xlsx\n",
      "3 ../csv/例題_データアナリティクス基礎\\例題2_顧客ID付き食品購入データ.xlsx\n",
      "4 ../csv/例題_データアナリティクス基礎\\例題3_テレビ視聴アンケートデータ.xlsx\n",
      "5 ../csv/例題_データアナリティクス基礎\\例題4_5つの地域の事業所数.xlsx\n",
      "6 ../csv/例題_データアナリティクス基礎\\例題5_関東地方の人口データ.xlsx\n",
      "7 ../csv/例題_データアナリティクス基礎\\例題7_異なる授業形態による成績データ.xlsx\n",
      "8 ../csv/例題_データアナリティクス基礎\\例題8_遊園地テーマパーク入場者数.xlsx\n",
      "9 ../csv/例題_データアナリティクス基礎\\例題9_店舗別販売額.xlsx\n"
     ]
    }
   ],
   "source": [
    "files = glob(\"../csv/例題_データアナリティクス基礎/*\")\n",
    "for i, f in enumerate(files):\n",
    "    print(i, f)\n"
   ]
  },
  {
   "cell_type": "code",
   "execution_count": 4,
   "metadata": {},
   "outputs": [
    {
     "name": "stdout",
     "output_type": "stream",
     "text": [
      "Index(['授業形態', '成績（点）'], dtype='object')\n"
     ]
    },
    {
     "data": {
      "text/html": [
       "<div>\n",
       "<style scoped>\n",
       "    .dataframe tbody tr th:only-of-type {\n",
       "        vertical-align: middle;\n",
       "    }\n",
       "\n",
       "    .dataframe tbody tr th {\n",
       "        vertical-align: top;\n",
       "    }\n",
       "\n",
       "    .dataframe thead th {\n",
       "        text-align: right;\n",
       "    }\n",
       "</style>\n",
       "<table border=\"1\" class=\"dataframe\">\n",
       "  <thead>\n",
       "    <tr style=\"text-align: right;\">\n",
       "      <th></th>\n",
       "      <th>style</th>\n",
       "      <th>score</th>\n",
       "    </tr>\n",
       "  </thead>\n",
       "  <tbody>\n",
       "    <tr>\n",
       "      <th>0</th>\n",
       "      <td>オンライン</td>\n",
       "      <td>61</td>\n",
       "    </tr>\n",
       "    <tr>\n",
       "      <th>1</th>\n",
       "      <td>オンライン</td>\n",
       "      <td>58</td>\n",
       "    </tr>\n",
       "    <tr>\n",
       "      <th>2</th>\n",
       "      <td>オンライン</td>\n",
       "      <td>64</td>\n",
       "    </tr>\n",
       "    <tr>\n",
       "      <th>3</th>\n",
       "      <td>オンライン</td>\n",
       "      <td>62</td>\n",
       "    </tr>\n",
       "    <tr>\n",
       "      <th>4</th>\n",
       "      <td>対面</td>\n",
       "      <td>48</td>\n",
       "    </tr>\n",
       "  </tbody>\n",
       "</table>\n",
       "</div>"
      ],
      "text/plain": [
       "   style  score\n",
       "0  オンライン     61\n",
       "1  オンライン     58\n",
       "2  オンライン     64\n",
       "3  オンライン     62\n",
       "4     対面     48"
      ]
     },
     "execution_count": 4,
     "metadata": {},
     "output_type": "execute_result"
    }
   ],
   "source": [
    "df = pd.read_excel(files[7])\n",
    "print(df.columns)\n",
    "df.columns = ['style', 'score']\n",
    "df.head()"
   ]
  },
  {
   "cell_type": "code",
   "execution_count": 30,
   "metadata": {},
   "outputs": [
    {
     "data": {
      "text/html": [
       "<div>\n",
       "<style scoped>\n",
       "    .dataframe tbody tr th:only-of-type {\n",
       "        vertical-align: middle;\n",
       "    }\n",
       "\n",
       "    .dataframe tbody tr th {\n",
       "        vertical-align: top;\n",
       "    }\n",
       "\n",
       "    .dataframe thead tr th {\n",
       "        text-align: left;\n",
       "    }\n",
       "\n",
       "    .dataframe thead tr:last-of-type th {\n",
       "        text-align: right;\n",
       "    }\n",
       "</style>\n",
       "<table border=\"1\" class=\"dataframe\">\n",
       "  <thead>\n",
       "    <tr>\n",
       "      <th></th>\n",
       "      <th colspan=\"8\" halign=\"left\">score</th>\n",
       "    </tr>\n",
       "    <tr>\n",
       "      <th></th>\n",
       "      <th>count</th>\n",
       "      <th>mean</th>\n",
       "      <th>std</th>\n",
       "      <th>min</th>\n",
       "      <th>25%</th>\n",
       "      <th>50%</th>\n",
       "      <th>75%</th>\n",
       "      <th>max</th>\n",
       "    </tr>\n",
       "    <tr>\n",
       "      <th>style</th>\n",
       "      <th></th>\n",
       "      <th></th>\n",
       "      <th></th>\n",
       "      <th></th>\n",
       "      <th></th>\n",
       "      <th></th>\n",
       "      <th></th>\n",
       "      <th></th>\n",
       "    </tr>\n",
       "  </thead>\n",
       "  <tbody>\n",
       "    <tr>\n",
       "      <th>オンライン</th>\n",
       "      <td>40.0</td>\n",
       "      <td>58.925</td>\n",
       "      <td>3.157307</td>\n",
       "      <td>52.0</td>\n",
       "      <td>57.0</td>\n",
       "      <td>59.0</td>\n",
       "      <td>61.0</td>\n",
       "      <td>66.0</td>\n",
       "    </tr>\n",
       "    <tr>\n",
       "      <th>対面</th>\n",
       "      <td>40.0</td>\n",
       "      <td>54.500</td>\n",
       "      <td>3.351234</td>\n",
       "      <td>48.0</td>\n",
       "      <td>52.0</td>\n",
       "      <td>55.0</td>\n",
       "      <td>57.0</td>\n",
       "      <td>61.0</td>\n",
       "    </tr>\n",
       "  </tbody>\n",
       "</table>\n",
       "</div>"
      ],
      "text/plain": [
       "      score                                                \n",
       "      count    mean       std   min   25%   50%   75%   max\n",
       "style                                                      \n",
       "オンライン  40.0  58.925  3.157307  52.0  57.0  59.0  61.0  66.0\n",
       "対面     40.0  54.500  3.351234  48.0  52.0  55.0  57.0  61.0"
      ]
     },
     "execution_count": 30,
     "metadata": {},
     "output_type": "execute_result"
    }
   ],
   "source": [
    "df_style = df.groupby('style').describe()\n",
    "df_style"
   ]
  },
  {
   "cell_type": "code",
   "execution_count": 93,
   "metadata": {},
   "outputs": [],
   "source": [
    "online_count = df_style.loc['オンライン']['score','count']\n",
    "online_mean = df_style.loc['オンライン']['score','mean']\n",
    "online_std = df_style.loc['オンライン']['score','std']\n",
    "online_std_error = online_std / np.sqrt(online_count)\n",
    "\n",
    "facing_count = df_style.loc['対面']['score','count']\n",
    "facing_mean = df_style.loc['対面']['score','mean']\n",
    "facing_std = df_style.loc['対面']['score','std']\n",
    "facing_std_error = facing_std / np.sqrt(facing_count)"
   ]
  },
  {
   "cell_type": "code",
   "execution_count": 98,
   "metadata": {},
   "outputs": [
    {
     "name": "stdout",
     "output_type": "stream",
     "text": [
      "母平均の推定値: 58.9\n",
      "母標準偏差の推定値: 3.16\n",
      "標本平均の標準誤差: 0.5\n"
     ]
    }
   ],
   "source": [
    "print(f\"母平均の推定値: {online_mean:.01f}\")\n",
    "print(f\"母標準偏差の推定値: {online_std:.02f}\")\n",
    "print(f\"標本平均の標準誤差: {online_std_error:.01f}\")"
   ]
  },
  {
   "cell_type": "code",
   "execution_count": 100,
   "metadata": {},
   "outputs": [
    {
     "name": "stdout",
     "output_type": "stream",
     "text": [
      "母平均の推定値: 54.5\n",
      "母標準偏差の推定値: 3.35\n",
      "標本平均の標準誤差: 0.5\n"
     ]
    }
   ],
   "source": [
    "print(f\"母平均の推定値: {facing_mean:.01f}\")\n",
    "print(f\"母標準偏差の推定値: {facing_std:.02f}\")\n",
    "print(f\"標本平均の標準誤差: {facing_std_error:.01f}\")"
   ]
  },
  {
   "cell_type": "code",
   "execution_count": 101,
   "metadata": {},
   "outputs": [
    {
     "name": "stdout",
     "output_type": "stream",
     "text": [
      "2.022690911734728\n"
     ]
    }
   ],
   "source": [
    "alpha = 0.05\n",
    "t_0025 = stats.t.ppf(1 - alpha/2, online_count-1)\n",
    "print(t_0025)"
   ]
  },
  {
   "cell_type": "code",
   "execution_count": 106,
   "metadata": {},
   "outputs": [
    {
     "name": "stdout",
     "output_type": "stream",
     "text": [
      "online: [57.9 59.9]\n",
      "facing: [53.4 55.6]\n"
     ]
    }
   ],
   "source": [
    "online_upper = online_mean + t_0025 * online_std_error\n",
    "online_lower = online_mean - t_0025 * online_std_error\n",
    "print(f'online: [{online_lower:.01f}', f'{online_upper:.01f}]')\n",
    "\n",
    "facing_upper = facing_mean + t_0025 * facing_std_error\n",
    "facing_lower = facing_mean - t_0025 * facing_std_error\n",
    "print(f'facing: [{facing_lower:.01f}', f'{facing_upper:.01f}]')"
   ]
  },
  {
   "cell_type": "code",
   "execution_count": 114,
   "metadata": {},
   "outputs": [],
   "source": [
    "x = df.query('style == \"オンライン\"')['score']\n",
    "y = df.query('style == \"対面\"')['score']"
   ]
  },
  {
   "cell_type": "code",
   "execution_count": 130,
   "metadata": {},
   "outputs": [
    {
     "name": "stdout",
     "output_type": "stream",
     "text": [
      "t_value = 6.078 p_value = 4.24e-08\n",
      "平均が等しい確率: 4.24e-08\n"
     ]
    }
   ],
   "source": [
    "# 母平均の差の検定\n",
    "s, p = stats.ttest_ind(x, y, equal_var=False)\n",
    "print(f't_value = {s:.03f}', f'p_value = {p:.2e}')\n",
    "print(f'平均が等しい確率: {p:.02e}')"
   ]
  },
  {
   "cell_type": "code",
   "execution_count": null,
   "metadata": {},
   "outputs": [],
   "source": []
  }
 ],
 "metadata": {
  "kernelspec": {
   "display_name": "Python 3",
   "language": "python",
   "name": "python3"
  },
  "language_info": {
   "codemirror_mode": {
    "name": "ipython",
    "version": 3
   },
   "file_extension": ".py",
   "mimetype": "text/x-python",
   "name": "python",
   "nbconvert_exporter": "python",
   "pygments_lexer": "ipython3",
   "version": "3.10.9"
  }
 },
 "nbformat": 4,
 "nbformat_minor": 2
}
