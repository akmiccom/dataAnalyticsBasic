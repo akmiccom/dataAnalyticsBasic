{
 "cells": [
  {
   "cell_type": "code",
   "execution_count": 97,
   "metadata": {},
   "outputs": [],
   "source": [
    "from glob import glob\n",
    "import pandas as pd\n",
    "import numpy as np\n",
    "from scipy import stats  \n",
    "import matplotlib.pyplot as plt\n",
    "import japanize_matplotlib"
   ]
  },
  {
   "cell_type": "code",
   "execution_count": 3,
   "metadata": {},
   "outputs": [
    {
     "name": "stdout",
     "output_type": "stream",
     "text": [
      "0 ../csv/例題_データアナリティクス基礎\\例題10_自由記述データ&形態素解析データ.xlsx\n",
      "1 ../csv/例題_データアナリティクス基礎\\例題11_乱数で発生させた分布の基本統計量.xlsx\n",
      "2 ../csv/例題_データアナリティクス基礎\\例題1_自転車データ.xlsx\n",
      "3 ../csv/例題_データアナリティクス基礎\\例題2_顧客ID付き食品購入データ.xlsx\n",
      "4 ../csv/例題_データアナリティクス基礎\\例題3_テレビ視聴アンケートデータ.xlsx\n",
      "5 ../csv/例題_データアナリティクス基礎\\例題4_5つの地域の事業所数.xlsx\n",
      "6 ../csv/例題_データアナリティクス基礎\\例題5_関東地方の人口データ.xlsx\n",
      "7 ../csv/例題_データアナリティクス基礎\\例題7_異なる授業形態による成績データ.xlsx\n",
      "8 ../csv/例題_データアナリティクス基礎\\例題8_遊園地テーマパーク入場者数.xlsx\n",
      "9 ../csv/例題_データアナリティクス基礎\\例題9_店舗別販売額.xlsx\n"
     ]
    }
   ],
   "source": [
    "files = glob(\"../csv/例題_データアナリティクス基礎/*\")\n",
    "for i, f in enumerate(files):\n",
    "    print(i, f)\n"
   ]
  },
  {
   "cell_type": "code",
   "execution_count": 4,
   "metadata": {},
   "outputs": [
    {
     "name": "stdout",
     "output_type": "stream",
     "text": [
      "Index(['地域', '転入者数（人）', '事業所数', '公民館数', '図書館数'], dtype='object')\n"
     ]
    },
    {
     "data": {
      "text/html": [
       "<div>\n",
       "<style scoped>\n",
       "    .dataframe tbody tr th:only-of-type {\n",
       "        vertical-align: middle;\n",
       "    }\n",
       "\n",
       "    .dataframe tbody tr th {\n",
       "        vertical-align: top;\n",
       "    }\n",
       "\n",
       "    .dataframe thead th {\n",
       "        text-align: right;\n",
       "    }\n",
       "</style>\n",
       "<table border=\"1\" class=\"dataframe\">\n",
       "  <thead>\n",
       "    <tr style=\"text-align: right;\">\n",
       "      <th></th>\n",
       "      <th>area</th>\n",
       "      <th>person</th>\n",
       "      <th>office</th>\n",
       "      <th>community</th>\n",
       "      <th>library</th>\n",
       "    </tr>\n",
       "  </thead>\n",
       "  <tbody>\n",
       "    <tr>\n",
       "      <th>0</th>\n",
       "      <td>A</td>\n",
       "      <td>3753</td>\n",
       "      <td>7453</td>\n",
       "      <td>0</td>\n",
       "      <td>4</td>\n",
       "    </tr>\n",
       "    <tr>\n",
       "      <th>1</th>\n",
       "      <td>A</td>\n",
       "      <td>906</td>\n",
       "      <td>2035</td>\n",
       "      <td>19</td>\n",
       "      <td>1</td>\n",
       "    </tr>\n",
       "    <tr>\n",
       "      <th>2</th>\n",
       "      <td>A</td>\n",
       "      <td>698</td>\n",
       "      <td>1284</td>\n",
       "      <td>7</td>\n",
       "      <td>1</td>\n",
       "    </tr>\n",
       "    <tr>\n",
       "      <th>3</th>\n",
       "      <td>A</td>\n",
       "      <td>920</td>\n",
       "      <td>1778</td>\n",
       "      <td>9</td>\n",
       "      <td>1</td>\n",
       "    </tr>\n",
       "    <tr>\n",
       "      <th>4</th>\n",
       "      <td>A</td>\n",
       "      <td>818</td>\n",
       "      <td>1989</td>\n",
       "      <td>25</td>\n",
       "      <td>1</td>\n",
       "    </tr>\n",
       "  </tbody>\n",
       "</table>\n",
       "</div>"
      ],
      "text/plain": [
       "  area  person  office  community  library\n",
       "0    A    3753    7453          0        4\n",
       "1    A     906    2035         19        1\n",
       "2    A     698    1284          7        1\n",
       "3    A     920    1778          9        1\n",
       "4    A     818    1989         25        1"
      ]
     },
     "execution_count": 4,
     "metadata": {},
     "output_type": "execute_result"
    }
   ],
   "source": [
    "office_data = pd.read_excel(files[5])\n",
    "print(office_data.columns)\n",
    "office_data.columns = ['area', 'person', 'office', 'community', 'library',]\n",
    "office_data.head()"
   ]
  },
  {
   "cell_type": "code",
   "execution_count": 5,
   "metadata": {},
   "outputs": [
    {
     "data": {
      "text/html": [
       "<div>\n",
       "<style scoped>\n",
       "    .dataframe tbody tr th:only-of-type {\n",
       "        vertical-align: middle;\n",
       "    }\n",
       "\n",
       "    .dataframe tbody tr th {\n",
       "        vertical-align: top;\n",
       "    }\n",
       "\n",
       "    .dataframe thead th {\n",
       "        text-align: right;\n",
       "    }\n",
       "</style>\n",
       "<table border=\"1\" class=\"dataframe\">\n",
       "  <thead>\n",
       "    <tr style=\"text-align: right;\">\n",
       "      <th></th>\n",
       "      <th>person</th>\n",
       "      <th>office</th>\n",
       "      <th>community</th>\n",
       "      <th>library</th>\n",
       "    </tr>\n",
       "  </thead>\n",
       "  <tbody>\n",
       "    <tr>\n",
       "      <th>count</th>\n",
       "      <td>44.000000</td>\n",
       "      <td>44.000000</td>\n",
       "      <td>44.000000</td>\n",
       "      <td>44.000000</td>\n",
       "    </tr>\n",
       "    <tr>\n",
       "      <th>mean</th>\n",
       "      <td>2020.318182</td>\n",
       "      <td>2791.704545</td>\n",
       "      <td>6.068182</td>\n",
       "      <td>1.454545</td>\n",
       "    </tr>\n",
       "    <tr>\n",
       "      <th>std</th>\n",
       "      <td>2450.040387</td>\n",
       "      <td>2560.774497</td>\n",
       "      <td>5.923535</td>\n",
       "      <td>1.354657</td>\n",
       "    </tr>\n",
       "    <tr>\n",
       "      <th>min</th>\n",
       "      <td>148.000000</td>\n",
       "      <td>379.000000</td>\n",
       "      <td>0.000000</td>\n",
       "      <td>0.000000</td>\n",
       "    </tr>\n",
       "    <tr>\n",
       "      <th>25%</th>\n",
       "      <td>674.500000</td>\n",
       "      <td>1322.500000</td>\n",
       "      <td>1.000000</td>\n",
       "      <td>1.000000</td>\n",
       "    </tr>\n",
       "    <tr>\n",
       "      <th>50%</th>\n",
       "      <td>1296.500000</td>\n",
       "      <td>1983.500000</td>\n",
       "      <td>4.000000</td>\n",
       "      <td>1.000000</td>\n",
       "    </tr>\n",
       "    <tr>\n",
       "      <th>75%</th>\n",
       "      <td>2256.500000</td>\n",
       "      <td>3115.000000</td>\n",
       "      <td>9.000000</td>\n",
       "      <td>2.000000</td>\n",
       "    </tr>\n",
       "    <tr>\n",
       "      <th>max</th>\n",
       "      <td>13016.000000</td>\n",
       "      <td>13790.000000</td>\n",
       "      <td>25.000000</td>\n",
       "      <td>7.000000</td>\n",
       "    </tr>\n",
       "  </tbody>\n",
       "</table>\n",
       "</div>"
      ],
      "text/plain": [
       "             person        office  community    library\n",
       "count     44.000000     44.000000  44.000000  44.000000\n",
       "mean    2020.318182   2791.704545   6.068182   1.454545\n",
       "std     2450.040387   2560.774497   5.923535   1.354657\n",
       "min      148.000000    379.000000   0.000000   0.000000\n",
       "25%      674.500000   1322.500000   1.000000   1.000000\n",
       "50%     1296.500000   1983.500000   4.000000   1.000000\n",
       "75%     2256.500000   3115.000000   9.000000   2.000000\n",
       "max    13016.000000  13790.000000  25.000000   7.000000"
      ]
     },
     "execution_count": 5,
     "metadata": {},
     "output_type": "execute_result"
    }
   ],
   "source": [
    "office_data.describe()"
   ]
  },
  {
   "cell_type": "code",
   "execution_count": 6,
   "metadata": {},
   "outputs": [
    {
     "data": {
      "text/html": [
       "<div>\n",
       "<style scoped>\n",
       "    .dataframe tbody tr th:only-of-type {\n",
       "        vertical-align: middle;\n",
       "    }\n",
       "\n",
       "    .dataframe tbody tr th {\n",
       "        vertical-align: top;\n",
       "    }\n",
       "\n",
       "    .dataframe thead th {\n",
       "        text-align: right;\n",
       "    }\n",
       "</style>\n",
       "<table border=\"1\" class=\"dataframe\">\n",
       "  <thead>\n",
       "    <tr style=\"text-align: right;\">\n",
       "      <th></th>\n",
       "      <th>階級値</th>\n",
       "      <th>度数</th>\n",
       "      <th>相対度数</th>\n",
       "      <th>累積度数</th>\n",
       "      <th>相対累積度数</th>\n",
       "    </tr>\n",
       "  </thead>\n",
       "  <tbody>\n",
       "    <tr>\n",
       "      <th>(-0.001, 1000.0]</th>\n",
       "      <td>500.0</td>\n",
       "      <td>5</td>\n",
       "      <td>0.116279</td>\n",
       "      <td>5</td>\n",
       "      <td>0.116279</td>\n",
       "    </tr>\n",
       "    <tr>\n",
       "      <th>(1000.0, 2000.0]</th>\n",
       "      <td>1500.0</td>\n",
       "      <td>18</td>\n",
       "      <td>0.418605</td>\n",
       "      <td>23</td>\n",
       "      <td>0.534884</td>\n",
       "    </tr>\n",
       "    <tr>\n",
       "      <th>(2000.0, 3000.0]</th>\n",
       "      <td>2500.0</td>\n",
       "      <td>9</td>\n",
       "      <td>0.209302</td>\n",
       "      <td>32</td>\n",
       "      <td>0.744186</td>\n",
       "    </tr>\n",
       "    <tr>\n",
       "      <th>(3000.0, 4000.0]</th>\n",
       "      <td>3500.0</td>\n",
       "      <td>4</td>\n",
       "      <td>0.093023</td>\n",
       "      <td>36</td>\n",
       "      <td>0.837209</td>\n",
       "    </tr>\n",
       "    <tr>\n",
       "      <th>(4000.0, 5000.0]</th>\n",
       "      <td>4500.0</td>\n",
       "      <td>2</td>\n",
       "      <td>0.046512</td>\n",
       "      <td>38</td>\n",
       "      <td>0.883721</td>\n",
       "    </tr>\n",
       "    <tr>\n",
       "      <th>(5000.0, 10000.0]</th>\n",
       "      <td>7500.0</td>\n",
       "      <td>5</td>\n",
       "      <td>0.116279</td>\n",
       "      <td>43</td>\n",
       "      <td>1.000000</td>\n",
       "    </tr>\n",
       "  </tbody>\n",
       "</table>\n",
       "</div>"
      ],
      "text/plain": [
       "                      階級値  度数      相対度数  累積度数    相対累積度数\n",
       "(-0.001, 1000.0]    500.0   5  0.116279     5  0.116279\n",
       "(1000.0, 2000.0]   1500.0  18  0.418605    23  0.534884\n",
       "(2000.0, 3000.0]   2500.0   9  0.209302    32  0.744186\n",
       "(3000.0, 4000.0]   3500.0   4  0.093023    36  0.837209\n",
       "(4000.0, 5000.0]   4500.0   2  0.046512    38  0.883721\n",
       "(5000.0, 10000.0]  7500.0   5  0.116279    43  1.000000"
      ]
     },
     "execution_count": 6,
     "metadata": {},
     "output_type": "execute_result"
    }
   ],
   "source": [
    "bins = np.array([0, 1000, 2000, 3000, 4000, 5000, 10000])\n",
    "freq = office_data[\"office\"].value_counts(bins=bins, sort=False)\n",
    "hist_data = pd.DataFrame(\n",
    "    {\n",
    "        \"階級値\": (bins[:-1] + bins[1:]) / 2,\n",
    "        \"度数\": freq.values,\n",
    "        \"相対度数\": freq.values / freq.sum(),\n",
    "        \"累積度数\": freq.values.cumsum(),\n",
    "        \"相対累積度数\": freq.values.cumsum() / freq.sum(),\n",
    "    },\n",
    "    index=freq.index,\n",
    ")\n",
    "hist_data"
   ]
  },
  {
   "cell_type": "code",
   "execution_count": 96,
   "metadata": {},
   "outputs": [
    {
     "data": {
      "text/plain": [
       "<Axes: xlabel='階級値'>"
      ]
     },
     "execution_count": 96,
     "metadata": {},
     "output_type": "execute_result"
    },
    {
     "data": {
      "text/plain": [
       "<Figure size 1000x300 with 0 Axes>"
      ]
     },
     "metadata": {},
     "output_type": "display_data"
    },
    {
     "data": {
      "image/png": "[encoded data removed]",
      "text/plain": [
       "<Figure size 400x300 with 1 Axes>"
      ]
     },
     "metadata": {},
     "output_type": "display_data"
    }
   ],
   "source": [
    "plt.figure(figsize=(10, 3))\n",
    "hist_data.plot.bar(x='階級値', y='度数', width=1, ec='k', lw=1, figsize=(4, 3))\n"
   ]
  },
  {
   "cell_type": "code",
   "execution_count": 8,
   "metadata": {},
   "outputs": [
    {
     "data": {
      "text/plain": [
       "<Axes: >"
      ]
     },
     "execution_count": 8,
     "metadata": {},
     "output_type": "execute_result"
    },
    {
     "data": {
      "image/png": "[encoded data removed]",
      "text/plain": [
       "<Figure size 600x300 with 1 Axes>"
      ]
     },
     "metadata": {},
     "output_type": "display_data"
    }
   ],
   "source": [
    "plt.figure(figsize=(6, 3))\n",
    "office_data['office'].hist(bins=bins, ec='k', lw=1)"
   ]
  },
  {
   "cell_type": "code",
   "execution_count": 15,
   "metadata": {},
   "outputs": [
    {
     "data": {
      "text/html": [
       "<style type=\"text/css\">\n",
       "</style>\n",
       "<table id=\"T_8ef1a\">\n",
       "  <thead>\n",
       "    <tr>\n",
       "      <th class=\"blank level0\" >&nbsp;</th>\n",
       "      <th id=\"T_8ef1a_level0_col0\" class=\"col_heading level0 col0\" >person</th>\n",
       "      <th id=\"T_8ef1a_level0_col1\" class=\"col_heading level0 col1\" >office</th>\n",
       "      <th id=\"T_8ef1a_level0_col2\" class=\"col_heading level0 col2\" >community</th>\n",
       "      <th id=\"T_8ef1a_level0_col3\" class=\"col_heading level0 col3\" >library</th>\n",
       "    </tr>\n",
       "    <tr>\n",
       "      <th class=\"index_name level0\" >area</th>\n",
       "      <th class=\"blank col0\" >&nbsp;</th>\n",
       "      <th class=\"blank col1\" >&nbsp;</th>\n",
       "      <th class=\"blank col2\" >&nbsp;</th>\n",
       "      <th class=\"blank col3\" >&nbsp;</th>\n",
       "    </tr>\n",
       "  </thead>\n",
       "  <tbody>\n",
       "    <tr>\n",
       "      <th id=\"T_8ef1a_level0_row0\" class=\"row_heading level0 row0\" >A</th>\n",
       "      <td id=\"T_8ef1a_row0_col0\" class=\"data row0 col0\" >1227.5</td>\n",
       "      <td id=\"T_8ef1a_row0_col1\" class=\"data row0 col1\" >2604.8</td>\n",
       "      <td id=\"T_8ef1a_row0_col2\" class=\"data row0 col2\" >10.3</td>\n",
       "      <td id=\"T_8ef1a_row0_col3\" class=\"data row0 col3\" >1.3</td>\n",
       "    </tr>\n",
       "    <tr>\n",
       "      <th id=\"T_8ef1a_level0_row1\" class=\"row_heading level0 row1\" >B</th>\n",
       "      <td id=\"T_8ef1a_row1_col0\" class=\"data row1 col0\" >2525.1</td>\n",
       "      <td id=\"T_8ef1a_row1_col1\" class=\"data row1 col1\" >3473.0</td>\n",
       "      <td id=\"T_8ef1a_row1_col2\" class=\"data row1 col2\" >3.3</td>\n",
       "      <td id=\"T_8ef1a_row1_col3\" class=\"data row1 col3\" >2.1</td>\n",
       "    </tr>\n",
       "    <tr>\n",
       "      <th id=\"T_8ef1a_level0_row2\" class=\"row_heading level0 row2\" >C</th>\n",
       "      <td id=\"T_8ef1a_row2_col0\" class=\"data row2 col0\" >2812.8</td>\n",
       "      <td id=\"T_8ef1a_row2_col1\" class=\"data row2 col1\" >2676.1</td>\n",
       "      <td id=\"T_8ef1a_row2_col2\" class=\"data row2 col2\" >5.2</td>\n",
       "      <td id=\"T_8ef1a_row2_col3\" class=\"data row2 col3\" >1.4</td>\n",
       "    </tr>\n",
       "    <tr>\n",
       "      <th id=\"T_8ef1a_level0_row3\" class=\"row_heading level0 row3\" >D</th>\n",
       "      <td id=\"T_8ef1a_row3_col0\" class=\"data row3 col0\" >1207.8</td>\n",
       "      <td id=\"T_8ef1a_row3_col1\" class=\"data row3 col1\" >2674.6</td>\n",
       "      <td id=\"T_8ef1a_row3_col2\" class=\"data row3 col2\" >6.3</td>\n",
       "      <td id=\"T_8ef1a_row3_col3\" class=\"data row3 col3\" >1.0</td>\n",
       "    </tr>\n",
       "    <tr>\n",
       "      <th id=\"T_8ef1a_level0_row4\" class=\"row_heading level0 row4\" >E</th>\n",
       "      <td id=\"T_8ef1a_row4_col0\" class=\"data row4 col0\" >1469.2</td>\n",
       "      <td id=\"T_8ef1a_row4_col1\" class=\"data row4 col1\" >2347.6</td>\n",
       "      <td id=\"T_8ef1a_row4_col2\" class=\"data row4 col2\" >7.8</td>\n",
       "      <td id=\"T_8ef1a_row4_col3\" class=\"data row4 col3\" >1.4</td>\n",
       "    </tr>\n",
       "  </tbody>\n",
       "</table>\n"
      ],
      "text/plain": [
       "<pandas.io.formats.style.Styler at 0x1fec8cdf6a0>"
      ]
     },
     "execution_count": 15,
     "metadata": {},
     "output_type": "execute_result"
    }
   ],
   "source": [
    "office_data.groupby('area').mean().style.format('{:.01f}')"
   ]
  },
  {
   "cell_type": "code",
   "execution_count": 21,
   "metadata": {},
   "outputs": [
    {
     "data": {
      "text/plain": [
       "3483"
      ]
     },
     "execution_count": 21,
     "metadata": {},
     "output_type": "execute_result"
    }
   ],
   "source": [
    "office_data['person'][office_data['area'] == 'A'].max() - office_data['person'][office_data['area'] == 'A'].min()"
   ]
  },
  {
   "cell_type": "code",
   "execution_count": 43,
   "metadata": {},
   "outputs": [
    {
     "data": {
      "text/html": [
       "<div>\n",
       "<style scoped>\n",
       "    .dataframe tbody tr th:only-of-type {\n",
       "        vertical-align: middle;\n",
       "    }\n",
       "\n",
       "    .dataframe tbody tr th {\n",
       "        vertical-align: top;\n",
       "    }\n",
       "\n",
       "    .dataframe thead th {\n",
       "        text-align: right;\n",
       "    }\n",
       "</style>\n",
       "<table border=\"1\" class=\"dataframe\">\n",
       "  <thead>\n",
       "    <tr style=\"text-align: right;\">\n",
       "      <th></th>\n",
       "      <th>25%</th>\n",
       "      <th>50%</th>\n",
       "      <th>75%</th>\n",
       "      <th>count</th>\n",
       "      <th>max</th>\n",
       "      <th>mean</th>\n",
       "      <th>min</th>\n",
       "      <th>std</th>\n",
       "    </tr>\n",
       "    <tr>\n",
       "      <th>area</th>\n",
       "      <th></th>\n",
       "      <th></th>\n",
       "      <th></th>\n",
       "      <th></th>\n",
       "      <th></th>\n",
       "      <th></th>\n",
       "      <th></th>\n",
       "      <th></th>\n",
       "    </tr>\n",
       "  </thead>\n",
       "  <tbody>\n",
       "    <tr>\n",
       "      <th>A</th>\n",
       "      <td>1407.50</td>\n",
       "      <td>1883.5</td>\n",
       "      <td>2023.50</td>\n",
       "      <td>6.0</td>\n",
       "      <td>7453.0</td>\n",
       "      <td>2604.833333</td>\n",
       "      <td>1090.0</td>\n",
       "      <td>2405.479363</td>\n",
       "    </tr>\n",
       "    <tr>\n",
       "      <th>B</th>\n",
       "      <td>1274.00</td>\n",
       "      <td>1884.0</td>\n",
       "      <td>3584.00</td>\n",
       "      <td>9.0</td>\n",
       "      <td>13790.0</td>\n",
       "      <td>3473.000000</td>\n",
       "      <td>729.0</td>\n",
       "      <td>4169.207269</td>\n",
       "    </tr>\n",
       "    <tr>\n",
       "      <th>C</th>\n",
       "      <td>1500.75</td>\n",
       "      <td>2012.5</td>\n",
       "      <td>3115.00</td>\n",
       "      <td>14.0</td>\n",
       "      <td>8718.0</td>\n",
       "      <td>2676.071429</td>\n",
       "      <td>379.0</td>\n",
       "      <td>2389.446072</td>\n",
       "    </tr>\n",
       "    <tr>\n",
       "      <th>D</th>\n",
       "      <td>1607.00</td>\n",
       "      <td>2325.5</td>\n",
       "      <td>2983.25</td>\n",
       "      <td>10.0</td>\n",
       "      <td>6265.0</td>\n",
       "      <td>2674.600000</td>\n",
       "      <td>471.0</td>\n",
       "      <td>1757.788649</td>\n",
       "    </tr>\n",
       "    <tr>\n",
       "      <th>E</th>\n",
       "      <td>1686.00</td>\n",
       "      <td>1805.0</td>\n",
       "      <td>2458.00</td>\n",
       "      <td>5.0</td>\n",
       "      <td>4462.0</td>\n",
       "      <td>2347.600000</td>\n",
       "      <td>1327.0</td>\n",
       "      <td>1250.662744</td>\n",
       "    </tr>\n",
       "  </tbody>\n",
       "</table>\n",
       "</div>"
      ],
      "text/plain": [
       "          25%     50%      75%  count      max         mean     min  \\\n",
       "area                                                                  \n",
       "A     1407.50  1883.5  2023.50    6.0   7453.0  2604.833333  1090.0   \n",
       "B     1274.00  1884.0  3584.00    9.0  13790.0  3473.000000   729.0   \n",
       "C     1500.75  2012.5  3115.00   14.0   8718.0  2676.071429   379.0   \n",
       "D     1607.00  2325.5  2983.25   10.0   6265.0  2674.600000   471.0   \n",
       "E     1686.00  1805.0  2458.00    5.0   4462.0  2347.600000  1327.0   \n",
       "\n",
       "              std  \n",
       "area               \n",
       "A     2405.479363  \n",
       "B     4169.207269  \n",
       "C     2389.446072  \n",
       "D     1757.788649  \n",
       "E     1250.662744  "
      ]
     },
     "execution_count": 43,
     "metadata": {},
     "output_type": "execute_result"
    }
   ],
   "source": [
    "describes = office_data.pivot_table(index='area', values='office', aggfunc='describe')\n",
    "describes"
   ]
  },
  {
   "cell_type": "code",
   "execution_count": 88,
   "metadata": {},
   "outputs": [
    {
     "data": {
      "text/plain": [
       "area\n",
       "A     616.00\n",
       "B    2310.00\n",
       "C    1614.25\n",
       "D    1376.25\n",
       "E     772.00\n",
       "dtype: float64"
      ]
     },
     "execution_count": 88,
     "metadata": {},
     "output_type": "execute_result"
    }
   ],
   "source": [
    "describes['75%'] - describes['25%']"
   ]
  },
  {
   "cell_type": "markdown",
   "metadata": {},
   "source": [
    "箱ひげ図"
   ]
  },
  {
   "cell_type": "code",
   "execution_count": 87,
   "metadata": {},
   "outputs": [
    {
     "data": {
      "image/png": "[encoded data removed]",
      "text/plain": [
       "<Figure size 800x300 with 1 Axes>"
      ]
     },
     "metadata": {},
     "output_type": "display_data"
    }
   ],
   "source": [
    "plt.figure(figsize=(8, 3))\n",
    "labels = office_data['area'].unique()\n",
    "data = [np.array(office_data.query(f'area == \"{a}\"')['office']) for a in labels]\n",
    "plt.boxplot(data, labels=labels)\n",
    "plt.title('5つの地域の事業所数')\n",
    "plt.grid()\n",
    "plt.show()"
   ]
  },
  {
   "cell_type": "markdown",
   "metadata": {},
   "source": [
    "変動係数"
   ]
  },
  {
   "cell_type": "code",
   "execution_count": 94,
   "metadata": {},
   "outputs": [
    {
     "data": {
      "text/plain": [
       "area\n",
       "A    0.923468\n",
       "B    1.200463\n",
       "C    0.892893\n",
       "D    0.657216\n",
       "E    0.532741\n",
       "dtype: float64"
      ]
     },
     "execution_count": 94,
     "metadata": {},
     "output_type": "execute_result"
    }
   ],
   "source": [
    "describes['std'] / describes['mean']"
   ]
  },
  {
   "cell_type": "markdown",
   "metadata": {},
   "source": [
    "偏差の計算"
   ]
  },
  {
   "cell_type": "code",
   "execution_count": 134,
   "metadata": {},
   "outputs": [
    {
     "name": "stdout",
     "output_type": "stream",
     "text": [
      "0 sigma: 1.0\n",
      "1 sigma: 0.31731050786291415\n",
      "2 sigma: 0.04550026389635842\n",
      "3 sigma: 0.002699796063260207\n",
      "4 sigma: 6.334248366623996e-05\n",
      "5 sigma: 5.733031438470704e-07\n",
      "6 sigma: 1.973175400848959e-09\n"
     ]
    }
   ],
   "source": [
    "for i in range(7):\n",
    "    print(f'{i} sigma: {(1-stats.norm.cdf(i))*2}')"
   ]
  },
  {
   "cell_type": "markdown",
   "metadata": {},
   "source": [
    "正規分布"
   ]
  },
  {
   "cell_type": "code",
   "execution_count": 148,
   "metadata": {},
   "outputs": [
    {
     "data": {
      "image/png": "[encoded data removed]",
      "text/plain": [
       "<Figure size 600x300 with 1 Axes>"
      ]
     },
     "metadata": {},
     "output_type": "display_data"
    }
   ],
   "source": [
    "plt.figure(figsize=(6, 3))\n",
    "x = np.linspace(-6, 6, 1000)\n",
    "y = stats.norm.pdf(x)\n",
    "plt.plot(x, y, label='norm')\n",
    "plt.grid()\n",
    "plt.legend()\n",
    "plt.show()"
   ]
  },
  {
   "cell_type": "markdown",
   "metadata": {},
   "source": [
    "偏差値の計算"
   ]
  },
  {
   "cell_type": "code",
   "execution_count": 166,
   "metadata": {},
   "outputs": [
    {
     "data": {
      "text/html": [
       "<style type=\"text/css\">\n",
       "</style>\n",
       "<table id=\"T_35ee7\">\n",
       "  <thead>\n",
       "    <tr>\n",
       "      <th class=\"blank level0\" >&nbsp;</th>\n",
       "      <th id=\"T_35ee7_level0_col0\" class=\"col_heading level0 col0\" >得点</th>\n",
       "      <th id=\"T_35ee7_level0_col1\" class=\"col_heading level0 col1\" >偏差</th>\n",
       "      <th id=\"T_35ee7_level0_col2\" class=\"col_heading level0 col2\" >標準得点</th>\n",
       "      <th id=\"T_35ee7_level0_col3\" class=\"col_heading level0 col3\" >偏差値</th>\n",
       "    </tr>\n",
       "  </thead>\n",
       "  <tbody>\n",
       "    <tr>\n",
       "      <th id=\"T_35ee7_level0_row0\" class=\"row_heading level0 row0\" >0</th>\n",
       "      <td id=\"T_35ee7_row0_col0\" class=\"data row0 col0\" >100.00</td>\n",
       "      <td id=\"T_35ee7_row0_col1\" class=\"data row0 col1\" >14.00</td>\n",
       "      <td id=\"T_35ee7_row0_col2\" class=\"data row0 col2\" >1.17</td>\n",
       "      <td id=\"T_35ee7_row0_col3\" class=\"data row0 col3\" >61.67</td>\n",
       "    </tr>\n",
       "    <tr>\n",
       "      <th id=\"T_35ee7_level0_row1\" class=\"row_heading level0 row1\" >1</th>\n",
       "      <td id=\"T_35ee7_row1_col0\" class=\"data row1 col0\" >70.00</td>\n",
       "      <td id=\"T_35ee7_row1_col1\" class=\"data row1 col1\" >-16.00</td>\n",
       "      <td id=\"T_35ee7_row1_col2\" class=\"data row1 col2\" >-1.33</td>\n",
       "      <td id=\"T_35ee7_row1_col3\" class=\"data row1 col3\" >36.67</td>\n",
       "    </tr>\n",
       "    <tr>\n",
       "      <th id=\"T_35ee7_level0_row2\" class=\"row_heading level0 row2\" >2</th>\n",
       "      <td id=\"T_35ee7_row2_col0\" class=\"data row2 col0\" >80.00</td>\n",
       "      <td id=\"T_35ee7_row2_col1\" class=\"data row2 col1\" >-6.00</td>\n",
       "      <td id=\"T_35ee7_row2_col2\" class=\"data row2 col2\" >-0.50</td>\n",
       "      <td id=\"T_35ee7_row2_col3\" class=\"data row2 col3\" >45.00</td>\n",
       "    </tr>\n",
       "    <tr>\n",
       "      <th id=\"T_35ee7_level0_row3\" class=\"row_heading level0 row3\" >3</th>\n",
       "      <td id=\"T_35ee7_row3_col0\" class=\"data row3 col0\" >80.00</td>\n",
       "      <td id=\"T_35ee7_row3_col1\" class=\"data row3 col1\" >-6.00</td>\n",
       "      <td id=\"T_35ee7_row3_col2\" class=\"data row3 col2\" >-0.50</td>\n",
       "      <td id=\"T_35ee7_row3_col3\" class=\"data row3 col3\" >45.00</td>\n",
       "    </tr>\n",
       "    <tr>\n",
       "      <th id=\"T_35ee7_level0_row4\" class=\"row_heading level0 row4\" >4</th>\n",
       "      <td id=\"T_35ee7_row4_col0\" class=\"data row4 col0\" >100.00</td>\n",
       "      <td id=\"T_35ee7_row4_col1\" class=\"data row4 col1\" >14.00</td>\n",
       "      <td id=\"T_35ee7_row4_col2\" class=\"data row4 col2\" >1.17</td>\n",
       "      <td id=\"T_35ee7_row4_col3\" class=\"data row4 col3\" >61.67</td>\n",
       "    </tr>\n",
       "  </tbody>\n",
       "</table>\n"
      ],
      "text/plain": [
       "<pandas.io.formats.style.Styler at 0x1fee3f26830>"
      ]
     },
     "execution_count": 166,
     "metadata": {},
     "output_type": "execute_result"
    }
   ],
   "source": [
    "test_result = np.array([100, 70, 80, 80, 100])\n",
    "deviation = test_result - test_result.mean()\n",
    "std_score = deviation / test_result.std(ddof=0)\n",
    "hensachi = std_score * 10 + 50\n",
    "df_hensachi = pd.DataFrame(\n",
    "    [test_result, deviation, std_score, hensachi],\n",
    "    ).T\n",
    "df_hensachi.columns = ['得点', '偏差', '標準得点', '偏差値']\n",
    "df_hensachi.style.format('{:.02f}')"
   ]
  },
  {
   "cell_type": "markdown",
   "metadata": {},
   "source": []
  }
 ],
 "metadata": {
  "kernelspec": {
   "display_name": "Python 3",
   "language": "python",
   "name": "python3"
  },
  "language_info": {
   "codemirror_mode": {
    "name": "ipython",
    "version": 3
   },
   "file_extension": ".py",
   "mimetype": "text/x-python",
   "name": "python",
   "nbconvert_exporter": "python",
   "pygments_lexer": "ipython3",
   "version": "3.10.9"
  }
 },
 "nbformat": 4,
 "nbformat_minor": 2
}
