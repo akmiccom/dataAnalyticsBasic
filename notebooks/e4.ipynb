{
 "cells": [
  {
   "cell_type": "code",
   "execution_count": 25,
   "metadata": {},
   "outputs": [],
   "source": [
    "import pandas as pd\n",
    "import numpy as np\n",
    "import matplotlib.pyplot as plt\n",
    "import japanize_matplotlib\n",
    "from glob import glob\n",
    "from scipy import stats  \n",
    "import seaborn as sns\n",
    "import statsmodels.api as sm"
   ]
  },
  {
   "cell_type": "code",
   "execution_count": 2,
   "metadata": {},
   "outputs": [
    {
     "name": "stdout",
     "output_type": "stream",
     "text": [
      "0 ../csv/演習問題_データアナリティクス基礎\\第10章演習問題_乱数で発生させて分布の基本統計量.xlsx\n",
      "1 ../csv/演習問題_データアナリティクス基礎\\第2章演習問題_クレームデータ.xlsx\n",
      "2 ../csv/演習問題_データアナリティクス基礎\\第3章演習問題_職場ストレス.xlsx\n",
      "3 ../csv/演習問題_データアナリティクス基礎\\第4章演習問題_児童のネット利用時間.xlsx\n",
      "4 ../csv/演習問題_データアナリティクス基礎\\第5章演習問題_生鮮野菜の購入額.xlsx\n",
      "5 ../csv/演習問題_データアナリティクス基礎\\第7章演習問題_授業効果の検証.xlsx\n",
      "6 ../csv/演習問題_データアナリティクス基礎\\第8章演習問題1_健康食品・化粧品販売額.xlsx\n",
      "7 ../csv/演習問題_データアナリティクス基礎\\第8章演習問題2_百貨店の衣料品売上高.xlsx\n",
      "8 ../csv/演習問題_データアナリティクス基礎\\第9章演習問題_自由記述データ＆形態素解析データ.xlsx\n"
     ]
    }
   ],
   "source": [
    "files = glob(\"../csv/演習問題_データアナリティクス基礎/*\")\n",
    "for i, f in enumerate(files):\n",
    "    print(i, f)\n"
   ]
  },
  {
   "cell_type": "code",
   "execution_count": 3,
   "metadata": {},
   "outputs": [
    {
     "name": "stdout",
     "output_type": "stream",
     "text": [
      "Index(['地域ID', '面積（㎢）', '人口（人）', 'キャベツ（円）', 'ほうれんそう（円）', 'はくさい（円）', 'ねぎ（円）',\n",
      "       'レタス（円）'],\n",
      "      dtype='object')\n",
      "<class 'pandas.core.frame.DataFrame'>\n",
      "RangeIndex: 52 entries, 0 to 51\n",
      "Data columns (total 8 columns):\n",
      " #   Column     Non-Null Count  Dtype  \n",
      "---  ------     --------------  -----  \n",
      " 0   地域ID       52 non-null     int64  \n",
      " 1   面積（㎢）      52 non-null     float64\n",
      " 2   人口（人）      52 non-null     int64  \n",
      " 3   キャベツ（円）    52 non-null     int64  \n",
      " 4   ほうれんそう（円）  52 non-null     int64  \n",
      " 5   はくさい（円）    52 non-null     int64  \n",
      " 6   ねぎ（円）      52 non-null     int64  \n",
      " 7   レタス（円）     52 non-null     int64  \n",
      "dtypes: float64(1), int64(7)\n",
      "memory usage: 3.4 KB\n"
     ]
    },
    {
     "data": {
      "text/html": [
       "<div>\n",
       "<style scoped>\n",
       "    .dataframe tbody tr th:only-of-type {\n",
       "        vertical-align: middle;\n",
       "    }\n",
       "\n",
       "    .dataframe tbody tr th {\n",
       "        vertical-align: top;\n",
       "    }\n",
       "\n",
       "    .dataframe thead th {\n",
       "        text-align: right;\n",
       "    }\n",
       "</style>\n",
       "<table border=\"1\" class=\"dataframe\">\n",
       "  <thead>\n",
       "    <tr style=\"text-align: right;\">\n",
       "      <th></th>\n",
       "      <th>地域ID</th>\n",
       "      <th>面積（㎢）</th>\n",
       "      <th>人口（人）</th>\n",
       "      <th>キャベツ（円）</th>\n",
       "      <th>ほうれんそう（円）</th>\n",
       "      <th>はくさい（円）</th>\n",
       "      <th>ねぎ（円）</th>\n",
       "      <th>レタス（円）</th>\n",
       "    </tr>\n",
       "  </thead>\n",
       "  <tbody>\n",
       "    <tr>\n",
       "      <th>0</th>\n",
       "      <td>1</td>\n",
       "      <td>886.47</td>\n",
       "      <td>275192</td>\n",
       "      <td>3348</td>\n",
       "      <td>3222</td>\n",
       "      <td>1244</td>\n",
       "      <td>2925</td>\n",
       "      <td>2128</td>\n",
       "    </tr>\n",
       "    <tr>\n",
       "      <th>1</th>\n",
       "      <td>2</td>\n",
       "      <td>437.71</td>\n",
       "      <td>3777491</td>\n",
       "      <td>3370</td>\n",
       "      <td>2585</td>\n",
       "      <td>1360</td>\n",
       "      <td>3891</td>\n",
       "      <td>3082</td>\n",
       "    </tr>\n",
       "    <tr>\n",
       "      <th>2</th>\n",
       "      <td>3</td>\n",
       "      <td>1241.74</td>\n",
       "      <td>262328</td>\n",
       "      <td>3247</td>\n",
       "      <td>2813</td>\n",
       "      <td>1499</td>\n",
       "      <td>3018</td>\n",
       "      <td>2456</td>\n",
       "    </tr>\n",
       "    <tr>\n",
       "      <th>3</th>\n",
       "      <td>4</td>\n",
       "      <td>627.63</td>\n",
       "      <td>9733276</td>\n",
       "      <td>3124</td>\n",
       "      <td>2479</td>\n",
       "      <td>1346</td>\n",
       "      <td>4072</td>\n",
       "      <td>3256</td>\n",
       "    </tr>\n",
       "    <tr>\n",
       "      <th>4</th>\n",
       "      <td>5</td>\n",
       "      <td>271.78</td>\n",
       "      <td>332149</td>\n",
       "      <td>2978</td>\n",
       "      <td>2752</td>\n",
       "      <td>1332</td>\n",
       "      <td>3786</td>\n",
       "      <td>2991</td>\n",
       "    </tr>\n",
       "  </tbody>\n",
       "</table>\n",
       "</div>"
      ],
      "text/plain": [
       "   地域ID    面積（㎢）    人口（人）  キャベツ（円）  ほうれんそう（円）  はくさい（円）  ねぎ（円）  レタス（円）\n",
       "0     1   886.47   275192     3348       3222     1244   2925    2128\n",
       "1     2   437.71  3777491     3370       2585     1360   3891    3082\n",
       "2     3  1241.74   262328     3247       2813     1499   3018    2456\n",
       "3     4   627.63  9733276     3124       2479     1346   4072    3256\n",
       "4     5   271.78   332149     2978       2752     1332   3786    2991"
      ]
     },
     "execution_count": 3,
     "metadata": {},
     "output_type": "execute_result"
    }
   ],
   "source": [
    "df = pd.read_excel(files[4])\n",
    "print(df.columns)\n",
    "# df.columns = ['id', 'volume', 'population', 'cabbage', 'spinach', 'chinese_cabbage', 'green_onion', 'lettuce']\n",
    "df.info()\n",
    "df.head()"
   ]
  },
  {
   "cell_type": "markdown",
   "metadata": {},
   "source": [
    "面積と人口の相関係数: 0.03"
   ]
  },
  {
   "cell_type": "code",
   "execution_count": 4,
   "metadata": {},
   "outputs": [
    {
     "data": {
      "text/html": [
       "<div>\n",
       "<style scoped>\n",
       "    .dataframe tbody tr th:only-of-type {\n",
       "        vertical-align: middle;\n",
       "    }\n",
       "\n",
       "    .dataframe tbody tr th {\n",
       "        vertical-align: top;\n",
       "    }\n",
       "\n",
       "    .dataframe thead th {\n",
       "        text-align: right;\n",
       "    }\n",
       "</style>\n",
       "<table border=\"1\" class=\"dataframe\">\n",
       "  <thead>\n",
       "    <tr style=\"text-align: right;\">\n",
       "      <th></th>\n",
       "      <th>面積（㎢）</th>\n",
       "      <th>人口（人）</th>\n",
       "    </tr>\n",
       "  </thead>\n",
       "  <tbody>\n",
       "    <tr>\n",
       "      <th>面積（㎢）</th>\n",
       "      <td>1.000000</td>\n",
       "      <td>0.032603</td>\n",
       "    </tr>\n",
       "    <tr>\n",
       "      <th>人口（人）</th>\n",
       "      <td>0.032603</td>\n",
       "      <td>1.000000</td>\n",
       "    </tr>\n",
       "  </tbody>\n",
       "</table>\n",
       "</div>"
      ],
      "text/plain": [
       "          面積（㎢）     人口（人）\n",
       "面積（㎢）  1.000000  0.032603\n",
       "人口（人）  0.032603  1.000000"
      ]
     },
     "execution_count": 4,
     "metadata": {},
     "output_type": "execute_result"
    }
   ],
   "source": [
    "df[['面積（㎢）', '人口（人）']].corr()"
   ]
  },
  {
   "cell_type": "markdown",
   "metadata": {},
   "source": [
    "レタスとキャベツの散布図 : 1"
   ]
  },
  {
   "cell_type": "code",
   "execution_count": 24,
   "metadata": {},
   "outputs": [
    {
     "name": "stderr",
     "output_type": "stream",
     "text": [
      "c:\\Users\\jy810251\\AppData\\Local\\Programs\\Python\\Python310\\lib\\site-packages\\seaborn\\axisgrid.py:123: UserWarning: The figure layout has changed to tight\n",
      "  self._figure.tight_layout(*args, **kwargs)\n"
     ]
    },
    {
     "data": {
      "image/png": "[encoded data removed]",
      "text/plain": [
       "<Figure size 500x500 with 6 Axes>"
      ]
     },
     "metadata": {},
     "output_type": "display_data"
    }
   ],
   "source": [
    "columns = [\n",
    "    \"キャベツ（円）\",\n",
    "    # \"ほうれんそう（円）\",\n",
    "    # \"はくさい（円）\",\n",
    "    # \"ねぎ（円）\",\n",
    "    \"レタス（円）\",\n",
    "]\n",
    "sns.pairplot(df[columns])\n",
    "plt.show()"
   ]
  },
  {
   "cell_type": "markdown",
   "metadata": {},
   "source": [
    "人口密度を従属変数、レタスの購入金額を独立変数とした回帰分析\n",
    "- レタスの購入金額が1円上がると、人口密度は 4.92 人上昇する"
   ]
  },
  {
   "cell_type": "code",
   "execution_count": 62,
   "metadata": {},
   "outputs": [
    {
     "name": "stdout",
     "output_type": "stream",
     "text": [
      "                            OLS Regression Results                            \n",
      "==============================================================================\n",
      "Dep. Variable:                      y   R-squared:                       0.243\n",
      "Model:                            OLS   Adj. R-squared:                  0.228\n",
      "No. Observations:                  52   F-statistic:                     16.05\n",
      "Covariance Type:            nonrobust   Prob (F-statistic):           0.000205\n",
      "==============================================================================\n",
      "                 coef    std err          t      P>|t|      [0.025      0.975]\n",
      "------------------------------------------------------------------------------\n",
      "const       -1.02e+04   3115.399     -3.273      0.002   -1.65e+04   -3940.203\n",
      "レタス（円）         4.9167      1.227      4.007      0.000       2.452       7.381\n",
      "==============================================================================\n",
      "\n",
      "Notes:\n",
      "[1] Standard Errors assume that the covariance matrix of the errors is correctly specified.\n",
      "[2] The condition number is large, 2.07e+04. This might indicate that there are\n",
      "strong multicollinearity or other numerical problems.\n"
     ]
    }
   ],
   "source": [
    "y = df['人口（人）'] / df['面積（㎢）']\n",
    "x = df['レタス（円）']\n",
    "X = sm.add_constant(x)\n",
    "result = sm.OLS(y, X).fit()\n",
    "# print(result.summary().tables[0])\n",
    "# print(result.summary().tables[1])\n",
    "# print(result.summary().tables[2])\n",
    "print(result.summary(slim=True))"
   ]
  },
  {
   "cell_type": "code",
   "execution_count": 77,
   "metadata": {},
   "outputs": [
    {
     "data": {
      "text/plain": [
       "[<matplotlib.lines.Line2D at 0x202e72e5f60>]"
      ]
     },
     "execution_count": 77,
     "metadata": {},
     "output_type": "execute_result"
    },
    {
     "data": {
      "image/png": "[encoded data removed]",
      "text/plain": [
       "<Figure size 400x300 with 1 Axes>"
      ]
     },
     "metadata": {},
     "output_type": "display_data"
    }
   ],
   "source": [
    "plt.figure(figsize=(4, 3))\n",
    "plt.scatter(x, y, marker='.')\n",
    "y_hat = result.fittedvalues\n",
    "plt.plot(x, y_hat, color='r')"
   ]
  },
  {
   "cell_type": "markdown",
   "metadata": {},
   "source": [
    "レタスが3000円の時の人口密度の予測値: 4552.34 円"
   ]
  },
  {
   "cell_type": "code",
   "execution_count": 69,
   "metadata": {},
   "outputs": [
    {
     "name": "stdout",
     "output_type": "stream",
     "text": [
      "4552.34\n"
     ]
    }
   ],
   "source": [
    "x_1 = 3000\n",
    "y_1 = result.params[0] + result.params[1] * x_1\n",
    "print(f'{y_1:.02f}')"
   ]
  },
  {
   "cell_type": "markdown",
   "metadata": {},
   "source": [
    "もっとも残差が大きい地域ID: 4"
   ]
  },
  {
   "cell_type": "code",
   "execution_count": 88,
   "metadata": {},
   "outputs": [
    {
     "data": {
      "text/html": [
       "<div>\n",
       "<style scoped>\n",
       "    .dataframe tbody tr th:only-of-type {\n",
       "        vertical-align: middle;\n",
       "    }\n",
       "\n",
       "    .dataframe tbody tr th {\n",
       "        vertical-align: top;\n",
       "    }\n",
       "\n",
       "    .dataframe thead th {\n",
       "        text-align: right;\n",
       "    }\n",
       "</style>\n",
       "<table border=\"1\" class=\"dataframe\">\n",
       "  <thead>\n",
       "    <tr style=\"text-align: right;\">\n",
       "      <th></th>\n",
       "      <th>地域ID</th>\n",
       "      <th>面積（㎢）</th>\n",
       "      <th>人口（人）</th>\n",
       "      <th>キャベツ（円）</th>\n",
       "      <th>ほうれんそう（円）</th>\n",
       "      <th>はくさい（円）</th>\n",
       "      <th>ねぎ（円）</th>\n",
       "      <th>レタス（円）</th>\n",
       "      <th>error</th>\n",
       "    </tr>\n",
       "  </thead>\n",
       "  <tbody>\n",
       "    <tr>\n",
       "      <th>3</th>\n",
       "      <td>4</td>\n",
       "      <td>627.63</td>\n",
       "      <td>9733276</td>\n",
       "      <td>3124</td>\n",
       "      <td>2479</td>\n",
       "      <td>1346</td>\n",
       "      <td>4072</td>\n",
       "      <td>3256</td>\n",
       "      <td>9696.977664</td>\n",
       "    </tr>\n",
       "    <tr>\n",
       "      <th>25</th>\n",
       "      <td>26</td>\n",
       "      <td>41.42</td>\n",
       "      <td>413938</td>\n",
       "      <td>3106</td>\n",
       "      <td>1995</td>\n",
       "      <td>1208</td>\n",
       "      <td>2490</td>\n",
       "      <td>2773</td>\n",
       "      <td>6557.418979</td>\n",
       "    </tr>\n",
       "    <tr>\n",
       "      <th>6</th>\n",
       "      <td>7</td>\n",
       "      <td>143.01</td>\n",
       "      <td>1538262</td>\n",
       "      <td>3239</td>\n",
       "      <td>2280</td>\n",
       "      <td>1307</td>\n",
       "      <td>3703</td>\n",
       "      <td>2962</td>\n",
       "      <td>6390.818859</td>\n",
       "    </tr>\n",
       "    <tr>\n",
       "      <th>41</th>\n",
       "      <td>42</td>\n",
       "      <td>311.59</td>\n",
       "      <td>2752412</td>\n",
       "      <td>2781</td>\n",
       "      <td>1640</td>\n",
       "      <td>974</td>\n",
       "      <td>2402</td>\n",
       "      <td>2602</td>\n",
       "      <td>6237.936078</td>\n",
       "    </tr>\n",
       "    <tr>\n",
       "      <th>1</th>\n",
       "      <td>2</td>\n",
       "      <td>437.71</td>\n",
       "      <td>3777491</td>\n",
       "      <td>3370</td>\n",
       "      <td>2585</td>\n",
       "      <td>1360</td>\n",
       "      <td>3891</td>\n",
       "      <td>3082</td>\n",
       "      <td>3674.616620</td>\n",
       "    </tr>\n",
       "  </tbody>\n",
       "</table>\n",
       "</div>"
      ],
      "text/plain": [
       "    地域ID   面積（㎢）    人口（人）  キャベツ（円）  ほうれんそう（円）  はくさい（円）  ねぎ（円）  レタス（円）  \\\n",
       "3      4  627.63  9733276     3124       2479     1346   4072    3256   \n",
       "25    26   41.42   413938     3106       1995     1208   2490    2773   \n",
       "6      7  143.01  1538262     3239       2280     1307   3703    2962   \n",
       "41    42  311.59  2752412     2781       1640      974   2402    2602   \n",
       "1      2  437.71  3777491     3370       2585     1360   3891    3082   \n",
       "\n",
       "          error  \n",
       "3   9696.977664  \n",
       "25  6557.418979  \n",
       "6   6390.818859  \n",
       "41  6237.936078  \n",
       "1   3674.616620  "
      ]
     },
     "execution_count": 88,
     "metadata": {},
     "output_type": "execute_result"
    }
   ],
   "source": [
    "df['error'] = (y - y_hat)\n",
    "df.sort_values(by='error', ascending=False).head()"
   ]
  },
  {
   "cell_type": "code",
   "execution_count": 71,
   "metadata": {},
   "outputs": [
    {
     "data": {
      "text/plain": [
       "array([ 265.00455352, 4955.50606358, 1877.67173936, 5811.006339  ,\n",
       "       4508.08925287, 2974.08875901, 4365.50587363, 5162.00613006,\n",
       "       2915.08874002, 3185.50549374, 4513.00592112, 3151.088816  ,\n",
       "       2300.50520883, 1803.92171562,  501.00462949,  584.58798974,\n",
       "       5938.83971348, 2448.00525631, 3342.83887773, 3431.33890622,\n",
       "       3396.92222847, 2108.75514709, -202.07893019, 2536.5052848 ,\n",
       "       1636.75499514, 3436.25557447, 1499.08828415,  810.75472921,\n",
       "       1843.25506162, 2831.50537978, -147.99557945, 2393.92190557,\n",
       "       2064.50513285, 3278.92219048, 1548.25496665,  746.83804197,\n",
       "        923.83809895, 2821.67204328, 1189.33818443, 1400.75491916,\n",
       "       1454.8382699 , 2595.5053038 ,  314.17123601, 1086.08815119,\n",
       "       2020.2551186 ,  987.7547862 , 1858.00506637,  156.83785203,\n",
       "        914.00476246,  717.33803247, 2118.58848359, -467.57901567])"
      ]
     },
     "execution_count": 71,
     "metadata": {},
     "output_type": "execute_result"
    }
   ],
   "source": [
    "result.predict()"
   ]
  }
 ],
 "metadata": {
  "kernelspec": {
   "display_name": "Python 3",
   "language": "python",
   "name": "python3"
  },
  "language_info": {
   "codemirror_mode": {
    "name": "ipython",
    "version": 3
   },
   "file_extension": ".py",
   "mimetype": "text/x-python",
   "name": "python",
   "nbconvert_exporter": "python",
   "pygments_lexer": "ipython3",
   "version": "3.10.9"
  }
 },
 "nbformat": 4,
 "nbformat_minor": 2
}
