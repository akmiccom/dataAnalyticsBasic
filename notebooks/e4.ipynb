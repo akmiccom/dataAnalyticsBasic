{
 "cells": [
  {
   "cell_type": "code",
   "execution_count": 1,
   "metadata": {},
   "outputs": [],
   "source": [
    "from glob import glob\n",
    "import pandas as pd\n",
    "import numpy as np\n",
    "from scipy import stats  \n",
    "import matplotlib.pyplot as plt\n",
    "import japanize_matplotlib"
   ]
  },
  {
   "cell_type": "code",
   "execution_count": 3,
   "metadata": {},
   "outputs": [
    {
     "name": "stdout",
     "output_type": "stream",
     "text": [
      "0 ../csv/演習問題_データアナリティクス基礎\\第10章演習問題_乱数で発生させて分布の基本統計量.xlsx\n",
      "1 ../csv/演習問題_データアナリティクス基礎\\第2章演習問題_クレームデータ.xlsx\n",
      "2 ../csv/演習問題_データアナリティクス基礎\\第3章演習問題_職場ストレス.xlsx\n",
      "3 ../csv/演習問題_データアナリティクス基礎\\第4章演習問題_児童のネット利用時間.xlsx\n",
      "4 ../csv/演習問題_データアナリティクス基礎\\第5章演習問題_生鮮野菜の購入額.xlsx\n",
      "5 ../csv/演習問題_データアナリティクス基礎\\第7章演習問題_授業効果の検証.xlsx\n",
      "6 ../csv/演習問題_データアナリティクス基礎\\第8章演習問題1_健康食品・化粧品販売額.xlsx\n",
      "7 ../csv/演習問題_データアナリティクス基礎\\第8章演習問題2_百貨店の衣料品売上高.xlsx\n",
      "8 ../csv/演習問題_データアナリティクス基礎\\第9章演習問題_自由記述データ＆形態素解析データ.xlsx\n"
     ]
    }
   ],
   "source": [
    "files = glob(\"../csv/演習問題_データアナリティクス基礎/*\")\n",
    "for i, f in enumerate(files):\n",
    "    print(i, f)\n"
   ]
  },
  {
   "cell_type": "code",
   "execution_count": 6,
   "metadata": {},
   "outputs": [
    {
     "name": "stdout",
     "output_type": "stream",
     "text": [
      "Index(['地域ID', '面積（㎢）', '人口（人）', 'キャベツ（円）', 'ほうれんそう（円）', 'はくさい（円）', 'ねぎ（円）',\n",
      "       'レタス（円）'],\n",
      "      dtype='object')\n",
      "<class 'pandas.core.frame.DataFrame'>\n",
      "RangeIndex: 52 entries, 0 to 51\n",
      "Data columns (total 8 columns):\n",
      " #   Column     Non-Null Count  Dtype  \n",
      "---  ------     --------------  -----  \n",
      " 0   地域ID       52 non-null     int64  \n",
      " 1   面積（㎢）      52 non-null     float64\n",
      " 2   人口（人）      52 non-null     int64  \n",
      " 3   キャベツ（円）    52 non-null     int64  \n",
      " 4   ほうれんそう（円）  52 non-null     int64  \n",
      " 5   はくさい（円）    52 non-null     int64  \n",
      " 6   ねぎ（円）      52 non-null     int64  \n",
      " 7   レタス（円）     52 non-null     int64  \n",
      "dtypes: float64(1), int64(7)\n",
      "memory usage: 3.4 KB\n"
     ]
    },
    {
     "data": {
      "text/html": [
       "<div>\n",
       "<style scoped>\n",
       "    .dataframe tbody tr th:only-of-type {\n",
       "        vertical-align: middle;\n",
       "    }\n",
       "\n",
       "    .dataframe tbody tr th {\n",
       "        vertical-align: top;\n",
       "    }\n",
       "\n",
       "    .dataframe thead th {\n",
       "        text-align: right;\n",
       "    }\n",
       "</style>\n",
       "<table border=\"1\" class=\"dataframe\">\n",
       "  <thead>\n",
       "    <tr style=\"text-align: right;\">\n",
       "      <th></th>\n",
       "      <th>地域ID</th>\n",
       "      <th>面積（㎢）</th>\n",
       "      <th>人口（人）</th>\n",
       "      <th>キャベツ（円）</th>\n",
       "      <th>ほうれんそう（円）</th>\n",
       "      <th>はくさい（円）</th>\n",
       "      <th>ねぎ（円）</th>\n",
       "      <th>レタス（円）</th>\n",
       "    </tr>\n",
       "  </thead>\n",
       "  <tbody>\n",
       "    <tr>\n",
       "      <th>0</th>\n",
       "      <td>1</td>\n",
       "      <td>886.47</td>\n",
       "      <td>275192</td>\n",
       "      <td>3348</td>\n",
       "      <td>3222</td>\n",
       "      <td>1244</td>\n",
       "      <td>2925</td>\n",
       "      <td>2128</td>\n",
       "    </tr>\n",
       "    <tr>\n",
       "      <th>1</th>\n",
       "      <td>2</td>\n",
       "      <td>437.71</td>\n",
       "      <td>3777491</td>\n",
       "      <td>3370</td>\n",
       "      <td>2585</td>\n",
       "      <td>1360</td>\n",
       "      <td>3891</td>\n",
       "      <td>3082</td>\n",
       "    </tr>\n",
       "    <tr>\n",
       "      <th>2</th>\n",
       "      <td>3</td>\n",
       "      <td>1241.74</td>\n",
       "      <td>262328</td>\n",
       "      <td>3247</td>\n",
       "      <td>2813</td>\n",
       "      <td>1499</td>\n",
       "      <td>3018</td>\n",
       "      <td>2456</td>\n",
       "    </tr>\n",
       "    <tr>\n",
       "      <th>3</th>\n",
       "      <td>4</td>\n",
       "      <td>627.63</td>\n",
       "      <td>9733276</td>\n",
       "      <td>3124</td>\n",
       "      <td>2479</td>\n",
       "      <td>1346</td>\n",
       "      <td>4072</td>\n",
       "      <td>3256</td>\n",
       "    </tr>\n",
       "    <tr>\n",
       "      <th>4</th>\n",
       "      <td>5</td>\n",
       "      <td>271.78</td>\n",
       "      <td>332149</td>\n",
       "      <td>2978</td>\n",
       "      <td>2752</td>\n",
       "      <td>1332</td>\n",
       "      <td>3786</td>\n",
       "      <td>2991</td>\n",
       "    </tr>\n",
       "  </tbody>\n",
       "</table>\n",
       "</div>"
      ],
      "text/plain": [
       "   地域ID    面積（㎢）    人口（人）  キャベツ（円）  ほうれんそう（円）  はくさい（円）  ねぎ（円）  レタス（円）\n",
       "0     1   886.47   275192     3348       3222     1244   2925    2128\n",
       "1     2   437.71  3777491     3370       2585     1360   3891    3082\n",
       "2     3  1241.74   262328     3247       2813     1499   3018    2456\n",
       "3     4   627.63  9733276     3124       2479     1346   4072    3256\n",
       "4     5   271.78   332149     2978       2752     1332   3786    2991"
      ]
     },
     "execution_count": 6,
     "metadata": {},
     "output_type": "execute_result"
    }
   ],
   "source": [
    "df = pd.read_excel(files[4])\n",
    "print(df.columns)\n",
    "# df.columns = ['id', 'volume', 'population', 'cabbage', 'spinach', 'chinese_cabbage', 'green_onion', 'lettuce']\n",
    "df.info()\n",
    "df.head()"
   ]
  },
  {
   "cell_type": "code",
   "execution_count": null,
   "metadata": {},
   "outputs": [],
   "source": []
  }
 ],
 "metadata": {
  "kernelspec": {
   "display_name": "Python 3",
   "language": "python",
   "name": "python3"
  },
  "language_info": {
   "codemirror_mode": {
    "name": "ipython",
    "version": 3
   },
   "file_extension": ".py",
   "mimetype": "text/x-python",
   "name": "python",
   "nbconvert_exporter": "python",
   "pygments_lexer": "ipython3",
   "version": "3.10.9"
  }
 },
 "nbformat": 4,
 "nbformat_minor": 2
}
