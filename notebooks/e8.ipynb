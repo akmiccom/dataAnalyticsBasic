{
 "cells": [
  {
   "cell_type": "code",
   "execution_count": 280,
   "metadata": {},
   "outputs": [],
   "source": [
    "from glob import glob\n",
    "import pandas as pd\n",
    "import numpy as np\n",
    "from scipy import stats  \n",
    "import matplotlib.pyplot as plt\n",
    "import japanize_matplotlib\n",
    "from datetime import date, timedelta, datetime\n",
    "from dateutil.relativedelta import relativedelta\n",
    "import statsmodels.api as sm\n",
    "from sklearn.linear_model import LinearRegression"
   ]
  },
  {
   "cell_type": "code",
   "execution_count": 240,
   "metadata": {},
   "outputs": [
    {
     "name": "stdout",
     "output_type": "stream",
     "text": [
      "0 ../csv/演習問題_データアナリティクス基礎\\第10章演習問題_乱数で発生させて分布の基本統計量.xlsx\n",
      "1 ../csv/演習問題_データアナリティクス基礎\\第2章演習問題_クレームデータ.xlsx\n",
      "2 ../csv/演習問題_データアナリティクス基礎\\第3章演習問題_職場ストレス.xlsx\n",
      "3 ../csv/演習問題_データアナリティクス基礎\\第4章演習問題_児童のネット利用時間.xlsx\n",
      "4 ../csv/演習問題_データアナリティクス基礎\\第5章演習問題_生鮮野菜の購入額.xlsx\n",
      "5 ../csv/演習問題_データアナリティクス基礎\\第7章演習問題_授業効果の検証.xlsx\n",
      "6 ../csv/演習問題_データアナリティクス基礎\\第8章演習問題1_健康食品・化粧品販売額.xlsx\n",
      "7 ../csv/演習問題_データアナリティクス基礎\\第8章演習問題2_百貨店の衣料品売上高.xlsx\n",
      "8 ../csv/演習問題_データアナリティクス基礎\\第9章演習問題_自由記述データ＆形態素解析データ.xlsx\n"
     ]
    }
   ],
   "source": [
    "files = glob(\"../csv/演習問題_データアナリティクス基礎/*\")\n",
    "for i, f in enumerate(files):\n",
    "    print(i, f)\n"
   ]
  },
  {
   "cell_type": "code",
   "execution_count": 231,
   "metadata": {},
   "outputs": [
    {
     "name": "stdout",
     "output_type": "stream",
     "text": [
      "Index(['Unnamed: 0', '計', '紳士服', '婦人服', '子供服', 'その他\\n衣料品'], dtype='object')\n",
      "<class 'pandas.core.frame.DataFrame'>\n",
      "RangeIndex: 25 entries, 0 to 24\n",
      "Data columns (total 6 columns):\n",
      " #   Column  Non-Null Count  Dtype  \n",
      "---  ------  --------------  -----  \n",
      " 0   date    25 non-null     object \n",
      " 1   total   25 non-null     float64\n",
      " 2   men     25 non-null     float64\n",
      " 3   women   25 non-null     float64\n",
      " 4   child   25 non-null     float64\n",
      " 5   other   25 non-null     float64\n",
      "dtypes: float64(5), object(1)\n",
      "memory usage: 1.3+ KB\n"
     ]
    },
    {
     "data": {
      "text/html": [
       "<div>\n",
       "<style scoped>\n",
       "    .dataframe tbody tr th:only-of-type {\n",
       "        vertical-align: middle;\n",
       "    }\n",
       "\n",
       "    .dataframe tbody tr th {\n",
       "        vertical-align: top;\n",
       "    }\n",
       "\n",
       "    .dataframe thead th {\n",
       "        text-align: right;\n",
       "    }\n",
       "</style>\n",
       "<table border=\"1\" class=\"dataframe\">\n",
       "  <thead>\n",
       "    <tr style=\"text-align: right;\">\n",
       "      <th></th>\n",
       "      <th>date</th>\n",
       "      <th>total</th>\n",
       "      <th>men</th>\n",
       "      <th>women</th>\n",
       "      <th>child</th>\n",
       "      <th>other</th>\n",
       "    </tr>\n",
       "  </thead>\n",
       "  <tbody>\n",
       "    <tr>\n",
       "      <th>0</th>\n",
       "      <td>40360</td>\n",
       "      <td>32264.2814</td>\n",
       "      <td>6435.1631</td>\n",
       "      <td>20564.8712</td>\n",
       "      <td>2325.2873</td>\n",
       "      <td>2938.9598</td>\n",
       "    </tr>\n",
       "    <tr>\n",
       "      <th>1</th>\n",
       "      <td>8月</td>\n",
       "      <td>19807.8368</td>\n",
       "      <td>3300.1486</td>\n",
       "      <td>12929.5010</td>\n",
       "      <td>1369.2929</td>\n",
       "      <td>2208.8943</td>\n",
       "    </tr>\n",
       "    <tr>\n",
       "      <th>2</th>\n",
       "      <td>9月</td>\n",
       "      <td>25361.5249</td>\n",
       "      <td>4081.2346</td>\n",
       "      <td>17153.2525</td>\n",
       "      <td>1745.9854</td>\n",
       "      <td>2381.0524</td>\n",
       "    </tr>\n",
       "    <tr>\n",
       "      <th>3</th>\n",
       "      <td>10月</td>\n",
       "      <td>33025.8470</td>\n",
       "      <td>6607.9540</td>\n",
       "      <td>21257.7765</td>\n",
       "      <td>2290.9460</td>\n",
       "      <td>2869.1705</td>\n",
       "    </tr>\n",
       "    <tr>\n",
       "      <th>4</th>\n",
       "      <td>11月</td>\n",
       "      <td>31468.2275</td>\n",
       "      <td>6981.3833</td>\n",
       "      <td>19685.4091</td>\n",
       "      <td>1986.5516</td>\n",
       "      <td>2814.8835</td>\n",
       "    </tr>\n",
       "  </tbody>\n",
       "</table>\n",
       "</div>"
      ],
      "text/plain": [
       "    date       total        men       women      child      other\n",
       "0  40360  32264.2814  6435.1631  20564.8712  2325.2873  2938.9598\n",
       "1     8月  19807.8368  3300.1486  12929.5010  1369.2929  2208.8943\n",
       "2     9月  25361.5249  4081.2346  17153.2525  1745.9854  2381.0524\n",
       "3    10月  33025.8470  6607.9540  21257.7765  2290.9460  2869.1705\n",
       "4    11月  31468.2275  6981.3833  19685.4091  1986.5516  2814.8835"
      ]
     },
     "execution_count": 231,
     "metadata": {},
     "output_type": "execute_result"
    }
   ],
   "source": [
    "df = pd.read_excel(files[7])\n",
    "print(df.columns)\n",
    "df.columns = ['date', 'total', 'men', 'women', 'child', 'other']\n",
    "df.info()\n",
    "df.head()"
   ]
  },
  {
   "cell_type": "markdown",
   "metadata": {},
   "source": [
    "月別の平均の最大値はいつか"
   ]
  },
  {
   "cell_type": "code",
   "execution_count": 232,
   "metadata": {},
   "outputs": [],
   "source": [
    "callender = []\n",
    "start_date = 2010, 7, 1\n",
    "for i in range(df.shape[0]):\n",
    "    s_date = date(start_date[0], start_date[1], start_date[2])\n",
    "    adjust = s_date + relativedelta(months=i+1) - relativedelta(days=1)\n",
    "    callender.append(adjust)\n",
    "df['date'] = pd.to_datetime(callender)\n",
    "df['month'] = df['date'].dt.strftime('%m')\n",
    "df = df.set_index('date')"
   ]
  },
  {
   "cell_type": "code",
   "execution_count": 233,
   "metadata": {},
   "outputs": [
    {
     "data": {
      "text/plain": [
       "{'1月平均': 2537.39,\n",
       " '2月平均': 1687.52,\n",
       " '3月平均': 3469.89,\n",
       " '4月平均': 2448.71,\n",
       " '5月平均': 2063.86,\n",
       " '6月平均': 1551.09,\n",
       " '7月平均': 2207.4,\n",
       " '8月平均': 1361.78,\n",
       " '9月平均': 1890.16,\n",
       " '10月平均': 2217.47,\n",
       " '11月平均': 2004.01,\n",
       " '12月平均': 2344.43}"
      ]
     },
     "execution_count": 233,
     "metadata": {},
     "output_type": "execute_result"
    }
   ],
   "source": [
    "monthly_mean = {}\n",
    "for i in range(12):\n",
    "    monthly_mean[f'{i+1}月平均'] = round(df.query(f'month == \"{i+1:02}\"')['child'].mean(), 2)\n",
    "monthly_mean"
   ]
  },
  {
   "cell_type": "markdown",
   "metadata": {},
   "source": [
    "婦人服の2017年7月基準の指数"
   ]
  },
  {
   "cell_type": "code",
   "execution_count": 234,
   "metadata": {},
   "outputs": [
    {
     "data": {
      "text/plain": [
       "date\n",
       "2010-07-31    100.000000\n",
       "2010-08-31     62.871782\n",
       "2010-09-30     83.410454\n",
       "2010-10-31    103.369364\n",
       "2010-11-30     95.723474\n",
       "2010-12-31    100.268456\n",
       "2011-01-31    105.527579\n",
       "2011-02-28     68.209732\n",
       "2011-03-31     99.400438\n",
       "2011-04-30     89.747682\n",
       "2011-05-31     86.239860\n",
       "2011-06-30     76.810335\n",
       "2011-07-31     95.600114\n",
       "2011-08-31     60.192296\n",
       "2011-09-30     84.649641\n",
       "2011-10-31     99.511743\n",
       "2011-11-30     96.608699\n",
       "2011-12-31     94.296211\n",
       "2012-01-31    105.775597\n",
       "2012-02-29     63.866756\n",
       "2012-03-31    102.600167\n",
       "2012-04-30     87.930009\n",
       "2012-05-31     83.548073\n",
       "2012-06-30     75.751411\n",
       "2012-07-31     92.021500\n",
       "Name: women, dtype: float64"
      ]
     },
     "execution_count": 234,
     "metadata": {},
     "output_type": "execute_result"
    }
   ],
   "source": [
    "df['women'] / df.loc['2010-07-31', 'women'] * 100"
   ]
  },
  {
   "cell_type": "markdown",
   "metadata": {},
   "source": [
    "紳士服の2011年7月対前年同月比での増加率"
   ]
  },
  {
   "cell_type": "code",
   "execution_count": 235,
   "metadata": {},
   "outputs": [
    {
     "name": "stdout",
     "output_type": "stream",
     "text": [
      "-8.3\n"
     ]
    }
   ],
   "source": [
    "incrude_rate = (df.loc['2011-07-31', 'men'] - df.loc['2010-07-31', 'men']) / df.loc['2010-07-31', 'men'] * 100\n",
    "print(f'{incrude_rate:.01f}')"
   ]
  },
  {
   "cell_type": "markdown",
   "metadata": {},
   "source": [
    "2011年8月以降で衣料品合計の対前年度同月比、最大減少率の月はいつか"
   ]
  },
  {
   "cell_type": "code",
   "execution_count": 236,
   "metadata": {},
   "outputs": [
    {
     "data": {
      "text/plain": [
       "DatetimeIndex(['2011-08-31', '2011-09-30', '2011-10-31', '2011-11-30',\n",
       "               '2011-12-31', '2012-01-31', '2012-02-29', '2012-03-31',\n",
       "               '2012-04-30', '2012-05-31', '2012-06-30', '2012-07-31'],\n",
       "              dtype='datetime64[ns]', name='date', freq=None)"
      ]
     },
     "execution_count": 236,
     "metadata": {},
     "output_type": "execute_result"
    }
   ],
   "source": [
    "df.index[13:]"
   ]
  },
  {
   "cell_type": "code",
   "execution_count": 241,
   "metadata": {},
   "outputs": [
    {
     "data": {
      "text/html": [
       "<div>\n",
       "<style scoped>\n",
       "    .dataframe tbody tr th:only-of-type {\n",
       "        vertical-align: middle;\n",
       "    }\n",
       "\n",
       "    .dataframe tbody tr th {\n",
       "        vertical-align: top;\n",
       "    }\n",
       "\n",
       "    .dataframe thead th {\n",
       "        text-align: right;\n",
       "    }\n",
       "</style>\n",
       "<table border=\"1\" class=\"dataframe\">\n",
       "  <thead>\n",
       "    <tr style=\"text-align: right;\">\n",
       "      <th></th>\n",
       "      <th>comparison</th>\n",
       "      <th>reference</th>\n",
       "      <th>increase_rete</th>\n",
       "      <th>mark</th>\n",
       "    </tr>\n",
       "    <tr>\n",
       "      <th>date</th>\n",
       "      <th></th>\n",
       "      <th></th>\n",
       "      <th></th>\n",
       "      <th></th>\n",
       "    </tr>\n",
       "  </thead>\n",
       "  <tbody>\n",
       "    <tr>\n",
       "      <th>2011-08-31</th>\n",
       "      <td>18841.9573</td>\n",
       "      <td>19807.8368</td>\n",
       "      <td>-4.876249</td>\n",
       "      <td>NaN</td>\n",
       "    </tr>\n",
       "    <tr>\n",
       "      <th>2011-09-30</th>\n",
       "      <td>25929.7685</td>\n",
       "      <td>25361.5249</td>\n",
       "      <td>2.240573</td>\n",
       "      <td>max</td>\n",
       "    </tr>\n",
       "    <tr>\n",
       "      <th>2011-10-31</th>\n",
       "      <td>31337.9934</td>\n",
       "      <td>33025.8470</td>\n",
       "      <td>-5.110705</td>\n",
       "      <td>NaN</td>\n",
       "    </tr>\n",
       "    <tr>\n",
       "      <th>2011-11-30</th>\n",
       "      <td>31299.9116</td>\n",
       "      <td>31468.2275</td>\n",
       "      <td>-0.534876</td>\n",
       "      <td>NaN</td>\n",
       "    </tr>\n",
       "    <tr>\n",
       "      <th>2011-12-31</th>\n",
       "      <td>32989.9032</td>\n",
       "      <td>35504.5797</td>\n",
       "      <td>-7.082682</td>\n",
       "      <td>NaN</td>\n",
       "    </tr>\n",
       "    <tr>\n",
       "      <th>2012-01-31</th>\n",
       "      <td>33107.4060</td>\n",
       "      <td>33690.6188</td>\n",
       "      <td>-1.731084</td>\n",
       "      <td>NaN</td>\n",
       "    </tr>\n",
       "    <tr>\n",
       "      <th>2012-02-29</th>\n",
       "      <td>20610.8787</td>\n",
       "      <td>22236.8845</td>\n",
       "      <td>-7.312201</td>\n",
       "      <td>min</td>\n",
       "    </tr>\n",
       "    <tr>\n",
       "      <th>2012-03-31</th>\n",
       "      <td>32436.5192</td>\n",
       "      <td>31991.6711</td>\n",
       "      <td>1.390512</td>\n",
       "      <td>NaN</td>\n",
       "    </tr>\n",
       "    <tr>\n",
       "      <th>2012-04-30</th>\n",
       "      <td>27982.1969</td>\n",
       "      <td>28994.9121</td>\n",
       "      <td>-3.492734</td>\n",
       "      <td>NaN</td>\n",
       "    </tr>\n",
       "    <tr>\n",
       "      <th>2012-05-31</th>\n",
       "      <td>26743.1375</td>\n",
       "      <td>27989.4723</td>\n",
       "      <td>-4.452870</td>\n",
       "      <td>NaN</td>\n",
       "    </tr>\n",
       "    <tr>\n",
       "      <th>2012-06-30</th>\n",
       "      <td>25382.2849</td>\n",
       "      <td>25913.2493</td>\n",
       "      <td>-2.049007</td>\n",
       "      <td>NaN</td>\n",
       "    </tr>\n",
       "    <tr>\n",
       "      <th>2012-07-31</th>\n",
       "      <td>29016.1783</td>\n",
       "      <td>30540.6724</td>\n",
       "      <td>-4.991685</td>\n",
       "      <td>NaN</td>\n",
       "    </tr>\n",
       "  </tbody>\n",
       "</table>\n",
       "</div>"
      ],
      "text/plain": [
       "            comparison   reference  increase_rete mark\n",
       "date                                                  \n",
       "2011-08-31  18841.9573  19807.8368      -4.876249  NaN\n",
       "2011-09-30  25929.7685  25361.5249       2.240573  max\n",
       "2011-10-31  31337.9934  33025.8470      -5.110705  NaN\n",
       "2011-11-30  31299.9116  31468.2275      -0.534876  NaN\n",
       "2011-12-31  32989.9032  35504.5797      -7.082682  NaN\n",
       "2012-01-31  33107.4060  33690.6188      -1.731084  NaN\n",
       "2012-02-29  20610.8787  22236.8845      -7.312201  min\n",
       "2012-03-31  32436.5192  31991.6711       1.390512  NaN\n",
       "2012-04-30  27982.1969  28994.9121      -3.492734  NaN\n",
       "2012-05-31  26743.1375  27989.4723      -4.452870  NaN\n",
       "2012-06-30  25382.2849  25913.2493      -2.049007  NaN\n",
       "2012-07-31  29016.1783  30540.6724      -4.991685  NaN"
      ]
     },
     "execution_count": 241,
     "metadata": {},
     "output_type": "execute_result"
    }
   ],
   "source": [
    "df_yoy = pd.DataFrame([df.loc['2011-8':]['total'].values, df.loc['2010-8':'2011-7']['total'].values]).T\n",
    "df_yoy.columns = ['comparison', 'reference']\n",
    "df_yoy['increase_rete'] = (df_yoy['comparison'] - df_yoy['reference']) / df_yoy['reference'] * 100\n",
    "df_yoy.index = df.index[13:]\n",
    "df_yoy.loc[df_yoy['increase_rete'].idxmax(), 'mark'] = 'max'\n",
    "df_yoy.loc[df_yoy['increase_rete'].idxmin(), 'mark'] = 'min'\n",
    "df_yoy"
   ]
  },
  {
   "cell_type": "markdown",
   "metadata": {},
   "source": [
    "各売上に対し回帰直線を作り下降トレンドでないものを示す"
   ]
  },
  {
   "cell_type": "code",
   "execution_count": 295,
   "metadata": {},
   "outputs": [
    {
     "name": "stdout",
     "output_type": "stream",
     "text": [
      "menの傾き: -0.00035\n",
      "womenの傾き: -0.00017\n",
      "childの傾き: 0.00095\n",
      "otherの傾き: -0.00706\n"
     ]
    }
   ],
   "source": [
    "# scikit-learn の LinearRegression\n",
    "y_train = [i+1 for i in range(df.shape[0])]\n",
    "model_lr = LinearRegression()\n",
    "for c in df.columns[1:-1]:\n",
    "    x_train = df[[c]]\n",
    "    model_lr.fit(x_train, y_train)\n",
    "    print(f'{c}の傾き: {model_lr.coef_[0]:.05f}')"
   ]
  },
  {
   "cell_type": "code",
   "execution_count": 302,
   "metadata": {},
   "outputs": [
    {
     "name": "stdout",
     "output_type": "stream",
     "text": [
      "menの傾き: -0.00035\n",
      "womenの傾き: -0.00017\n",
      "childの傾き: 0.00095\n",
      "otherの傾き: -0.00706\n"
     ]
    }
   ],
   "source": [
    "# statsmodels の 線形回帰\n",
    "for c in df.columns[1:-1]:\n",
    "    x_train = df[[c]]\n",
    "    y_train = [i+1 for i in range(df.shape[0])]\n",
    "    x_add_const = sm.add_constant(x_train)\n",
    "    model_sm = sm.OLS(y_train, x_add_const).fit()\n",
    "    print(f'{c}の傾き: {model_sm.params[1]:.05f}')"
   ]
  }
 ],
 "metadata": {
  "kernelspec": {
   "display_name": "Python 3",
   "language": "python",
   "name": "python3"
  },
  "language_info": {
   "codemirror_mode": {
    "name": "ipython",
    "version": 3
   },
   "file_extension": ".py",
   "mimetype": "text/x-python",
   "name": "python",
   "nbconvert_exporter": "python",
   "pygments_lexer": "ipython3",
   "version": "3.10.9"
  }
 },
 "nbformat": 4,
 "nbformat_minor": 2
}
