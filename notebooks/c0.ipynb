{
 "cells": [
  {
   "cell_type": "code",
   "execution_count": null,
   "metadata": {},
   "outputs": [],
   "source": [
    "from glob import glob\n",
    "import pandas as pd"
   ]
  },
  {
   "cell_type": "code",
   "execution_count": 2,
   "metadata": {},
   "outputs": [],
   "source": [
    "files = glob(\"../csv/例題_データアナリティクス基礎/*\")\n",
    "# for i, f in enumerate(files):\n",
    "#     print(i, f)\n"
   ]
  },
  {
   "cell_type": "code",
   "execution_count": 3,
   "metadata": {},
   "outputs": [
    {
     "data": {
      "text/html": [
       "<div>\n",
       "<style scoped>\n",
       "    .dataframe tbody tr th:only-of-type {\n",
       "        vertical-align: middle;\n",
       "    }\n",
       "\n",
       "    .dataframe tbody tr th {\n",
       "        vertical-align: top;\n",
       "    }\n",
       "\n",
       "    .dataframe thead th {\n",
       "        text-align: right;\n",
       "    }\n",
       "</style>\n",
       "<table border=\"1\" class=\"dataframe\">\n",
       "  <thead>\n",
       "    <tr style=\"text-align: right;\">\n",
       "      <th></th>\n",
       "      <th>id</th>\n",
       "      <th>customer_id</th>\n",
       "      <th>price</th>\n",
       "      <th>food</th>\n",
       "      <th>weekday</th>\n",
       "      <th>gender</th>\n",
       "    </tr>\n",
       "  </thead>\n",
       "  <tbody>\n",
       "    <tr>\n",
       "      <th>0</th>\n",
       "      <td>1</td>\n",
       "      <td>153</td>\n",
       "      <td>220</td>\n",
       "      <td>肉</td>\n",
       "      <td>火曜日</td>\n",
       "      <td>女性</td>\n",
       "    </tr>\n",
       "    <tr>\n",
       "      <th>1</th>\n",
       "      <td>2</td>\n",
       "      <td>263</td>\n",
       "      <td>760</td>\n",
       "      <td>魚貝缶詰</td>\n",
       "      <td>火曜日</td>\n",
       "      <td>女性</td>\n",
       "    </tr>\n",
       "    <tr>\n",
       "      <th>2</th>\n",
       "      <td>3</td>\n",
       "      <td>321</td>\n",
       "      <td>920</td>\n",
       "      <td>卵</td>\n",
       "      <td>火曜日</td>\n",
       "      <td>男性</td>\n",
       "    </tr>\n",
       "    <tr>\n",
       "      <th>3</th>\n",
       "      <td>4</td>\n",
       "      <td>349</td>\n",
       "      <td>700</td>\n",
       "      <td>軽食</td>\n",
       "      <td>火曜日</td>\n",
       "      <td>女性</td>\n",
       "    </tr>\n",
       "    <tr>\n",
       "      <th>4</th>\n",
       "      <td>5</td>\n",
       "      <td>402</td>\n",
       "      <td>950</td>\n",
       "      <td>パン</td>\n",
       "      <td>火曜日</td>\n",
       "      <td>女性</td>\n",
       "    </tr>\n",
       "  </tbody>\n",
       "</table>\n",
       "</div>"
      ],
      "text/plain": [
       "   id  customer_id  price  food weekday gender\n",
       "0   1          153    220     肉     火曜日     女性\n",
       "1   2          263    760  魚貝缶詰     火曜日     女性\n",
       "2   3          321    920     卵     火曜日     男性\n",
       "3   4          349    700    軽食     火曜日     女性\n",
       "4   5          402    950    パン     火曜日     女性"
      ]
     },
     "execution_count": 3,
     "metadata": {},
     "output_type": "execute_result"
    }
   ],
   "source": [
    "purchase_data = pd.read_excel(files[3])\n",
    "purchase_data.columns = ['id', 'customer_id', 'price', 'food', 'weekday', 'gender']\n",
    "purchase_data.head()"
   ]
  }
 ],
 "metadata": {
  "kernelspec": {
   "display_name": "Python 3",
   "language": "python",
   "name": "python3"
  },
  "language_info": {
   "codemirror_mode": {
    "name": "ipython",
    "version": 3
   },
   "file_extension": ".py",
   "mimetype": "text/x-python",
   "name": "python",
   "nbconvert_exporter": "python",
   "pygments_lexer": "ipython3",
   "version": "3.10.9"
  }
 },
 "nbformat": 4,
 "nbformat_minor": 2
}
