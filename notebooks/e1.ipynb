{
 "cells": [
  {
   "cell_type": "code",
   "execution_count": 65,
   "metadata": {},
   "outputs": [],
   "source": [
    "from glob import glob\n",
    "import pandas as pd\n",
    "import numpy as np\n",
    "from scipy import stats  \n",
    "import matplotlib.pyplot as plt\n",
    "import japanize_matplotlib"
   ]
  },
  {
   "cell_type": "code",
   "execution_count": 66,
   "metadata": {},
   "outputs": [
    {
     "name": "stdout",
     "output_type": "stream",
     "text": [
      "0 ../csv/演習問題_データアナリティクス基礎\\第10章演習問題_乱数で発生させて分布の基本統計量.xlsx\n",
      "1 ../csv/演習問題_データアナリティクス基礎\\第2章演習問題_クレームデータ.xlsx\n",
      "2 ../csv/演習問題_データアナリティクス基礎\\第3章演習問題_職場ストレス.xlsx\n",
      "3 ../csv/演習問題_データアナリティクス基礎\\第4章演習問題_児童のネット利用時間.xlsx\n",
      "4 ../csv/演習問題_データアナリティクス基礎\\第5章演習問題_生鮮野菜の購入額.xlsx\n",
      "5 ../csv/演習問題_データアナリティクス基礎\\第7章演習問題_授業効果の検証.xlsx\n",
      "6 ../csv/演習問題_データアナリティクス基礎\\第8章演習問題1_健康食品・化粧品販売額.xlsx\n",
      "7 ../csv/演習問題_データアナリティクス基礎\\第8章演習問題2_百貨店の衣料品売上高.xlsx\n",
      "8 ../csv/演習問題_データアナリティクス基礎\\第9章演習問題_自由記述データ＆形態素解析データ.xlsx\n"
     ]
    }
   ],
   "source": [
    "files = glob(\"../csv/演習問題_データアナリティクス基礎/*\")\n",
    "for i, f in enumerate(files):\n",
    "    print(i, f)\n"
   ]
  },
  {
   "cell_type": "markdown",
   "metadata": {},
   "source": [
    "クレームデータの分析"
   ]
  },
  {
   "cell_type": "code",
   "execution_count": 67,
   "metadata": {},
   "outputs": [
    {
     "name": "stdout",
     "output_type": "stream",
     "text": [
      "Index(['データ番号', '販売地域', '苦情者性別', '苦情内容'], dtype='object')\n",
      "<class 'pandas.core.frame.DataFrame'>\n",
      "RangeIndex: 2890 entries, 0 to 2889\n",
      "Data columns (total 4 columns):\n",
      " #   Column    Non-Null Count  Dtype \n",
      "---  ------    --------------  ----- \n",
      " 0   id        2890 non-null   int64 \n",
      " 1   area      2890 non-null   object\n",
      " 2   gender    2890 non-null   object\n",
      " 3   contents  2890 non-null   object\n",
      "dtypes: int64(1), object(3)\n",
      "memory usage: 90.4+ KB\n"
     ]
    },
    {
     "data": {
      "text/html": [
       "<div>\n",
       "<style scoped>\n",
       "    .dataframe tbody tr th:only-of-type {\n",
       "        vertical-align: middle;\n",
       "    }\n",
       "\n",
       "    .dataframe tbody tr th {\n",
       "        vertical-align: top;\n",
       "    }\n",
       "\n",
       "    .dataframe thead th {\n",
       "        text-align: right;\n",
       "    }\n",
       "</style>\n",
       "<table border=\"1\" class=\"dataframe\">\n",
       "  <thead>\n",
       "    <tr style=\"text-align: right;\">\n",
       "      <th></th>\n",
       "      <th>id</th>\n",
       "      <th>area</th>\n",
       "      <th>gender</th>\n",
       "      <th>contents</th>\n",
       "    </tr>\n",
       "  </thead>\n",
       "  <tbody>\n",
       "    <tr>\n",
       "      <th>0</th>\n",
       "      <td>1</td>\n",
       "      <td>Gエリア</td>\n",
       "      <td>女性</td>\n",
       "      <td>不要な契約強要</td>\n",
       "    </tr>\n",
       "    <tr>\n",
       "      <th>1</th>\n",
       "      <td>2</td>\n",
       "      <td>Gエリア</td>\n",
       "      <td>男性</td>\n",
       "      <td>料金割引の説明不足</td>\n",
       "    </tr>\n",
       "    <tr>\n",
       "      <th>2</th>\n",
       "      <td>3</td>\n",
       "      <td>Gエリア</td>\n",
       "      <td>女性</td>\n",
       "      <td>料金請求の不一致</td>\n",
       "    </tr>\n",
       "    <tr>\n",
       "      <th>3</th>\n",
       "      <td>4</td>\n",
       "      <td>Cエリア</td>\n",
       "      <td>女性</td>\n",
       "      <td>不要な契約強要</td>\n",
       "    </tr>\n",
       "    <tr>\n",
       "      <th>4</th>\n",
       "      <td>5</td>\n",
       "      <td>Gエリア</td>\n",
       "      <td>女性</td>\n",
       "      <td>その他</td>\n",
       "    </tr>\n",
       "  </tbody>\n",
       "</table>\n",
       "</div>"
      ],
      "text/plain": [
       "   id  area gender   contents\n",
       "0   1  Gエリア     女性    不要な契約強要\n",
       "1   2  Gエリア     男性  料金割引の説明不足\n",
       "2   3  Gエリア     女性   料金請求の不一致\n",
       "3   4  Cエリア     女性    不要な契約強要\n",
       "4   5  Gエリア     女性        その他"
      ]
     },
     "execution_count": 67,
     "metadata": {},
     "output_type": "execute_result"
    }
   ],
   "source": [
    "df = pd.read_excel(files[1])\n",
    "print(df.columns)\n",
    "df.columns = ['id', 'area', 'gender', 'contents']\n",
    "df.info()\n",
    "df.head()"
   ]
  },
  {
   "cell_type": "markdown",
   "metadata": {},
   "source": [
    "苦情内容の種類 : 8"
   ]
  },
  {
   "cell_type": "code",
   "execution_count": 68,
   "metadata": {},
   "outputs": [
    {
     "name": "stdout",
     "output_type": "stream",
     "text": [
      "Count of Complaint = 8\n"
     ]
    }
   ],
   "source": [
    "df['contents'].unique()\n",
    "print(f\"Count of Complaint = {df['contents'].nunique()}\")"
   ]
  },
  {
   "cell_type": "markdown",
   "metadata": {},
   "source": [
    "件数が最も多い苦情内容 : 料金請求の不一致 659件"
   ]
  },
  {
   "cell_type": "code",
   "execution_count": 69,
   "metadata": {},
   "outputs": [
    {
     "data": {
      "text/plain": [
       "contents\n",
       "料金請求の不一致     659\n",
       "契約解除手続き      491\n",
       "信用懸念         392\n",
       "料金割引の説明不足    383\n",
       "不要な契約強要      308\n",
       "解釈条件の説明不足    269\n",
       "営業員の態度       235\n",
       "その他          153\n",
       "Name: id, dtype: int64"
      ]
     },
     "execution_count": 69,
     "metadata": {},
     "output_type": "execute_result"
    }
   ],
   "source": [
    "contents = df.groupby('contents').count()['id'].sort_values(ascending=False)\n",
    "contents"
   ]
  },
  {
   "cell_type": "markdown",
   "metadata": {},
   "source": [
    "上位3位までの割合: 53.4%"
   ]
  },
  {
   "cell_type": "code",
   "execution_count": 70,
   "metadata": {},
   "outputs": [
    {
     "name": "stdout",
     "output_type": "stream",
     "text": [
      "53.4%\n"
     ]
    }
   ],
   "source": [
    "print(f'{contents[0:3].sum() / contents.sum():.01%}')"
   ]
  },
  {
   "cell_type": "markdown",
   "metadata": {},
   "source": [
    "Fエリアで割合の大きい苦情内容: 料金請求の不一致 0.21%"
   ]
  },
  {
   "cell_type": "code",
   "execution_count": 71,
   "metadata": {},
   "outputs": [
    {
     "data": {
      "text/plain": [
       "contents\n",
       "料金請求の不一致     0.205556\n",
       "料金割引の説明不足    0.172222\n",
       "解釈条件の説明不足    0.133333\n",
       "信用懸念         0.127778\n",
       "契約解除手続き      0.122222\n",
       "営業員の態度       0.094444\n",
       "不要な契約強要      0.083333\n",
       "その他          0.061111\n",
       "Name: id, dtype: float64"
      ]
     },
     "execution_count": 71,
     "metadata": {},
     "output_type": "execute_result"
    }
   ],
   "source": [
    "(df.query('area == \"Fエリア\"').groupby('contents').count()['id'] / df.query('area == \"Fエリア\"').count()[0]).sort_values(ascending=False)"
   ]
  },
  {
   "cell_type": "markdown",
   "metadata": {},
   "source": [
    "エリアと苦情内容の特化係数: Fエリアの最大特化係数 解釈条件の説明不足 0.089219"
   ]
  },
  {
   "cell_type": "code",
   "execution_count": 72,
   "metadata": {},
   "outputs": [
    {
     "data": {
      "text/html": [
       "<div>\n",
       "<style scoped>\n",
       "    .dataframe tbody tr th:only-of-type {\n",
       "        vertical-align: middle;\n",
       "    }\n",
       "\n",
       "    .dataframe tbody tr th {\n",
       "        vertical-align: top;\n",
       "    }\n",
       "\n",
       "    .dataframe thead th {\n",
       "        text-align: right;\n",
       "    }\n",
       "</style>\n",
       "<table border=\"1\" class=\"dataframe\">\n",
       "  <thead>\n",
       "    <tr style=\"text-align: right;\">\n",
       "      <th>contents</th>\n",
       "      <th>その他</th>\n",
       "      <th>不要な契約強要</th>\n",
       "      <th>信用懸念</th>\n",
       "      <th>営業員の態度</th>\n",
       "      <th>契約解除手続き</th>\n",
       "      <th>料金割引の説明不足</th>\n",
       "      <th>料金請求の不一致</th>\n",
       "      <th>解釈条件の説明不足</th>\n",
       "    </tr>\n",
       "    <tr>\n",
       "      <th>area</th>\n",
       "      <th></th>\n",
       "      <th></th>\n",
       "      <th></th>\n",
       "      <th></th>\n",
       "      <th></th>\n",
       "      <th></th>\n",
       "      <th></th>\n",
       "      <th></th>\n",
       "    </tr>\n",
       "  </thead>\n",
       "  <tbody>\n",
       "    <tr>\n",
       "      <th>Aエリア</th>\n",
       "      <td>14</td>\n",
       "      <td>31</td>\n",
       "      <td>42</td>\n",
       "      <td>20</td>\n",
       "      <td>52</td>\n",
       "      <td>33</td>\n",
       "      <td>70</td>\n",
       "      <td>29</td>\n",
       "    </tr>\n",
       "    <tr>\n",
       "      <th>Bエリア</th>\n",
       "      <td>10</td>\n",
       "      <td>12</td>\n",
       "      <td>29</td>\n",
       "      <td>18</td>\n",
       "      <td>37</td>\n",
       "      <td>20</td>\n",
       "      <td>34</td>\n",
       "      <td>18</td>\n",
       "    </tr>\n",
       "    <tr>\n",
       "      <th>Cエリア</th>\n",
       "      <td>17</td>\n",
       "      <td>48</td>\n",
       "      <td>73</td>\n",
       "      <td>31</td>\n",
       "      <td>82</td>\n",
       "      <td>58</td>\n",
       "      <td>102</td>\n",
       "      <td>31</td>\n",
       "    </tr>\n",
       "    <tr>\n",
       "      <th>Dエリア</th>\n",
       "      <td>29</td>\n",
       "      <td>42</td>\n",
       "      <td>52</td>\n",
       "      <td>46</td>\n",
       "      <td>74</td>\n",
       "      <td>67</td>\n",
       "      <td>115</td>\n",
       "      <td>30</td>\n",
       "    </tr>\n",
       "    <tr>\n",
       "      <th>Eエリア</th>\n",
       "      <td>17</td>\n",
       "      <td>34</td>\n",
       "      <td>34</td>\n",
       "      <td>14</td>\n",
       "      <td>44</td>\n",
       "      <td>31</td>\n",
       "      <td>54</td>\n",
       "      <td>21</td>\n",
       "    </tr>\n",
       "    <tr>\n",
       "      <th>Fエリア</th>\n",
       "      <td>11</td>\n",
       "      <td>15</td>\n",
       "      <td>23</td>\n",
       "      <td>17</td>\n",
       "      <td>22</td>\n",
       "      <td>31</td>\n",
       "      <td>37</td>\n",
       "      <td>24</td>\n",
       "    </tr>\n",
       "    <tr>\n",
       "      <th>Gエリア</th>\n",
       "      <td>55</td>\n",
       "      <td>126</td>\n",
       "      <td>139</td>\n",
       "      <td>89</td>\n",
       "      <td>180</td>\n",
       "      <td>143</td>\n",
       "      <td>247</td>\n",
       "      <td>116</td>\n",
       "    </tr>\n",
       "  </tbody>\n",
       "</table>\n",
       "</div>"
      ],
      "text/plain": [
       "contents  その他  不要な契約強要  信用懸念  営業員の態度  契約解除手続き  料金割引の説明不足  料金請求の不一致  解釈条件の説明不足\n",
       "area                                                                         \n",
       "Aエリア       14       31    42      20       52         33        70         29\n",
       "Bエリア       10       12    29      18       37         20        34         18\n",
       "Cエリア       17       48    73      31       82         58       102         31\n",
       "Dエリア       29       42    52      46       74         67       115         30\n",
       "Eエリア       17       34    34      14       44         31        54         21\n",
       "Fエリア       11       15    23      17       22         31        37         24\n",
       "Gエリア       55      126   139      89      180        143       247        116"
      ]
     },
     "execution_count": 72,
     "metadata": {},
     "output_type": "execute_result"
    }
   ],
   "source": [
    "df_cross = df.pivot_table(index='area', columns='contents', values='id', aggfunc='count')\n",
    "df_cross"
   ]
  },
  {
   "cell_type": "code",
   "execution_count": 73,
   "metadata": {},
   "outputs": [
    {
     "data": {
      "text/html": [
       "<div>\n",
       "<style scoped>\n",
       "    .dataframe tbody tr th:only-of-type {\n",
       "        vertical-align: middle;\n",
       "    }\n",
       "\n",
       "    .dataframe tbody tr th {\n",
       "        vertical-align: top;\n",
       "    }\n",
       "\n",
       "    .dataframe thead th {\n",
       "        text-align: right;\n",
       "    }\n",
       "</style>\n",
       "<table border=\"1\" class=\"dataframe\">\n",
       "  <thead>\n",
       "    <tr style=\"text-align: right;\">\n",
       "      <th></th>\n",
       "      <th>その他</th>\n",
       "      <th>不要な契約強要</th>\n",
       "      <th>信用懸念</th>\n",
       "      <th>営業員の態度</th>\n",
       "      <th>契約解除手続き</th>\n",
       "      <th>料金割引の説明不足</th>\n",
       "      <th>料金請求の不一致</th>\n",
       "      <th>解釈条件の説明不足</th>\n",
       "    </tr>\n",
       "  </thead>\n",
       "  <tbody>\n",
       "    <tr>\n",
       "      <th>Aエリア</th>\n",
       "      <td>0.091503</td>\n",
       "      <td>0.100649</td>\n",
       "      <td>0.107143</td>\n",
       "      <td>0.085106</td>\n",
       "      <td>0.105906</td>\n",
       "      <td>0.086162</td>\n",
       "      <td>0.106222</td>\n",
       "      <td>0.107807</td>\n",
       "    </tr>\n",
       "    <tr>\n",
       "      <th>Bエリア</th>\n",
       "      <td>0.065359</td>\n",
       "      <td>0.038961</td>\n",
       "      <td>0.073980</td>\n",
       "      <td>0.076596</td>\n",
       "      <td>0.075356</td>\n",
       "      <td>0.052219</td>\n",
       "      <td>0.051593</td>\n",
       "      <td>0.066914</td>\n",
       "    </tr>\n",
       "    <tr>\n",
       "      <th>Cエリア</th>\n",
       "      <td>0.111111</td>\n",
       "      <td>0.155844</td>\n",
       "      <td>0.186224</td>\n",
       "      <td>0.131915</td>\n",
       "      <td>0.167006</td>\n",
       "      <td>0.151436</td>\n",
       "      <td>0.154780</td>\n",
       "      <td>0.115242</td>\n",
       "    </tr>\n",
       "    <tr>\n",
       "      <th>Dエリア</th>\n",
       "      <td>0.189542</td>\n",
       "      <td>0.136364</td>\n",
       "      <td>0.132653</td>\n",
       "      <td>0.195745</td>\n",
       "      <td>0.150713</td>\n",
       "      <td>0.174935</td>\n",
       "      <td>0.174507</td>\n",
       "      <td>0.111524</td>\n",
       "    </tr>\n",
       "    <tr>\n",
       "      <th>Eエリア</th>\n",
       "      <td>0.111111</td>\n",
       "      <td>0.110390</td>\n",
       "      <td>0.086735</td>\n",
       "      <td>0.059574</td>\n",
       "      <td>0.089613</td>\n",
       "      <td>0.080940</td>\n",
       "      <td>0.081942</td>\n",
       "      <td>0.078067</td>\n",
       "    </tr>\n",
       "    <tr>\n",
       "      <th>Fエリア</th>\n",
       "      <td>0.071895</td>\n",
       "      <td>0.048701</td>\n",
       "      <td>0.058673</td>\n",
       "      <td>0.072340</td>\n",
       "      <td>0.044807</td>\n",
       "      <td>0.080940</td>\n",
       "      <td>0.056146</td>\n",
       "      <td>0.089219</td>\n",
       "    </tr>\n",
       "    <tr>\n",
       "      <th>Gエリア</th>\n",
       "      <td>0.359477</td>\n",
       "      <td>0.409091</td>\n",
       "      <td>0.354592</td>\n",
       "      <td>0.378723</td>\n",
       "      <td>0.366599</td>\n",
       "      <td>0.373368</td>\n",
       "      <td>0.374810</td>\n",
       "      <td>0.431227</td>\n",
       "    </tr>\n",
       "  </tbody>\n",
       "</table>\n",
       "</div>"
      ],
      "text/plain": [
       "           その他   不要な契約強要      信用懸念    営業員の態度   契約解除手続き  料金割引の説明不足  料金請求の不一致  \\\n",
       "Aエリア  0.091503  0.100649  0.107143  0.085106  0.105906   0.086162  0.106222   \n",
       "Bエリア  0.065359  0.038961  0.073980  0.076596  0.075356   0.052219  0.051593   \n",
       "Cエリア  0.111111  0.155844  0.186224  0.131915  0.167006   0.151436  0.154780   \n",
       "Dエリア  0.189542  0.136364  0.132653  0.195745  0.150713   0.174935  0.174507   \n",
       "Eエリア  0.111111  0.110390  0.086735  0.059574  0.089613   0.080940  0.081942   \n",
       "Fエリア  0.071895  0.048701  0.058673  0.072340  0.044807   0.080940  0.056146   \n",
       "Gエリア  0.359477  0.409091  0.354592  0.378723  0.366599   0.373368  0.374810   \n",
       "\n",
       "      解釈条件の説明不足  \n",
       "Aエリア   0.107807  \n",
       "Bエリア   0.066914  \n",
       "Cエリア   0.115242  \n",
       "Dエリア   0.111524  \n",
       "Eエリア   0.078067  \n",
       "Fエリア   0.089219  \n",
       "Gエリア   0.431227  "
      ]
     },
     "execution_count": 73,
     "metadata": {},
     "output_type": "execute_result"
    }
   ],
   "source": [
    "special_coefficient = pd.DataFrame()\n",
    "for c in df_cross.columns:\n",
    "    df_tmp = df_cross.loc[:, c] / df_cross.loc[:, c].sum()\n",
    "    special_coefficient = pd.concat([special_coefficient, df_tmp], axis=1)\n",
    "special_coefficient"
   ]
  }
 ],
 "metadata": {
  "kernelspec": {
   "display_name": "Python 3",
   "language": "python",
   "name": "python3"
  },
  "language_info": {
   "codemirror_mode": {
    "name": "ipython",
    "version": 3
   },
   "file_extension": ".py",
   "mimetype": "text/x-python",
   "name": "python",
   "nbconvert_exporter": "python",
   "pygments_lexer": "ipython3",
   "version": "3.10.9"
  }
 },
 "nbformat": 4,
 "nbformat_minor": 2
}
