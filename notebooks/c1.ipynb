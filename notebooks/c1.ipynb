{
 "cells": [
  {
   "cell_type": "code",
   "execution_count": 233,
   "metadata": {},
   "outputs": [],
   "source": [
    "from glob import glob\n",
    "import pandas as pd"
   ]
  },
  {
   "cell_type": "code",
   "execution_count": 234,
   "metadata": {},
   "outputs": [],
   "source": [
    "files = glob(\"../csv/例題_データアナリティクス基礎/*\")\n",
    "# for i, f in enumerate(files):\n",
    "#     print(i, f)\n",
    "bycycles = pd.read_excel(files[2])\n",
    "bycycles.columns = [\"id\", \"area\", \"size\", \"height\", \"type\"]\n",
    "# bycycles"
   ]
  },
  {
   "cell_type": "markdown",
   "metadata": {},
   "source": [
    "タイプごとの数"
   ]
  },
  {
   "cell_type": "code",
   "execution_count": 219,
   "metadata": {},
   "outputs": [
    {
     "data": {
      "text/html": [
       "<div>\n",
       "<style scoped>\n",
       "    .dataframe tbody tr th:only-of-type {\n",
       "        vertical-align: middle;\n",
       "    }\n",
       "\n",
       "    .dataframe tbody tr th {\n",
       "        vertical-align: top;\n",
       "    }\n",
       "\n",
       "    .dataframe thead th {\n",
       "        text-align: right;\n",
       "    }\n",
       "</style>\n",
       "<table border=\"1\" class=\"dataframe\">\n",
       "  <thead>\n",
       "    <tr style=\"text-align: right;\">\n",
       "      <th></th>\n",
       "      <th>type</th>\n",
       "      <th>id</th>\n",
       "    </tr>\n",
       "  </thead>\n",
       "  <tbody>\n",
       "    <tr>\n",
       "      <th>0</th>\n",
       "      <td>X</td>\n",
       "      <td>14</td>\n",
       "    </tr>\n",
       "    <tr>\n",
       "      <th>1</th>\n",
       "      <td>Y</td>\n",
       "      <td>6</td>\n",
       "    </tr>\n",
       "    <tr>\n",
       "      <th>2</th>\n",
       "      <td>Z</td>\n",
       "      <td>10</td>\n",
       "    </tr>\n",
       "  </tbody>\n",
       "</table>\n",
       "</div>"
      ],
      "text/plain": [
       "  type  id\n",
       "0    X  14\n",
       "1    Y   6\n",
       "2    Z  10"
      ]
     },
     "execution_count": 219,
     "metadata": {},
     "output_type": "execute_result"
    }
   ],
   "source": [
    "bycycles.groupby(bycycles['type'], as_index=False).count()[['type', 'id']]"
   ]
  },
  {
   "cell_type": "markdown",
   "metadata": {},
   "source": [
    "地区平均の補完前後の比較"
   ]
  },
  {
   "cell_type": "code",
   "execution_count": 236,
   "metadata": {},
   "outputs": [
    {
     "data": {
      "text/html": [
       "<div>\n",
       "<style scoped>\n",
       "    .dataframe tbody tr th:only-of-type {\n",
       "        vertical-align: middle;\n",
       "    }\n",
       "\n",
       "    .dataframe tbody tr th {\n",
       "        vertical-align: top;\n",
       "    }\n",
       "\n",
       "    .dataframe thead th {\n",
       "        text-align: right;\n",
       "    }\n",
       "</style>\n",
       "<table border=\"1\" class=\"dataframe\">\n",
       "  <thead>\n",
       "    <tr style=\"text-align: right;\">\n",
       "      <th></th>\n",
       "      <th>id</th>\n",
       "      <th>size</th>\n",
       "      <th>height</th>\n",
       "    </tr>\n",
       "    <tr>\n",
       "      <th>area</th>\n",
       "      <th></th>\n",
       "      <th></th>\n",
       "      <th></th>\n",
       "    </tr>\n",
       "  </thead>\n",
       "  <tbody>\n",
       "    <tr>\n",
       "      <th>A-1</th>\n",
       "      <td>3.5</td>\n",
       "      <td>26.333333</td>\n",
       "      <td>152.666667</td>\n",
       "    </tr>\n",
       "    <tr>\n",
       "      <th>A-2</th>\n",
       "      <td>10.5</td>\n",
       "      <td>26.428571</td>\n",
       "      <td>156.125000</td>\n",
       "    </tr>\n",
       "    <tr>\n",
       "      <th>B-1</th>\n",
       "      <td>17.5</td>\n",
       "      <td>26.400000</td>\n",
       "      <td>164.166667</td>\n",
       "    </tr>\n",
       "    <tr>\n",
       "      <th>B-2</th>\n",
       "      <td>25.5</td>\n",
       "      <td>26.555556</td>\n",
       "      <td>156.400000</td>\n",
       "    </tr>\n",
       "  </tbody>\n",
       "</table>\n",
       "</div>"
      ],
      "text/plain": [
       "        id       size      height\n",
       "area                             \n",
       "A-1    3.5  26.333333  152.666667\n",
       "A-2   10.5  26.428571  156.125000\n",
       "B-1   17.5  26.400000  164.166667\n",
       "B-2   25.5  26.555556  156.400000"
      ]
     },
     "metadata": {},
     "output_type": "display_data"
    }
   ],
   "source": [
    "before = bycycles.groupby('area').mean(numeric_only=True)\n",
    "display(before)\n"
   ]
  },
  {
   "cell_type": "code",
   "execution_count": 242,
   "metadata": {},
   "outputs": [
    {
     "name": "stdout",
     "output_type": "stream",
     "text": [
      "area\n",
      "A-1    26.333333\n",
      "A-2    26.428571\n",
      "B-1    26.400000\n",
      "B-2    26.555556\n",
      "Name: size, dtype: float64\n"
     ]
    },
    {
     "data": {
      "text/plain": [
       "area\n",
       "A-1    26.333333\n",
       "A-2    26.428571\n",
       "B-1    26.400000\n",
       "B-2    26.555556\n",
       "Name: size, dtype: float64"
      ]
     },
     "metadata": {},
     "output_type": "display_data"
    }
   ],
   "source": [
    "area_mean = bycycles.groupby(\"area\").mean(numeric_only=True)[\"size\"]\n",
    "print(area_mean)\n",
    "\n",
    "bycycles_hokan = bycycles.copy()\n",
    "bycycles_hokan[bycycles_hokan[\"area\"] == \"A-1\"] = bycycles_hokan[\n",
    "    bycycles_hokan[\"area\"] == \"A-1\"\n",
    "].fillna(area_mean[\"A-1\"])\n",
    "bycycles_hokan[bycycles_hokan[\"area\"] == \"B-1\"] = bycycles_hokan[\n",
    "    bycycles_hokan[\"area\"] == \"B-1\"\n",
    "].fillna(area_mean[\"B-1\"])\n",
    "bycycles_hokan[bycycles_hokan[\"area\"] == \"A-2\"] = bycycles_hokan[\n",
    "    bycycles_hokan[\"area\"] == \"A-2\"\n",
    "].fillna(area_mean[\"A-2\"])\n",
    "bycycles_hokan[bycycles_hokan[\"area\"] == \"B-2\"] = bycycles_hokan[\n",
    "    bycycles_hokan[\"area\"] == \"B-2\"\n",
    "].fillna(area_mean[\"B-2\"])\n",
    "after = bycycles_hokan.groupby(\"area\").mean(numeric_only=True)\n",
    "display(after['size'])"
   ]
  },
  {
   "cell_type": "markdown",
   "metadata": {},
   "source": [
    "AとBの比較"
   ]
  },
  {
   "cell_type": "code",
   "execution_count": 243,
   "metadata": {},
   "outputs": [
    {
     "name": "stdout",
     "output_type": "stream",
     "text": [
      "type\n",
      "X    6\n",
      "Y    4\n",
      "Z    4\n",
      "Name: id, dtype: int64\n",
      "type\n",
      "X    8\n",
      "Y    2\n",
      "Z    6\n",
      "Name: id, dtype: int64\n"
     ]
    }
   ],
   "source": [
    "area_a =  bycycles[(bycycles['area'] == 'A-1') | (bycycles['area'] == 'A-2')]\n",
    "area_b =  bycycles[(bycycles['area'] == 'B-1') | (bycycles['area'] == 'B-2')]\n",
    "print(area_a.groupby('type').count()['id'])\n",
    "print(area_b.groupby('type').count()['id'])"
   ]
  },
  {
   "cell_type": "markdown",
   "metadata": {},
   "source": [
    "タイヤサイズ当りの身長"
   ]
  },
  {
   "cell_type": "code",
   "execution_count": 244,
   "metadata": {},
   "outputs": [
    {
     "data": {
      "text/html": [
       "<div>\n",
       "<style scoped>\n",
       "    .dataframe tbody tr th:only-of-type {\n",
       "        vertical-align: middle;\n",
       "    }\n",
       "\n",
       "    .dataframe tbody tr th {\n",
       "        vertical-align: top;\n",
       "    }\n",
       "\n",
       "    .dataframe thead th {\n",
       "        text-align: right;\n",
       "    }\n",
       "</style>\n",
       "<table border=\"1\" class=\"dataframe\">\n",
       "  <thead>\n",
       "    <tr style=\"text-align: right;\">\n",
       "      <th></th>\n",
       "      <th>id</th>\n",
       "      <th>size</th>\n",
       "      <th>height</th>\n",
       "      <th>ratio</th>\n",
       "    </tr>\n",
       "    <tr>\n",
       "      <th>type</th>\n",
       "      <th></th>\n",
       "      <th></th>\n",
       "      <th></th>\n",
       "      <th></th>\n",
       "    </tr>\n",
       "  </thead>\n",
       "  <tbody>\n",
       "    <tr>\n",
       "      <th>X</th>\n",
       "      <td>16.714286</td>\n",
       "      <td>26.571429</td>\n",
       "      <td>155.928571</td>\n",
       "      <td>14.905430</td>\n",
       "    </tr>\n",
       "    <tr>\n",
       "      <th>Y</th>\n",
       "      <td>11.833333</td>\n",
       "      <td>26.238095</td>\n",
       "      <td>154.500000</td>\n",
       "      <td>14.956497</td>\n",
       "    </tr>\n",
       "    <tr>\n",
       "      <th>Z</th>\n",
       "      <td>16.000000</td>\n",
       "      <td>26.395556</td>\n",
       "      <td>160.400000</td>\n",
       "      <td>15.435023</td>\n",
       "    </tr>\n",
       "  </tbody>\n",
       "</table>\n",
       "</div>"
      ],
      "text/plain": [
       "             id       size      height      ratio\n",
       "type                                             \n",
       "X     16.714286  26.571429  155.928571  14.905430\n",
       "Y     11.833333  26.238095  154.500000  14.956497\n",
       "Z     16.000000  26.395556  160.400000  15.435023"
      ]
     },
     "execution_count": 244,
     "metadata": {},
     "output_type": "execute_result"
    }
   ],
   "source": [
    "type_mean = bycycles_hokan.groupby('type').mean(numeric_only=True)\n",
    "type_mean['ratio'] = type_mean['height'] / type_mean['size'] * 2.54\n",
    "type_mean"
   ]
  },
  {
   "cell_type": "code",
   "execution_count": null,
   "metadata": {},
   "outputs": [],
   "source": []
  }
 ],
 "metadata": {
  "kernelspec": {
   "display_name": "Python 3",
   "language": "python",
   "name": "python3"
  },
  "language_info": {
   "codemirror_mode": {
    "name": "ipython",
    "version": 3
   },
   "file_extension": ".py",
   "mimetype": "text/x-python",
   "name": "python",
   "nbconvert_exporter": "python",
   "pygments_lexer": "ipython3",
   "version": "3.10.9"
  }
 },
 "nbformat": 4,
 "nbformat_minor": 2
}
