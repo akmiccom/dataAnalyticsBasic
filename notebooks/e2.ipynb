{
 "cells": [
  {
   "cell_type": "code",
   "execution_count": 1,
   "metadata": {},
   "outputs": [],
   "source": [
    "from glob import glob\n",
    "import pandas as pd\n",
    "import numpy as np\n",
    "from scipy import stats  \n",
    "import matplotlib.pyplot as plt\n",
    "import japanize_matplotlib"
   ]
  },
  {
   "cell_type": "code",
   "execution_count": 2,
   "metadata": {},
   "outputs": [
    {
     "name": "stdout",
     "output_type": "stream",
     "text": [
      "0 ../csv/演習問題_データアナリティクス基礎\\第10章演習問題_乱数で発生させて分布の基本統計量.xlsx\n",
      "1 ../csv/演習問題_データアナリティクス基礎\\第2章演習問題_クレームデータ.xlsx\n",
      "2 ../csv/演習問題_データアナリティクス基礎\\第3章演習問題_職場ストレス.xlsx\n",
      "3 ../csv/演習問題_データアナリティクス基礎\\第4章演習問題_児童のネット利用時間.xlsx\n",
      "4 ../csv/演習問題_データアナリティクス基礎\\第5章演習問題_生鮮野菜の購入額.xlsx\n",
      "5 ../csv/演習問題_データアナリティクス基礎\\第7章演習問題_授業効果の検証.xlsx\n",
      "6 ../csv/演習問題_データアナリティクス基礎\\第8章演習問題1_健康食品・化粧品販売額.xlsx\n",
      "7 ../csv/演習問題_データアナリティクス基礎\\第8章演習問題2_百貨店の衣料品売上高.xlsx\n",
      "8 ../csv/演習問題_データアナリティクス基礎\\第9章演習問題_自由記述データ＆形態素解析データ.xlsx\n"
     ]
    }
   ],
   "source": [
    "files = glob(\"../csv/演習問題_データアナリティクス基礎/*\")\n",
    "for i, f in enumerate(files):\n",
    "    print(i, f)\n"
   ]
  },
  {
   "cell_type": "code",
   "execution_count": 5,
   "metadata": {},
   "outputs": [
    {
     "name": "stdout",
     "output_type": "stream",
     "text": [
      "Index(['回答者\\n番号', '性別', '勤続年数', '強いストレス'], dtype='object')\n",
      "<class 'pandas.core.frame.DataFrame'>\n",
      "RangeIndex: 440 entries, 0 to 439\n",
      "Data columns (total 4 columns):\n",
      " #   Column  Non-Null Count  Dtype \n",
      "---  ------  --------------  ----- \n",
      " 0   id      440 non-null    int64 \n",
      " 1   gender  440 non-null    object\n",
      " 2   years   440 non-null    object\n",
      " 3   stress  440 non-null    object\n",
      "dtypes: int64(1), object(3)\n",
      "memory usage: 13.9+ KB\n"
     ]
    },
    {
     "data": {
      "text/html": [
       "<div>\n",
       "<style scoped>\n",
       "    .dataframe tbody tr th:only-of-type {\n",
       "        vertical-align: middle;\n",
       "    }\n",
       "\n",
       "    .dataframe tbody tr th {\n",
       "        vertical-align: top;\n",
       "    }\n",
       "\n",
       "    .dataframe thead th {\n",
       "        text-align: right;\n",
       "    }\n",
       "</style>\n",
       "<table border=\"1\" class=\"dataframe\">\n",
       "  <thead>\n",
       "    <tr style=\"text-align: right;\">\n",
       "      <th></th>\n",
       "      <th>id</th>\n",
       "      <th>gender</th>\n",
       "      <th>years</th>\n",
       "      <th>stress</th>\n",
       "    </tr>\n",
       "  </thead>\n",
       "  <tbody>\n",
       "    <tr>\n",
       "      <th>0</th>\n",
       "      <td>1</td>\n",
       "      <td>男</td>\n",
       "      <td>1年</td>\n",
       "      <td>ない</td>\n",
       "    </tr>\n",
       "    <tr>\n",
       "      <th>1</th>\n",
       "      <td>2</td>\n",
       "      <td>男</td>\n",
       "      <td>1年</td>\n",
       "      <td>ない</td>\n",
       "    </tr>\n",
       "    <tr>\n",
       "      <th>2</th>\n",
       "      <td>3</td>\n",
       "      <td>女</td>\n",
       "      <td>2年</td>\n",
       "      <td>ある</td>\n",
       "    </tr>\n",
       "    <tr>\n",
       "      <th>3</th>\n",
       "      <td>4</td>\n",
       "      <td>男</td>\n",
       "      <td>1年</td>\n",
       "      <td>ある</td>\n",
       "    </tr>\n",
       "    <tr>\n",
       "      <th>4</th>\n",
       "      <td>5</td>\n",
       "      <td>男</td>\n",
       "      <td>1年</td>\n",
       "      <td>ない</td>\n",
       "    </tr>\n",
       "  </tbody>\n",
       "</table>\n",
       "</div>"
      ],
      "text/plain": [
       "   id gender years stress\n",
       "0   1      男    1年     ない\n",
       "1   2      男    1年     ない\n",
       "2   3      女    2年     ある\n",
       "3   4      男    1年     ある\n",
       "4   5      男    1年     ない"
      ]
     },
     "execution_count": 5,
     "metadata": {},
     "output_type": "execute_result"
    }
   ],
   "source": [
    "df = pd.read_excel(files[2])\n",
    "print(df.columns)\n",
    "df.columns = ['id', 'gender', 'years', 'stress']\n",
    "df.info()\n",
    "df.head()"
   ]
  },
  {
   "cell_type": "markdown",
   "metadata": {},
   "source": [
    "強いストレスの人数 199"
   ]
  },
  {
   "cell_type": "code",
   "execution_count": 22,
   "metadata": {},
   "outputs": [
    {
     "data": {
      "text/html": [
       "<div>\n",
       "<style scoped>\n",
       "    .dataframe tbody tr th:only-of-type {\n",
       "        vertical-align: middle;\n",
       "    }\n",
       "\n",
       "    .dataframe tbody tr th {\n",
       "        vertical-align: top;\n",
       "    }\n",
       "\n",
       "    .dataframe thead th {\n",
       "        text-align: right;\n",
       "    }\n",
       "</style>\n",
       "<table border=\"1\" class=\"dataframe\">\n",
       "  <thead>\n",
       "    <tr style=\"text-align: right;\">\n",
       "      <th></th>\n",
       "      <th>id</th>\n",
       "      <th>gender</th>\n",
       "      <th>years</th>\n",
       "    </tr>\n",
       "    <tr>\n",
       "      <th>stress</th>\n",
       "      <th></th>\n",
       "      <th></th>\n",
       "      <th></th>\n",
       "    </tr>\n",
       "  </thead>\n",
       "  <tbody>\n",
       "    <tr>\n",
       "      <th>ある</th>\n",
       "      <td>199</td>\n",
       "      <td>199</td>\n",
       "      <td>199</td>\n",
       "    </tr>\n",
       "    <tr>\n",
       "      <th>ない</th>\n",
       "      <td>241</td>\n",
       "      <td>241</td>\n",
       "      <td>241</td>\n",
       "    </tr>\n",
       "  </tbody>\n",
       "</table>\n",
       "</div>"
      ],
      "text/plain": [
       "         id  gender  years\n",
       "stress                    \n",
       "ある      199     199    199\n",
       "ない      241     241    241"
      ]
     },
     "execution_count": 22,
     "metadata": {},
     "output_type": "execute_result"
    }
   ],
   "source": [
    "df.groupby(['stress']).count()"
   ]
  },
  {
   "cell_type": "markdown",
   "metadata": {},
   "source": [
    "入社一年目で強いストレスの割合: 25.5%"
   ]
  },
  {
   "cell_type": "code",
   "execution_count": 31,
   "metadata": {},
   "outputs": [
    {
     "data": {
      "text/html": [
       "<div>\n",
       "<style scoped>\n",
       "    .dataframe tbody tr th:only-of-type {\n",
       "        vertical-align: middle;\n",
       "    }\n",
       "\n",
       "    .dataframe tbody tr th {\n",
       "        vertical-align: top;\n",
       "    }\n",
       "\n",
       "    .dataframe thead th {\n",
       "        text-align: right;\n",
       "    }\n",
       "</style>\n",
       "<table border=\"1\" class=\"dataframe\">\n",
       "  <thead>\n",
       "    <tr style=\"text-align: right;\">\n",
       "      <th></th>\n",
       "      <th>gender</th>\n",
       "      <th>id</th>\n",
       "      <th>stress</th>\n",
       "      <th>years</th>\n",
       "    </tr>\n",
       "    <tr>\n",
       "      <th>stress</th>\n",
       "      <th></th>\n",
       "      <th></th>\n",
       "      <th></th>\n",
       "      <th></th>\n",
       "    </tr>\n",
       "  </thead>\n",
       "  <tbody>\n",
       "    <tr>\n",
       "      <th>ある</th>\n",
       "      <td>0.254808</td>\n",
       "      <td>0.254808</td>\n",
       "      <td>NaN</td>\n",
       "      <td>0.254808</td>\n",
       "    </tr>\n",
       "    <tr>\n",
       "      <th>ない</th>\n",
       "      <td>0.745192</td>\n",
       "      <td>0.745192</td>\n",
       "      <td>NaN</td>\n",
       "      <td>0.745192</td>\n",
       "    </tr>\n",
       "  </tbody>\n",
       "</table>\n",
       "</div>"
      ],
      "text/plain": [
       "          gender        id  stress     years\n",
       "stress                                      \n",
       "ある      0.254808  0.254808     NaN  0.254808\n",
       "ない      0.745192  0.745192     NaN  0.745192"
      ]
     },
     "execution_count": 31,
     "metadata": {},
     "output_type": "execute_result"
    }
   ],
   "source": [
    "df_1st = df.query('years == \"1年\"')\n",
    "df_1st.groupby('stress').count() / df_1st.count()|"
   ]
  },
  {
   "cell_type": "markdown",
   "metadata": {},
   "source": [
    "1年目かつ「ある」の男女の割合の差: 67.6%"
   ]
  },
  {
   "cell_type": "code",
   "execution_count": 177,
   "metadata": {},
   "outputs": [
    {
     "data": {
      "text/html": [
       "<div>\n",
       "<style scoped>\n",
       "    .dataframe tbody tr th:only-of-type {\n",
       "        vertical-align: middle;\n",
       "    }\n",
       "\n",
       "    .dataframe tbody tr th {\n",
       "        vertical-align: top;\n",
       "    }\n",
       "\n",
       "    .dataframe thead th {\n",
       "        text-align: right;\n",
       "    }\n",
       "</style>\n",
       "<table border=\"1\" class=\"dataframe\">\n",
       "  <thead>\n",
       "    <tr style=\"text-align: right;\">\n",
       "      <th>stress</th>\n",
       "      <th>ある</th>\n",
       "      <th>ない</th>\n",
       "      <th>total</th>\n",
       "    </tr>\n",
       "    <tr>\n",
       "      <th>gender</th>\n",
       "      <th></th>\n",
       "      <th></th>\n",
       "      <th></th>\n",
       "    </tr>\n",
       "  </thead>\n",
       "  <tbody>\n",
       "    <tr>\n",
       "      <th>女</th>\n",
       "      <td>25</td>\n",
       "      <td>5</td>\n",
       "      <td>30</td>\n",
       "    </tr>\n",
       "    <tr>\n",
       "      <th>男</th>\n",
       "      <td>28</td>\n",
       "      <td>150</td>\n",
       "      <td>178</td>\n",
       "    </tr>\n",
       "  </tbody>\n",
       "</table>\n",
       "</div>"
      ],
      "text/plain": [
       "stress  ある   ない  total\n",
       "gender                \n",
       "女       25    5     30\n",
       "男       28  150    178"
      ]
     },
     "metadata": {},
     "output_type": "display_data"
    },
    {
     "data": {
      "text/plain": [
       "0.6760299625468165"
      ]
     },
     "execution_count": 177,
     "metadata": {},
     "output_type": "execute_result"
    }
   ],
   "source": [
    "gender_stress = df_1st.pivot_table(index='gender', columns='stress', values='id', aggfunc='count')\n",
    "gender_stress['total'] = gender_stress.apply(lambda x: sum(x), axis=1)\n",
    "display(gender_stress)\n",
    "\n",
    "(gender_stress['ある'] / gender_stress['total'])[0] - (gender_stress['ある'] / gender_stress['total'])[1]"
   ]
  },
  {
   "cell_type": "markdown",
   "metadata": {},
   "source": [
    "勤続年数を質的変数とし勤続年数と強いストレスの関連がないと仮定したときの期待度数: 94.1"
   ]
  },
  {
   "cell_type": "code",
   "execution_count": 126,
   "metadata": {},
   "outputs": [
    {
     "data": {
      "text/html": [
       "<div>\n",
       "<style scoped>\n",
       "    .dataframe tbody tr th:only-of-type {\n",
       "        vertical-align: middle;\n",
       "    }\n",
       "\n",
       "    .dataframe tbody tr th {\n",
       "        vertical-align: top;\n",
       "    }\n",
       "\n",
       "    .dataframe thead th {\n",
       "        text-align: right;\n",
       "    }\n",
       "</style>\n",
       "<table border=\"1\" class=\"dataframe\">\n",
       "  <thead>\n",
       "    <tr style=\"text-align: right;\">\n",
       "      <th>years</th>\n",
       "      <th>1年</th>\n",
       "      <th>2年</th>\n",
       "      <th>3年</th>\n",
       "    </tr>\n",
       "    <tr>\n",
       "      <th>stress</th>\n",
       "      <th></th>\n",
       "      <th></th>\n",
       "      <th></th>\n",
       "    </tr>\n",
       "  </thead>\n",
       "  <tbody>\n",
       "    <tr>\n",
       "      <th>ある</th>\n",
       "      <td>53</td>\n",
       "      <td>112</td>\n",
       "      <td>34</td>\n",
       "    </tr>\n",
       "    <tr>\n",
       "      <th>ない</th>\n",
       "      <td>155</td>\n",
       "      <td>42</td>\n",
       "      <td>44</td>\n",
       "    </tr>\n",
       "  </tbody>\n",
       "</table>\n",
       "</div>"
      ],
      "text/plain": [
       "years    1年   2年  3年\n",
       "stress              \n",
       "ある       53  112  34\n",
       "ない      155   42  44"
      ]
     },
     "execution_count": 126,
     "metadata": {},
     "output_type": "execute_result"
    }
   ],
   "source": [
    "observation = df.pivot_table(index='stress', columns='years', values='id', aggfunc='count')\n",
    "observation"
   ]
  },
  {
   "cell_type": "code",
   "execution_count": 127,
   "metadata": {},
   "outputs": [
    {
     "data": {
      "text/html": [
       "<div>\n",
       "<style scoped>\n",
       "    .dataframe tbody tr th:only-of-type {\n",
       "        vertical-align: middle;\n",
       "    }\n",
       "\n",
       "    .dataframe tbody tr th {\n",
       "        vertical-align: top;\n",
       "    }\n",
       "\n",
       "    .dataframe thead th {\n",
       "        text-align: right;\n",
       "    }\n",
       "</style>\n",
       "<table border=\"1\" class=\"dataframe\">\n",
       "  <thead>\n",
       "    <tr style=\"text-align: right;\">\n",
       "      <th>years</th>\n",
       "      <th>1年</th>\n",
       "      <th>2年</th>\n",
       "      <th>3年</th>\n",
       "      <th>total</th>\n",
       "    </tr>\n",
       "    <tr>\n",
       "      <th>stress</th>\n",
       "      <th></th>\n",
       "      <th></th>\n",
       "      <th></th>\n",
       "      <th></th>\n",
       "    </tr>\n",
       "  </thead>\n",
       "  <tbody>\n",
       "    <tr>\n",
       "      <th>ある</th>\n",
       "      <td>53</td>\n",
       "      <td>112</td>\n",
       "      <td>34</td>\n",
       "      <td>199</td>\n",
       "    </tr>\n",
       "    <tr>\n",
       "      <th>ない</th>\n",
       "      <td>155</td>\n",
       "      <td>42</td>\n",
       "      <td>44</td>\n",
       "      <td>241</td>\n",
       "    </tr>\n",
       "    <tr>\n",
       "      <th>total</th>\n",
       "      <td>208</td>\n",
       "      <td>154</td>\n",
       "      <td>78</td>\n",
       "      <td>440</td>\n",
       "    </tr>\n",
       "  </tbody>\n",
       "</table>\n",
       "</div>"
      ],
      "text/plain": [
       "years    1年   2年  3年  total\n",
       "stress                     \n",
       "ある       53  112  34    199\n",
       "ない      155   42  44    241\n",
       "total   208  154  78    440"
      ]
     },
     "execution_count": 127,
     "metadata": {},
     "output_type": "execute_result"
    }
   ],
   "source": [
    "observation_total = observation.copy()\n",
    "observation_total.loc['total'] = observation_total.sum()\n",
    "observation_total['total'] = observation_total.apply(lambda x : sum(x), axis=1)\n",
    "observation_total"
   ]
  },
  {
   "cell_type": "code",
   "execution_count": 128,
   "metadata": {},
   "outputs": [
    {
     "data": {
      "text/html": [
       "<div>\n",
       "<style scoped>\n",
       "    .dataframe tbody tr th:only-of-type {\n",
       "        vertical-align: middle;\n",
       "    }\n",
       "\n",
       "    .dataframe tbody tr th {\n",
       "        vertical-align: top;\n",
       "    }\n",
       "\n",
       "    .dataframe thead th {\n",
       "        text-align: right;\n",
       "    }\n",
       "</style>\n",
       "<table border=\"1\" class=\"dataframe\">\n",
       "  <thead>\n",
       "    <tr style=\"text-align: right;\">\n",
       "      <th>years</th>\n",
       "      <th>1年</th>\n",
       "      <th>2年</th>\n",
       "      <th>3年</th>\n",
       "    </tr>\n",
       "  </thead>\n",
       "  <tbody>\n",
       "    <tr>\n",
       "      <th>ある</th>\n",
       "      <td>94.072727</td>\n",
       "      <td>69.65</td>\n",
       "      <td>35.277273</td>\n",
       "    </tr>\n",
       "    <tr>\n",
       "      <th>ない</th>\n",
       "      <td>113.927273</td>\n",
       "      <td>84.35</td>\n",
       "      <td>42.722727</td>\n",
       "    </tr>\n",
       "  </tbody>\n",
       "</table>\n",
       "</div>"
      ],
      "text/plain": [
       "years          1年     2年         3年\n",
       "ある      94.072727  69.65  35.277273\n",
       "ない     113.927273  84.35  42.722727"
      ]
     },
     "execution_count": 128,
     "metadata": {},
     "output_type": "execute_result"
    }
   ],
   "source": [
    "total_ratio = observation.sum() / observation.sum().sum()\n",
    "yes = total_ratio * observation.loc['ある'].sum()\n",
    "no = total_ratio * observation.loc['ない'].sum()\n",
    "\n",
    "expectation = pd.DataFrame([yes, no,], index=[\"ある\", \"ない\"])\n",
    "expectation"
   ]
  },
  {
   "cell_type": "markdown",
   "metadata": {},
   "source": [
    "$\\chi^2$ 仮説検定: $H_0: 関連がない, H_1: 関連がある$\n",
    "- 棄却域 chi^2値 > 9.21\n",
    "- chi^2値 = 79.8\n",
    "- 以上より有意となり勤続年数とストレスには関連性があると言える"
   ]
  },
  {
   "cell_type": "code",
   "execution_count": 142,
   "metadata": {},
   "outputs": [
    {
     "name": "stdout",
     "output_type": "stream",
     "text": [
      "9.21034037197618\n"
     ]
    }
   ],
   "source": [
    "# alphaパーセント点のchi^2値\n",
    "alpha = 0.01\n",
    "dof = 2\n",
    "chi_2 = stats.chi2.ppf(1-alpha, dof)\n",
    "print(f'{chi_2}')"
   ]
  },
  {
   "cell_type": "code",
   "execution_count": 136,
   "metadata": {},
   "outputs": [
    {
     "data": {
      "text/plain": [
       "79.83782087370571"
      ]
     },
     "execution_count": 136,
     "metadata": {},
     "output_type": "execute_result"
    }
   ],
   "source": [
    "# chi^2 統計量\n",
    "((observation - expectation)**2 / expectation).sum().sum()"
   ]
  }
 ],
 "metadata": {
  "kernelspec": {
   "display_name": "Python 3",
   "language": "python",
   "name": "python3"
  },
  "language_info": {
   "codemirror_mode": {
    "name": "ipython",
    "version": 3
   },
   "file_extension": ".py",
   "mimetype": "text/x-python",
   "name": "python",
   "nbconvert_exporter": "python",
   "pygments_lexer": "ipython3",
   "version": "3.10.9"
  }
 },
 "nbformat": 4,
 "nbformat_minor": 2
}
