{
 "cells": [
  {
   "cell_type": "code",
   "execution_count": 39,
   "metadata": {},
   "outputs": [],
   "source": [
    "from glob import glob\n",
    "import pandas as pd\n",
    "import numpy as np\n",
    "from scipy import stats  \n",
    "import matplotlib.pyplot as plt\n",
    "import japanize_matplotlib\n",
    "from itertools import combinations"
   ]
  },
  {
   "cell_type": "markdown",
   "metadata": {},
   "source": [
    "A市の車の所有率 0.67"
   ]
  },
  {
   "cell_type": "markdown",
   "metadata": {},
   "source": [
    "14世帯を無作為抽出 所有世帯数の平均と分散"
   ]
  },
  {
   "cell_type": "code",
   "execution_count": 112,
   "metadata": {},
   "outputs": [
    {
     "name": "stdout",
     "output_type": "stream",
     "text": [
      "平均: 9.38, 分散: 3.10\n"
     ]
    }
   ],
   "source": [
    "p = 0.67\n",
    "n = 14\n",
    "mean = p * n\n",
    "var = p * (1 - p) * n\n",
    "print(f'平均: {mean:.02f}, 分散: {var:.02f}')"
   ]
  },
  {
   "cell_type": "markdown",
   "metadata": {},
   "source": [
    "14世帯を無作為に選択し、世帯数が 5 世帯以下の確率"
   ]
  },
  {
   "cell_type": "code",
   "execution_count": 113,
   "metadata": {},
   "outputs": [
    {
     "name": "stdout",
     "output_type": "stream",
     "text": [
      "5世帯以下: 0.016\n"
     ]
    }
   ],
   "source": [
    "hit = 5\n",
    "dist = stats.binom.pmf(np.arange(n+1), n, p)\n",
    "print(f'5世帯以下: {dist[:hit+1].sum():.03f}')"
   ]
  },
  {
   "cell_type": "markdown",
   "metadata": {},
   "source": [
    "100世帯無作為、60以上70以下となる確率"
   ]
  },
  {
   "cell_type": "code",
   "execution_count": 116,
   "metadata": {},
   "outputs": [
    {
     "name": "stdout",
     "output_type": "stream",
     "text": [
      "60以上70以下: 0.71\n"
     ]
    }
   ],
   "source": [
    "n = 100\n",
    "hit1, hit2 = 60, 70\n",
    "dist = stats.binom.pmf(np.arange(n+1), n, p)\n",
    "print(f'60以上70以下: {dist[:hit2+1].sum() - dist[:hit1].sum():.02f}')"
   ]
  },
  {
   "cell_type": "markdown",
   "metadata": {},
   "source": [
    "65世帯以上の確率と70世帯以下の確率の比較"
   ]
  },
  {
   "cell_type": "code",
   "execution_count": 118,
   "metadata": {},
   "outputs": [
    {
     "name": "stdout",
     "output_type": "stream",
     "text": [
      "65世帯以下の確率: 0.37\n",
      "70世帯以上の確率: 0.30\n"
     ]
    }
   ],
   "source": [
    "hit3, hit4 = 65, 70\n",
    "print(f'65世帯以下の確率: {dist[:hit3+1].sum():.02f}')\n",
    "print(f'70世帯以上の確率: {dist[hit4:].sum():.02f}')"
   ]
  },
  {
   "cell_type": "markdown",
   "metadata": {},
   "source": [
    "二項分布"
   ]
  },
  {
   "cell_type": "code",
   "execution_count": 139,
   "metadata": {},
   "outputs": [
    {
     "data": {
      "image/png": "[encoded data removed]",
      "text/plain": [
       "<Figure size 1000x300 with 2 Axes>"
      ]
     },
     "metadata": {},
     "output_type": "display_data"
    }
   ],
   "source": [
    "p = 0.67\n",
    "fig, axs = plt.subplots(1, 2, figsize=(10, 3))\n",
    "for n, ax in zip([14, 100], axs):\n",
    "    x = np.arange(n + 1)\n",
    "    dist = stats.binom.pmf(x, n, p)\n",
    "    ax.bar(x, dist)\n",
    "    ax.set_title(f'attempts {n}')\n",
    "    ax.set_xlabel('number of successes')\n",
    "    ax.set_ylabel('probability')\n",
    "    # ax.set_xlim(n*p - n*p*(1-p)*2, n*p + n*p*(1-p)*2)\n",
    "plt.tight_layout()\n",
    "plt.show()"
   ]
  }
 ],
 "metadata": {
  "kernelspec": {
   "display_name": "Python 3",
   "language": "python",
   "name": "python3"
  },
  "language_info": {
   "codemirror_mode": {
    "name": "ipython",
    "version": 3
   },
   "file_extension": ".py",
   "mimetype": "text/x-python",
   "name": "python",
   "nbconvert_exporter": "python",
   "pygments_lexer": "ipython3",
   "version": "3.10.9"
  }
 },
 "nbformat": 4,
 "nbformat_minor": 2
}
