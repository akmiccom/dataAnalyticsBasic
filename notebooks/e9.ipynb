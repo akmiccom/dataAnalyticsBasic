{
 "cells": [
  {
   "cell_type": "code",
   "execution_count": 1,
   "metadata": {},
   "outputs": [],
   "source": [
    "from glob import glob\n",
    "import pandas as pd\n",
    "import numpy as np\n",
    "from scipy import stats  \n",
    "import matplotlib.pyplot as plt\n",
    "import japanize_matplotlib"
   ]
  },
  {
   "cell_type": "code",
   "execution_count": 2,
   "metadata": {},
   "outputs": [
    {
     "name": "stdout",
     "output_type": "stream",
     "text": [
      "0 ../csv/演習問題_データアナリティクス基礎\\第10章演習問題_乱数で発生させて分布の基本統計量.xlsx\n",
      "1 ../csv/演習問題_データアナリティクス基礎\\第2章演習問題_クレームデータ.xlsx\n",
      "2 ../csv/演習問題_データアナリティクス基礎\\第3章演習問題_職場ストレス.xlsx\n",
      "3 ../csv/演習問題_データアナリティクス基礎\\第4章演習問題_児童のネット利用時間.xlsx\n",
      "4 ../csv/演習問題_データアナリティクス基礎\\第5章演習問題_生鮮野菜の購入額.xlsx\n",
      "5 ../csv/演習問題_データアナリティクス基礎\\第7章演習問題_授業効果の検証.xlsx\n",
      "6 ../csv/演習問題_データアナリティクス基礎\\第8章演習問題1_健康食品・化粧品販売額.xlsx\n",
      "7 ../csv/演習問題_データアナリティクス基礎\\第8章演習問題2_百貨店の衣料品売上高.xlsx\n",
      "8 ../csv/演習問題_データアナリティクス基礎\\第9章演習問題_自由記述データ＆形態素解析データ.xlsx\n"
     ]
    }
   ],
   "source": [
    "files = glob(\"../csv/演習問題_データアナリティクス基礎/*\")\n",
    "for i, f in enumerate(files):\n",
    "    print(i, f)\n"
   ]
  },
  {
   "cell_type": "code",
   "execution_count": 3,
   "metadata": {},
   "outputs": [
    {
     "name": "stdout",
     "output_type": "stream",
     "text": [
      "Index(['ID', '性別', '学年', '授業の感想'], dtype='object')\n",
      "<class 'pandas.core.frame.DataFrame'>\n",
      "RangeIndex: 30 entries, 0 to 29\n",
      "Data columns (total 4 columns):\n",
      " #   Column       Non-Null Count  Dtype \n",
      "---  ------       --------------  ----- \n",
      " 0   id           30 non-null     int64 \n",
      " 1   gender       30 non-null     object\n",
      " 2   grade        30 non-null     object\n",
      " 3   impressions  30 non-null     object\n",
      "dtypes: int64(1), object(3)\n",
      "memory usage: 1.1+ KB\n"
     ]
    },
    {
     "data": {
      "text/html": [
       "<div>\n",
       "<style scoped>\n",
       "    .dataframe tbody tr th:only-of-type {\n",
       "        vertical-align: middle;\n",
       "    }\n",
       "\n",
       "    .dataframe tbody tr th {\n",
       "        vertical-align: top;\n",
       "    }\n",
       "\n",
       "    .dataframe thead th {\n",
       "        text-align: right;\n",
       "    }\n",
       "</style>\n",
       "<table border=\"1\" class=\"dataframe\">\n",
       "  <thead>\n",
       "    <tr style=\"text-align: right;\">\n",
       "      <th></th>\n",
       "      <th>id</th>\n",
       "      <th>gender</th>\n",
       "      <th>grade</th>\n",
       "      <th>impressions</th>\n",
       "    </tr>\n",
       "  </thead>\n",
       "  <tbody>\n",
       "    <tr>\n",
       "      <th>0</th>\n",
       "      <td>1</td>\n",
       "      <td>女性</td>\n",
       "      <td>A</td>\n",
       "      <td>とても面白かった。習った内容を宿題で復習することで、身に付いた。</td>\n",
       "    </tr>\n",
       "    <tr>\n",
       "      <th>1</th>\n",
       "      <td>2</td>\n",
       "      <td>男性</td>\n",
       "      <td>A</td>\n",
       "      <td>知らなかったことを知れてよかった。今後に活かしていきたい。</td>\n",
       "    </tr>\n",
       "    <tr>\n",
       "      <th>2</th>\n",
       "      <td>3</td>\n",
       "      <td>男性</td>\n",
       "      <td>A</td>\n",
       "      <td>難しくてついていけない。</td>\n",
       "    </tr>\n",
       "    <tr>\n",
       "      <th>3</th>\n",
       "      <td>4</td>\n",
       "      <td>男性</td>\n",
       "      <td>A</td>\n",
       "      <td>風邪をひいて欠席してしまったが、なんとかついていけた。</td>\n",
       "    </tr>\n",
       "    <tr>\n",
       "      <th>4</th>\n",
       "      <td>5</td>\n",
       "      <td>女性</td>\n",
       "      <td>A</td>\n",
       "      <td>時々授業のペースが早くて、ついていけないときがあった。でも内容は楽しかった。</td>\n",
       "    </tr>\n",
       "  </tbody>\n",
       "</table>\n",
       "</div>"
      ],
      "text/plain": [
       "   id gender grade                             impressions\n",
       "0   1     女性     A        とても面白かった。習った内容を宿題で復習することで、身に付いた。\n",
       "1   2     男性     A           知らなかったことを知れてよかった。今後に活かしていきたい。\n",
       "2   3     男性     A                            難しくてついていけない。\n",
       "3   4     男性     A             風邪をひいて欠席してしまったが、なんとかついていけた。\n",
       "4   5     女性     A  時々授業のペースが早くて、ついていけないときがあった。でも内容は楽しかった。"
      ]
     },
     "execution_count": 3,
     "metadata": {},
     "output_type": "execute_result"
    }
   ],
   "source": [
    "df = pd.read_excel(files[8], sheet_name='自由記述データ')\n",
    "print(df.columns)\n",
    "df.columns = ['id', 'gender', 'grade', 'impressions']\n",
    "df.info()\n",
    "df.head()"
   ]
  },
  {
   "cell_type": "code",
   "execution_count": 4,
   "metadata": {},
   "outputs": [
    {
     "data": {
      "text/html": [
       "<div>\n",
       "<style scoped>\n",
       "    .dataframe tbody tr th:only-of-type {\n",
       "        vertical-align: middle;\n",
       "    }\n",
       "\n",
       "    .dataframe tbody tr th {\n",
       "        vertical-align: top;\n",
       "    }\n",
       "\n",
       "    .dataframe thead th {\n",
       "        text-align: right;\n",
       "    }\n",
       "</style>\n",
       "<table border=\"1\" class=\"dataframe\">\n",
       "  <thead>\n",
       "    <tr style=\"text-align: right;\">\n",
       "      <th></th>\n",
       "      <th>ID</th>\n",
       "      <th>性別</th>\n",
       "      <th>学年</th>\n",
       "      <th>辞書</th>\n",
       "      <th>文境界</th>\n",
       "      <th>書字形（＝表層形）</th>\n",
       "      <th>語彙素</th>\n",
       "      <th>語彙素読み</th>\n",
       "      <th>品詞</th>\n",
       "      <th>大分類</th>\n",
       "      <th>...</th>\n",
       "      <th>細分類</th>\n",
       "      <th>活用型</th>\n",
       "      <th>活用形</th>\n",
       "      <th>発音形出現形</th>\n",
       "      <th>仮名形出現形</th>\n",
       "      <th>語種</th>\n",
       "      <th>書字形(基本形)</th>\n",
       "      <th>発音形(基本形)</th>\n",
       "      <th>仮名形(基本形)</th>\n",
       "      <th>語形(基本形)</th>\n",
       "    </tr>\n",
       "  </thead>\n",
       "  <tbody>\n",
       "    <tr>\n",
       "      <th>0</th>\n",
       "      <td>1</td>\n",
       "      <td>女性</td>\n",
       "      <td>A</td>\n",
       "      <td>現代語</td>\n",
       "      <td>B</td>\n",
       "      <td>とても</td>\n",
       "      <td>迚も</td>\n",
       "      <td>トテモ</td>\n",
       "      <td>副詞</td>\n",
       "      <td>副詞</td>\n",
       "      <td>...</td>\n",
       "      <td>NaN</td>\n",
       "      <td>NaN</td>\n",
       "      <td>NaN</td>\n",
       "      <td>トテモ</td>\n",
       "      <td>トテモ</td>\n",
       "      <td>和</td>\n",
       "      <td>とても</td>\n",
       "      <td>トテモ</td>\n",
       "      <td>トテモ</td>\n",
       "      <td>トテモ</td>\n",
       "    </tr>\n",
       "    <tr>\n",
       "      <th>1</th>\n",
       "      <td>1</td>\n",
       "      <td>女性</td>\n",
       "      <td>A</td>\n",
       "      <td>現代語</td>\n",
       "      <td>I</td>\n",
       "      <td>面白かっ</td>\n",
       "      <td>面白い</td>\n",
       "      <td>オモシロイ</td>\n",
       "      <td>形容詞-一般</td>\n",
       "      <td>形容詞</td>\n",
       "      <td>...</td>\n",
       "      <td>NaN</td>\n",
       "      <td>形容詞</td>\n",
       "      <td>連用形-促音便</td>\n",
       "      <td>オモシロカッ</td>\n",
       "      <td>オモシロカッ</td>\n",
       "      <td>和</td>\n",
       "      <td>面白い</td>\n",
       "      <td>オモシロイ</td>\n",
       "      <td>オモシロイ</td>\n",
       "      <td>オモシロイ</td>\n",
       "    </tr>\n",
       "    <tr>\n",
       "      <th>2</th>\n",
       "      <td>1</td>\n",
       "      <td>女性</td>\n",
       "      <td>A</td>\n",
       "      <td>現代語</td>\n",
       "      <td>I</td>\n",
       "      <td>た</td>\n",
       "      <td>た</td>\n",
       "      <td>タ</td>\n",
       "      <td>助動詞</td>\n",
       "      <td>助動詞</td>\n",
       "      <td>...</td>\n",
       "      <td>NaN</td>\n",
       "      <td>助動詞-タ</td>\n",
       "      <td>終止形-一般</td>\n",
       "      <td>タ</td>\n",
       "      <td>タ</td>\n",
       "      <td>和</td>\n",
       "      <td>た</td>\n",
       "      <td>タ</td>\n",
       "      <td>タ</td>\n",
       "      <td>タ</td>\n",
       "    </tr>\n",
       "    <tr>\n",
       "      <th>3</th>\n",
       "      <td>1</td>\n",
       "      <td>女性</td>\n",
       "      <td>A</td>\n",
       "      <td>現代語</td>\n",
       "      <td>I</td>\n",
       "      <td>。</td>\n",
       "      <td>。</td>\n",
       "      <td>NaN</td>\n",
       "      <td>補助記号-句点</td>\n",
       "      <td>補助記号</td>\n",
       "      <td>...</td>\n",
       "      <td>NaN</td>\n",
       "      <td>NaN</td>\n",
       "      <td>NaN</td>\n",
       "      <td>NaN</td>\n",
       "      <td>NaN</td>\n",
       "      <td>記号</td>\n",
       "      <td>。</td>\n",
       "      <td>NaN</td>\n",
       "      <td>NaN</td>\n",
       "      <td>NaN</td>\n",
       "    </tr>\n",
       "    <tr>\n",
       "      <th>4</th>\n",
       "      <td>1</td>\n",
       "      <td>女性</td>\n",
       "      <td>A</td>\n",
       "      <td>現代語</td>\n",
       "      <td>I</td>\n",
       "      <td>習っ</td>\n",
       "      <td>習う</td>\n",
       "      <td>ナラウ</td>\n",
       "      <td>動詞-一般</td>\n",
       "      <td>動詞</td>\n",
       "      <td>...</td>\n",
       "      <td>NaN</td>\n",
       "      <td>五段-ワア行</td>\n",
       "      <td>連用形-促音便</td>\n",
       "      <td>ナラッ</td>\n",
       "      <td>ナラッ</td>\n",
       "      <td>和</td>\n",
       "      <td>習う</td>\n",
       "      <td>ナラウ</td>\n",
       "      <td>ナラウ</td>\n",
       "      <td>ナラウ</td>\n",
       "    </tr>\n",
       "  </tbody>\n",
       "</table>\n",
       "<p>5 rows × 22 columns</p>\n",
       "</div>"
      ],
      "text/plain": [
       "   ID  性別 学年   辞書 文境界 書字形（＝表層形）  語彙素  語彙素読み       品詞   大分類  ... 細分類     活用型  \\\n",
       "0   1  女性  A  現代語   B       とても   迚も    トテモ       副詞    副詞  ... NaN     NaN   \n",
       "1   1  女性  A  現代語   I      面白かっ  面白い  オモシロイ   形容詞-一般   形容詞  ... NaN     形容詞   \n",
       "2   1  女性  A  現代語   I         た    た      タ      助動詞   助動詞  ... NaN   助動詞-タ   \n",
       "3   1  女性  A  現代語   I         。    。    NaN  補助記号-句点  補助記号  ... NaN     NaN   \n",
       "4   1  女性  A  現代語   I        習っ   習う    ナラウ    動詞-一般    動詞  ... NaN  五段-ワア行   \n",
       "\n",
       "       活用形  発音形出現形  仮名形出現形  語種 書字形(基本形) 発音形(基本形) 仮名形(基本形) 語形(基本形)  \n",
       "0      NaN     トテモ     トテモ   和      とても      トテモ      トテモ     トテモ  \n",
       "1  連用形-促音便  オモシロカッ  オモシロカッ   和      面白い    オモシロイ    オモシロイ   オモシロイ  \n",
       "2   終止形-一般       タ       タ   和        た        タ        タ       タ  \n",
       "3      NaN     NaN     NaN  記号        。      NaN      NaN     NaN  \n",
       "4  連用形-促音便     ナラッ     ナラッ   和       習う      ナラウ      ナラウ     ナラウ  \n",
       "\n",
       "[5 rows x 22 columns]"
      ]
     },
     "execution_count": 4,
     "metadata": {},
     "output_type": "execute_result"
    }
   ],
   "source": [
    "df = pd.read_excel(files[8], sheet_name='形態素解析データ')\n",
    "# print(df.columns)\n",
    "# df.columns = ['id', 'gender', 'grade', 'impressions']\n",
    "# df.info()\n",
    "df.head()"
   ]
  },
  {
   "cell_type": "markdown",
   "metadata": {},
   "source": [
    "学年Aで大分類が形容詞、書字形(基本形)で頻度順に並べる"
   ]
  },
  {
   "cell_type": "code",
   "execution_count": 5,
   "metadata": {},
   "outputs": [
    {
     "data": {
      "text/plain": [
       "書字形(基本形)\n",
       "難しい    4\n",
       "よい     3\n",
       "楽しい    2\n",
       "面白い    2\n",
       "ほしい    1\n",
       "多い     1\n",
       "新しい    1\n",
       "早い     1\n",
       "Name: ID, dtype: int64"
      ]
     },
     "execution_count": 5,
     "metadata": {},
     "output_type": "execute_result"
    }
   ],
   "source": [
    "df.query('学年 == \"A\" & 大分類 == \"形容詞\"').groupby('書字形(基本形)').count()['ID'].sort_values(ascending=False)"
   ]
  },
  {
   "cell_type": "markdown",
   "metadata": {},
   "source": [
    "学年B、女性、形容詞について書字形(基本形)のギロー指数\n",
    "$$ Girand \\ index = \\frac{語彙の種類数}{\\sqrt{語彙の総数}} $$"
   ]
  },
  {
   "cell_type": "code",
   "execution_count": 6,
   "metadata": {},
   "outputs": [
    {
     "name": "stdout",
     "output_type": "stream",
     "text": [
      "Girand index : 1.67\n"
     ]
    }
   ],
   "source": [
    "num_of_vocabulary = df.query('学年 == \"B\" & 性別 == \"女性\" & 大分類 == \"形容詞\"')['書字形(基本形)'].nunique()\n",
    "search_result = df.query('学年 == \"B\" & 性別 == \"女性\" & 大分類 == \"形容詞\"').groupby('書字形(基本形)').count()['ID']\n",
    "girand_index = num_of_vocabulary / np.sqrt(search_result.sum())\n",
    "print(f'Girand index : {girand_index:.02f}')"
   ]
  },
  {
   "cell_type": "markdown",
   "metadata": {},
   "source": [
    "学年A、女子、大分類が名詞、再頻出の書字形(基本形)"
   ]
  },
  {
   "cell_type": "code",
   "execution_count": 18,
   "metadata": {},
   "outputs": [
    {
     "data": {
      "text/plain": [
       "書字形(基本形)\n",
       "授業    4\n",
       "復習    3\n",
       "こと    3\n",
       "内容    2\n",
       "回     2\n",
       "Name: ID, dtype: int64"
      ]
     },
     "execution_count": 18,
     "metadata": {},
     "output_type": "execute_result"
    }
   ],
   "source": [
    "df.query('学年 == \"A\" & 性別 == \"女性\" & 大分類 == \"名詞\"').groupby('書字形(基本形)').count()['ID'].sort_values(ascending=False)[:5]"
   ]
  },
  {
   "cell_type": "markdown",
   "metadata": {},
   "source": [
    "女子で学年Aと学年Bにおいて、大分類が名詞の出現回数の差"
   ]
  },
  {
   "cell_type": "code",
   "execution_count": 27,
   "metadata": {},
   "outputs": [
    {
     "name": "stdout",
     "output_type": "stream",
     "text": [
      "出現回数の差: 16\n"
     ]
    }
   ],
   "source": [
    "a_women_norn = df.query('学年 == \"A\" & 性別 == \"女性\" & 大分類 == \"名詞\"').count()['ID']\n",
    "b_women_norn = df.query('学年 == \"B\" & 性別 == \"女性\" & 大分類 == \"名詞\"').count()['ID']\n",
    "print(f'出現回数の差: {abs(a_women_norn - b_women_norn)}')"
   ]
  },
  {
   "cell_type": "markdown",
   "metadata": {},
   "source": [
    "学年Aの品詞大分類の動詞において、書字形(基本形)の出現頻度をグラフ化"
   ]
  },
  {
   "cell_type": "code",
   "execution_count": 72,
   "metadata": {},
   "outputs": [
    {
     "data": {
      "image/png": "[encoded data removed]",
      "text/plain": [
       "<Figure size 1500x300 with 1 Axes>"
      ]
     },
     "metadata": {},
     "output_type": "display_data"
    }
   ],
   "source": [
    "df_glaph = df.query('学年 == \"A\" & 大分類 == \"動詞\"').groupby('書字形(基本形)').count()['大分類'].sort_values(ascending=False)\n",
    "plt.figure(figsize=(15, 3))\n",
    "plt.bar(df_glaph.index, df_glaph, label='出現回数')\n",
    "plt.legend()\n",
    "plt.show()"
   ]
  }
 ],
 "metadata": {
  "kernelspec": {
   "display_name": "Python 3",
   "language": "python",
   "name": "python3"
  },
  "language_info": {
   "codemirror_mode": {
    "name": "ipython",
    "version": 3
   },
   "file_extension": ".py",
   "mimetype": "text/x-python",
   "name": "python",
   "nbconvert_exporter": "python",
   "pygments_lexer": "ipython3",
   "version": "3.10.9"
  }
 },
 "nbformat": 4,
 "nbformat_minor": 2
}
