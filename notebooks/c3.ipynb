{
 "cells": [
  {
   "cell_type": "code",
   "execution_count": 111,
   "metadata": {},
   "outputs": [],
   "source": [
    "from glob import glob\n",
    "import pandas as pd\n",
    "import numpy as np\n",
    "import matplotlib.pyplot as plt\n",
    "from scipy import stats"
   ]
  },
  {
   "cell_type": "code",
   "execution_count": 66,
   "metadata": {},
   "outputs": [
    {
     "name": "stdout",
     "output_type": "stream",
     "text": [
      "0 ../csv/例題_データアナリティクス基礎\\例題10_自由記述データ&形態素解析データ.xlsx\n",
      "1 ../csv/例題_データアナリティクス基礎\\例題11_乱数で発生させた分布の基本統計量.xlsx\n",
      "2 ../csv/例題_データアナリティクス基礎\\例題1_自転車データ.xlsx\n",
      "3 ../csv/例題_データアナリティクス基礎\\例題2_顧客ID付き食品購入データ.xlsx\n",
      "4 ../csv/例題_データアナリティクス基礎\\例題3_テレビ視聴アンケートデータ.xlsx\n",
      "5 ../csv/例題_データアナリティクス基礎\\例題4_5つの地域の事業所数.xlsx\n",
      "6 ../csv/例題_データアナリティクス基礎\\例題5_関東地方の人口データ.xlsx\n",
      "7 ../csv/例題_データアナリティクス基礎\\例題7_異なる授業形態による成績データ.xlsx\n",
      "8 ../csv/例題_データアナリティクス基礎\\例題8_遊園地テーマパーク入場者数.xlsx\n",
      "9 ../csv/例題_データアナリティクス基礎\\例題9_店舗別販売額.xlsx\n"
     ]
    }
   ],
   "source": [
    "files = glob(\"../csv/例題_データアナリティクス基礎/*\")\n",
    "for i, f in enumerate(files):\n",
    "    print(i, f)\n"
   ]
  },
  {
   "cell_type": "code",
   "execution_count": 67,
   "metadata": {},
   "outputs": [
    {
     "data": {
      "text/html": [
       "<div>\n",
       "<style scoped>\n",
       "    .dataframe tbody tr th:only-of-type {\n",
       "        vertical-align: middle;\n",
       "    }\n",
       "\n",
       "    .dataframe tbody tr th {\n",
       "        vertical-align: top;\n",
       "    }\n",
       "\n",
       "    .dataframe thead th {\n",
       "        text-align: right;\n",
       "    }\n",
       "</style>\n",
       "<table border=\"1\" class=\"dataframe\">\n",
       "  <thead>\n",
       "    <tr style=\"text-align: right;\">\n",
       "      <th></th>\n",
       "      <th>id</th>\n",
       "      <th>gender</th>\n",
       "      <th>sports</th>\n",
       "      <th>interest</th>\n",
       "    </tr>\n",
       "  </thead>\n",
       "  <tbody>\n",
       "    <tr>\n",
       "      <th>0</th>\n",
       "      <td>1</td>\n",
       "      <td>男</td>\n",
       "      <td>みる</td>\n",
       "      <td>ない</td>\n",
       "    </tr>\n",
       "    <tr>\n",
       "      <th>1</th>\n",
       "      <td>2</td>\n",
       "      <td>男</td>\n",
       "      <td>みる</td>\n",
       "      <td>ない</td>\n",
       "    </tr>\n",
       "    <tr>\n",
       "      <th>2</th>\n",
       "      <td>3</td>\n",
       "      <td>男</td>\n",
       "      <td>みる</td>\n",
       "      <td>ない</td>\n",
       "    </tr>\n",
       "    <tr>\n",
       "      <th>3</th>\n",
       "      <td>4</td>\n",
       "      <td>女</td>\n",
       "      <td>みない</td>\n",
       "      <td>ある</td>\n",
       "    </tr>\n",
       "    <tr>\n",
       "      <th>4</th>\n",
       "      <td>5</td>\n",
       "      <td>女</td>\n",
       "      <td>みる</td>\n",
       "      <td>ある</td>\n",
       "    </tr>\n",
       "  </tbody>\n",
       "</table>\n",
       "</div>"
      ],
      "text/plain": [
       "   id gender sports interest\n",
       "0   1      男     みる       ない\n",
       "1   2      男     みる       ない\n",
       "2   3      男     みる       ない\n",
       "3   4      女    みない       ある\n",
       "4   5      女     みる       ある"
      ]
     },
     "execution_count": 67,
     "metadata": {},
     "output_type": "execute_result"
    }
   ],
   "source": [
    "questionnaire = pd.read_excel(files[4])\n",
    "questionnaire.columns = ['id', 'gender', 'sports', 'interest']\n",
    "questionnaire.head()"
   ]
  },
  {
   "cell_type": "markdown",
   "metadata": {},
   "source": [
    "スポーツ中継 × 商品への関心 についてのクロス集計表作成"
   ]
  },
  {
   "cell_type": "code",
   "execution_count": 68,
   "metadata": {},
   "outputs": [
    {
     "data": {
      "text/html": [
       "<div>\n",
       "<style scoped>\n",
       "    .dataframe tbody tr th:only-of-type {\n",
       "        vertical-align: middle;\n",
       "    }\n",
       "\n",
       "    .dataframe tbody tr th {\n",
       "        vertical-align: top;\n",
       "    }\n",
       "\n",
       "    .dataframe thead th {\n",
       "        text-align: right;\n",
       "    }\n",
       "</style>\n",
       "<table border=\"1\" class=\"dataframe\">\n",
       "  <thead>\n",
       "    <tr style=\"text-align: right;\">\n",
       "      <th>interest</th>\n",
       "      <th>ある</th>\n",
       "      <th>ない</th>\n",
       "    </tr>\n",
       "    <tr>\n",
       "      <th>sports</th>\n",
       "      <th></th>\n",
       "      <th></th>\n",
       "    </tr>\n",
       "  </thead>\n",
       "  <tbody>\n",
       "    <tr>\n",
       "      <th>みる</th>\n",
       "      <td>68</td>\n",
       "      <td>188</td>\n",
       "    </tr>\n",
       "    <tr>\n",
       "      <th>みない</th>\n",
       "      <td>131</td>\n",
       "      <td>53</td>\n",
       "    </tr>\n",
       "  </tbody>\n",
       "</table>\n",
       "</div>"
      ],
      "text/plain": [
       "interest   ある   ない\n",
       "sports            \n",
       "みる         68  188\n",
       "みない       131   53"
      ]
     },
     "execution_count": 68,
     "metadata": {},
     "output_type": "execute_result"
    }
   ],
   "source": [
    "questionnaire_count = questionnaire.pivot_table(index='sports', columns='interest', values='id', aggfunc='count')\n",
    "questionnaire_count.sort_index(ascending=False)"
   ]
  },
  {
   "cell_type": "markdown",
   "metadata": {},
   "source": [
    "スポーツ中継 × 商品への関心 の構成割合についてのクロス集計表作成"
   ]
  },
  {
   "cell_type": "code",
   "execution_count": 69,
   "metadata": {},
   "outputs": [
    {
     "data": {
      "text/html": [
       "<style type=\"text/css\">\n",
       "</style>\n",
       "<table id=\"T_75254\">\n",
       "  <thead>\n",
       "    <tr>\n",
       "      <th class=\"index_name level0\" >interest</th>\n",
       "      <th id=\"T_75254_level0_col0\" class=\"col_heading level0 col0\" >ある</th>\n",
       "      <th id=\"T_75254_level0_col1\" class=\"col_heading level0 col1\" >ない</th>\n",
       "    </tr>\n",
       "    <tr>\n",
       "      <th class=\"index_name level0\" >sports</th>\n",
       "      <th class=\"blank col0\" >&nbsp;</th>\n",
       "      <th class=\"blank col1\" >&nbsp;</th>\n",
       "    </tr>\n",
       "  </thead>\n",
       "  <tbody>\n",
       "    <tr>\n",
       "      <th id=\"T_75254_level0_row0\" class=\"row_heading level0 row0\" >みる</th>\n",
       "      <td id=\"T_75254_row0_col0\" class=\"data row0 col0\" >15.5%</td>\n",
       "      <td id=\"T_75254_row0_col1\" class=\"data row0 col1\" >42.7%</td>\n",
       "    </tr>\n",
       "    <tr>\n",
       "      <th id=\"T_75254_level0_row1\" class=\"row_heading level0 row1\" >みない</th>\n",
       "      <td id=\"T_75254_row1_col0\" class=\"data row1 col0\" >29.8%</td>\n",
       "      <td id=\"T_75254_row1_col1\" class=\"data row1 col1\" >12.0%</td>\n",
       "    </tr>\n",
       "  </tbody>\n",
       "</table>\n"
      ],
      "text/plain": [
       "<pandas.io.formats.style.Styler at 0x22b0441d300>"
      ]
     },
     "execution_count": 69,
     "metadata": {},
     "output_type": "execute_result"
    }
   ],
   "source": [
    "questionnaire_ratio = questionnaire_count.apply(lambda x: x / questionnaire_count.sum().sum())\n",
    "questionnaire_ratio.sort_index(ascending=False).style.format('{:.01%}', na_rep='-')"
   ]
  },
  {
   "cell_type": "markdown",
   "metadata": {},
   "source": [
    "行・列にカウントの合計を追加"
   ]
  },
  {
   "cell_type": "code",
   "execution_count": 70,
   "metadata": {},
   "outputs": [
    {
     "data": {
      "text/html": [
       "<div>\n",
       "<style scoped>\n",
       "    .dataframe tbody tr th:only-of-type {\n",
       "        vertical-align: middle;\n",
       "    }\n",
       "\n",
       "    .dataframe tbody tr th {\n",
       "        vertical-align: top;\n",
       "    }\n",
       "\n",
       "    .dataframe thead th {\n",
       "        text-align: right;\n",
       "    }\n",
       "</style>\n",
       "<table border=\"1\" class=\"dataframe\">\n",
       "  <thead>\n",
       "    <tr style=\"text-align: right;\">\n",
       "      <th>interest</th>\n",
       "      <th>ある</th>\n",
       "      <th>ない</th>\n",
       "      <th>Total</th>\n",
       "    </tr>\n",
       "    <tr>\n",
       "      <th>sports</th>\n",
       "      <th></th>\n",
       "      <th></th>\n",
       "      <th></th>\n",
       "    </tr>\n",
       "  </thead>\n",
       "  <tbody>\n",
       "    <tr>\n",
       "      <th>みる</th>\n",
       "      <td>68</td>\n",
       "      <td>188</td>\n",
       "      <td>256</td>\n",
       "    </tr>\n",
       "    <tr>\n",
       "      <th>みない</th>\n",
       "      <td>131</td>\n",
       "      <td>53</td>\n",
       "      <td>184</td>\n",
       "    </tr>\n",
       "    <tr>\n",
       "      <th>Total</th>\n",
       "      <td>199</td>\n",
       "      <td>241</td>\n",
       "      <td>440</td>\n",
       "    </tr>\n",
       "  </tbody>\n",
       "</table>\n",
       "</div>"
      ],
      "text/plain": [
       "interest   ある   ない  Total\n",
       "sports                   \n",
       "みる         68  188    256\n",
       "みない       131   53    184\n",
       "Total     199  241    440"
      ]
     },
     "execution_count": 70,
     "metadata": {},
     "output_type": "execute_result"
    }
   ],
   "source": [
    "questionnaire_sum = questionnaire_count.copy()\n",
    "questionnaire_sum['Total'] = questionnaire_sum.apply(lambda x : sum(x), axis=1)\n",
    "questionnaire_sum.loc['Total'] = questionnaire_sum.apply(lambda x : sum(x), axis=0)\n",
    "questionnaire_sum.sort_index(ascending=False)\n"
   ]
  },
  {
   "cell_type": "markdown",
   "metadata": {},
   "source": [
    "行・列にカウントの割合合計を追加"
   ]
  },
  {
   "cell_type": "code",
   "execution_count": 71,
   "metadata": {},
   "outputs": [
    {
     "data": {
      "text/html": [
       "<style type=\"text/css\">\n",
       "</style>\n",
       "<table id=\"T_f4367\">\n",
       "  <thead>\n",
       "    <tr>\n",
       "      <th class=\"index_name level0\" >interest</th>\n",
       "      <th id=\"T_f4367_level0_col0\" class=\"col_heading level0 col0\" >ある</th>\n",
       "      <th id=\"T_f4367_level0_col1\" class=\"col_heading level0 col1\" >ない</th>\n",
       "      <th id=\"T_f4367_level0_col2\" class=\"col_heading level0 col2\" >Total</th>\n",
       "    </tr>\n",
       "    <tr>\n",
       "      <th class=\"index_name level0\" >sports</th>\n",
       "      <th class=\"blank col0\" >&nbsp;</th>\n",
       "      <th class=\"blank col1\" >&nbsp;</th>\n",
       "      <th class=\"blank col2\" >&nbsp;</th>\n",
       "    </tr>\n",
       "  </thead>\n",
       "  <tbody>\n",
       "    <tr>\n",
       "      <th id=\"T_f4367_level0_row0\" class=\"row_heading level0 row0\" >みる</th>\n",
       "      <td id=\"T_f4367_row0_col0\" class=\"data row0 col0\" >15.5%</td>\n",
       "      <td id=\"T_f4367_row0_col1\" class=\"data row0 col1\" >42.7%</td>\n",
       "      <td id=\"T_f4367_row0_col2\" class=\"data row0 col2\" >58.2%</td>\n",
       "    </tr>\n",
       "    <tr>\n",
       "      <th id=\"T_f4367_level0_row1\" class=\"row_heading level0 row1\" >みない</th>\n",
       "      <td id=\"T_f4367_row1_col0\" class=\"data row1 col0\" >29.8%</td>\n",
       "      <td id=\"T_f4367_row1_col1\" class=\"data row1 col1\" >12.0%</td>\n",
       "      <td id=\"T_f4367_row1_col2\" class=\"data row1 col2\" >41.8%</td>\n",
       "    </tr>\n",
       "    <tr>\n",
       "      <th id=\"T_f4367_level0_row2\" class=\"row_heading level0 row2\" >Total</th>\n",
       "      <td id=\"T_f4367_row2_col0\" class=\"data row2 col0\" >45.2%</td>\n",
       "      <td id=\"T_f4367_row2_col1\" class=\"data row2 col1\" >54.8%</td>\n",
       "      <td id=\"T_f4367_row2_col2\" class=\"data row2 col2\" >100.0%</td>\n",
       "    </tr>\n",
       "  </tbody>\n",
       "</table>\n"
      ],
      "text/plain": [
       "<pandas.io.formats.style.Styler at 0x22b042151e0>"
      ]
     },
     "execution_count": 71,
     "metadata": {},
     "output_type": "execute_result"
    }
   ],
   "source": [
    "questionnaire_sum2 = questionnaire_ratio.copy()\n",
    "questionnaire_sum2['Total'] = questionnaire_sum2.apply(lambda x : sum(x), axis=1)\n",
    "questionnaire_sum2.loc['Total'] = questionnaire_sum2.apply(lambda x : sum(x), axis=0)\n",
    "questionnaire_sum2.sort_index(ascending=False).style.format('{:.01%}', na_rep='-')"
   ]
  },
  {
   "cell_type": "markdown",
   "metadata": {},
   "source": [
    "行方向の割合合計"
   ]
  },
  {
   "cell_type": "code",
   "execution_count": 72,
   "metadata": {},
   "outputs": [
    {
     "data": {
      "text/html": [
       "<style type=\"text/css\">\n",
       "</style>\n",
       "<table id=\"T_65363\">\n",
       "  <thead>\n",
       "    <tr>\n",
       "      <th class=\"index_name level0\" >interest</th>\n",
       "      <th id=\"T_65363_level0_col0\" class=\"col_heading level0 col0\" >ある</th>\n",
       "      <th id=\"T_65363_level0_col1\" class=\"col_heading level0 col1\" >ない</th>\n",
       "      <th id=\"T_65363_level0_col2\" class=\"col_heading level0 col2\" >Total</th>\n",
       "    </tr>\n",
       "    <tr>\n",
       "      <th class=\"index_name level0\" >sports</th>\n",
       "      <th class=\"blank col0\" >&nbsp;</th>\n",
       "      <th class=\"blank col1\" >&nbsp;</th>\n",
       "      <th class=\"blank col2\" >&nbsp;</th>\n",
       "    </tr>\n",
       "  </thead>\n",
       "  <tbody>\n",
       "    <tr>\n",
       "      <th id=\"T_65363_level0_row0\" class=\"row_heading level0 row0\" >みる</th>\n",
       "      <td id=\"T_65363_row0_col0\" class=\"data row0 col0\" >26.6%</td>\n",
       "      <td id=\"T_65363_row0_col1\" class=\"data row0 col1\" >73.4%</td>\n",
       "      <td id=\"T_65363_row0_col2\" class=\"data row0 col2\" >100.0%</td>\n",
       "    </tr>\n",
       "    <tr>\n",
       "      <th id=\"T_65363_level0_row1\" class=\"row_heading level0 row1\" >みない</th>\n",
       "      <td id=\"T_65363_row1_col0\" class=\"data row1 col0\" >71.2%</td>\n",
       "      <td id=\"T_65363_row1_col1\" class=\"data row1 col1\" >28.8%</td>\n",
       "      <td id=\"T_65363_row1_col2\" class=\"data row1 col2\" >100.0%</td>\n",
       "    </tr>\n",
       "    <tr>\n",
       "      <th id=\"T_65363_level0_row2\" class=\"row_heading level0 row2\" >Total</th>\n",
       "      <td id=\"T_65363_row2_col0\" class=\"data row2 col0\" >45.2%</td>\n",
       "      <td id=\"T_65363_row2_col1\" class=\"data row2 col1\" >54.8%</td>\n",
       "      <td id=\"T_65363_row2_col2\" class=\"data row2 col2\" >100.0%</td>\n",
       "    </tr>\n",
       "  </tbody>\n",
       "</table>\n"
      ],
      "text/plain": [
       "<pandas.io.formats.style.Styler at 0x22b131ef190>"
      ]
     },
     "execution_count": 72,
     "metadata": {},
     "output_type": "execute_result"
    }
   ],
   "source": [
    "questionnaire_ratio2 = questionnaire_count.copy()\n",
    "questionnaire_ratio2.loc['Total'] = questionnaire_ratio2.sum()\n",
    "questionnaire_ratio2 = questionnaire_ratio2.apply(lambda x: x / sum(x), axis=1)\n",
    "questionnaire_ratio2['Total'] = questionnaire_ratio2.apply(lambda x: sum(x), axis=1)\n",
    "questionnaire_ratio2.sort_index(ascending=False).style.format('{:.01%}', na_rep='-')"
   ]
  },
  {
   "cell_type": "markdown",
   "metadata": {},
   "source": [
    "列方向の割合合計"
   ]
  },
  {
   "cell_type": "code",
   "execution_count": 73,
   "metadata": {},
   "outputs": [
    {
     "data": {
      "text/html": [
       "<style type=\"text/css\">\n",
       "</style>\n",
       "<table id=\"T_c8f7d\">\n",
       "  <thead>\n",
       "    <tr>\n",
       "      <th class=\"index_name level0\" >interest</th>\n",
       "      <th id=\"T_c8f7d_level0_col0\" class=\"col_heading level0 col0\" >ある</th>\n",
       "      <th id=\"T_c8f7d_level0_col1\" class=\"col_heading level0 col1\" >ない</th>\n",
       "      <th id=\"T_c8f7d_level0_col2\" class=\"col_heading level0 col2\" >Total</th>\n",
       "    </tr>\n",
       "    <tr>\n",
       "      <th class=\"index_name level0\" >sports</th>\n",
       "      <th class=\"blank col0\" >&nbsp;</th>\n",
       "      <th class=\"blank col1\" >&nbsp;</th>\n",
       "      <th class=\"blank col2\" >&nbsp;</th>\n",
       "    </tr>\n",
       "  </thead>\n",
       "  <tbody>\n",
       "    <tr>\n",
       "      <th id=\"T_c8f7d_level0_row0\" class=\"row_heading level0 row0\" >みる</th>\n",
       "      <td id=\"T_c8f7d_row0_col0\" class=\"data row0 col0\" >34.2%</td>\n",
       "      <td id=\"T_c8f7d_row0_col1\" class=\"data row0 col1\" >78.0%</td>\n",
       "      <td id=\"T_c8f7d_row0_col2\" class=\"data row0 col2\" >58.2%</td>\n",
       "    </tr>\n",
       "    <tr>\n",
       "      <th id=\"T_c8f7d_level0_row1\" class=\"row_heading level0 row1\" >みない</th>\n",
       "      <td id=\"T_c8f7d_row1_col0\" class=\"data row1 col0\" >65.8%</td>\n",
       "      <td id=\"T_c8f7d_row1_col1\" class=\"data row1 col1\" >22.0%</td>\n",
       "      <td id=\"T_c8f7d_row1_col2\" class=\"data row1 col2\" >41.8%</td>\n",
       "    </tr>\n",
       "    <tr>\n",
       "      <th id=\"T_c8f7d_level0_row2\" class=\"row_heading level0 row2\" >Total</th>\n",
       "      <td id=\"T_c8f7d_row2_col0\" class=\"data row2 col0\" >100.0%</td>\n",
       "      <td id=\"T_c8f7d_row2_col1\" class=\"data row2 col1\" >100.0%</td>\n",
       "      <td id=\"T_c8f7d_row2_col2\" class=\"data row2 col2\" >100.0%</td>\n",
       "    </tr>\n",
       "  </tbody>\n",
       "</table>\n"
      ],
      "text/plain": [
       "<pandas.io.formats.style.Styler at 0x22b04216380>"
      ]
     },
     "execution_count": 73,
     "metadata": {},
     "output_type": "execute_result"
    }
   ],
   "source": [
    "questionnaire_ratio3 = questionnaire_count.copy()\n",
    "questionnaire_ratio3['Total'] = questionnaire_ratio3.apply(lambda x: sum(x), axis=1)\n",
    "questionnaire_ratio3 = questionnaire_ratio3.apply(lambda x: x / sum(x), axis=0)\n",
    "questionnaire_ratio3.loc['Total'] = questionnaire_ratio3.sum()\n",
    "questionnaire_ratio3.sort_index(ascending=False).style.format('{:.01%}', na_rep='-')"
   ]
  },
  {
   "cell_type": "code",
   "execution_count": 74,
   "metadata": {},
   "outputs": [
    {
     "data": {
      "text/html": [
       "<div>\n",
       "<style scoped>\n",
       "    .dataframe tbody tr th:only-of-type {\n",
       "        vertical-align: middle;\n",
       "    }\n",
       "\n",
       "    .dataframe tbody tr th {\n",
       "        vertical-align: top;\n",
       "    }\n",
       "\n",
       "    .dataframe thead th {\n",
       "        text-align: right;\n",
       "    }\n",
       "</style>\n",
       "<table border=\"1\" class=\"dataframe\">\n",
       "  <thead>\n",
       "    <tr style=\"text-align: right;\">\n",
       "      <th></th>\n",
       "      <th>id</th>\n",
       "      <th>gender</th>\n",
       "      <th>sports</th>\n",
       "      <th>interest</th>\n",
       "    </tr>\n",
       "  </thead>\n",
       "  <tbody>\n",
       "    <tr>\n",
       "      <th>0</th>\n",
       "      <td>1</td>\n",
       "      <td>男</td>\n",
       "      <td>みる</td>\n",
       "      <td>ない</td>\n",
       "    </tr>\n",
       "    <tr>\n",
       "      <th>1</th>\n",
       "      <td>2</td>\n",
       "      <td>男</td>\n",
       "      <td>みる</td>\n",
       "      <td>ない</td>\n",
       "    </tr>\n",
       "    <tr>\n",
       "      <th>2</th>\n",
       "      <td>3</td>\n",
       "      <td>男</td>\n",
       "      <td>みる</td>\n",
       "      <td>ない</td>\n",
       "    </tr>\n",
       "    <tr>\n",
       "      <th>3</th>\n",
       "      <td>4</td>\n",
       "      <td>女</td>\n",
       "      <td>みない</td>\n",
       "      <td>ある</td>\n",
       "    </tr>\n",
       "    <tr>\n",
       "      <th>4</th>\n",
       "      <td>5</td>\n",
       "      <td>女</td>\n",
       "      <td>みる</td>\n",
       "      <td>ある</td>\n",
       "    </tr>\n",
       "  </tbody>\n",
       "</table>\n",
       "</div>"
      ],
      "text/plain": [
       "   id gender sports interest\n",
       "0   1      男     みる       ない\n",
       "1   2      男     みる       ない\n",
       "2   3      男     みる       ない\n",
       "3   4      女    みない       ある\n",
       "4   5      女     みる       ある"
      ]
     },
     "execution_count": 74,
     "metadata": {},
     "output_type": "execute_result"
    }
   ],
   "source": [
    "questionnaire.head()"
   ]
  },
  {
   "cell_type": "markdown",
   "metadata": {},
   "source": [
    "性別の「スポーツ中継」に関する構成割合及び、性別の「商品への関心」に関する構成割合"
   ]
  },
  {
   "cell_type": "code",
   "execution_count": 75,
   "metadata": {},
   "outputs": [
    {
     "data": {
      "text/html": [
       "<style type=\"text/css\">\n",
       "</style>\n",
       "<table id=\"T_9541a\">\n",
       "  <thead>\n",
       "    <tr>\n",
       "      <th class=\"blank level0\" >&nbsp;</th>\n",
       "      <th id=\"T_9541a_level0_col0\" class=\"col_heading level0 col0\" >みない</th>\n",
       "      <th id=\"T_9541a_level0_col1\" class=\"col_heading level0 col1\" >みる</th>\n",
       "      <th id=\"T_9541a_level0_col2\" class=\"col_heading level0 col2\" >Total</th>\n",
       "      <th id=\"T_9541a_level0_col3\" class=\"col_heading level0 col3\" >ある</th>\n",
       "      <th id=\"T_9541a_level0_col4\" class=\"col_heading level0 col4\" >ない</th>\n",
       "      <th id=\"T_9541a_level0_col5\" class=\"col_heading level0 col5\" >Total</th>\n",
       "    </tr>\n",
       "    <tr>\n",
       "      <th class=\"index_name level0\" >gender</th>\n",
       "      <th class=\"blank col0\" >&nbsp;</th>\n",
       "      <th class=\"blank col1\" >&nbsp;</th>\n",
       "      <th class=\"blank col2\" >&nbsp;</th>\n",
       "      <th class=\"blank col3\" >&nbsp;</th>\n",
       "      <th class=\"blank col4\" >&nbsp;</th>\n",
       "      <th class=\"blank col5\" >&nbsp;</th>\n",
       "    </tr>\n",
       "  </thead>\n",
       "  <tbody>\n",
       "    <tr>\n",
       "      <th id=\"T_9541a_level0_row0\" class=\"row_heading level0 row0\" >女</th>\n",
       "      <td id=\"T_9541a_row0_col0\" class=\"data row0 col0\" >80.4%</td>\n",
       "      <td id=\"T_9541a_row0_col1\" class=\"data row0 col1\" >19.6%</td>\n",
       "      <td id=\"T_9541a_row0_col2\" class=\"data row0 col2\" >100.0%</td>\n",
       "      <td id=\"T_9541a_row0_col3\" class=\"data row0 col3\" >79.4%</td>\n",
       "      <td id=\"T_9541a_row0_col4\" class=\"data row0 col4\" >20.6%</td>\n",
       "      <td id=\"T_9541a_row0_col5\" class=\"data row0 col5\" >100.0%</td>\n",
       "    </tr>\n",
       "    <tr>\n",
       "      <th id=\"T_9541a_level0_row1\" class=\"row_heading level0 row1\" >男</th>\n",
       "      <td id=\"T_9541a_row1_col0\" class=\"data row1 col0\" >10.0%</td>\n",
       "      <td id=\"T_9541a_row1_col1\" class=\"data row1 col1\" >90.0%</td>\n",
       "      <td id=\"T_9541a_row1_col2\" class=\"data row1 col2\" >100.0%</td>\n",
       "      <td id=\"T_9541a_row1_col3\" class=\"data row1 col3\" >17.0%</td>\n",
       "      <td id=\"T_9541a_row1_col4\" class=\"data row1 col4\" >83.0%</td>\n",
       "      <td id=\"T_9541a_row1_col5\" class=\"data row1 col5\" >100.0%</td>\n",
       "    </tr>\n",
       "    <tr>\n",
       "      <th id=\"T_9541a_level0_row2\" class=\"row_heading level0 row2\" >Total</th>\n",
       "      <td id=\"T_9541a_row2_col0\" class=\"data row2 col0\" >41.8%</td>\n",
       "      <td id=\"T_9541a_row2_col1\" class=\"data row2 col1\" >58.2%</td>\n",
       "      <td id=\"T_9541a_row2_col2\" class=\"data row2 col2\" >100.0%</td>\n",
       "      <td id=\"T_9541a_row2_col3\" class=\"data row2 col3\" >45.2%</td>\n",
       "      <td id=\"T_9541a_row2_col4\" class=\"data row2 col4\" >54.8%</td>\n",
       "      <td id=\"T_9541a_row2_col5\" class=\"data row2 col5\" >100.0%</td>\n",
       "    </tr>\n",
       "  </tbody>\n",
       "</table>\n"
      ],
      "text/plain": [
       "<pandas.io.formats.style.Styler at 0x22b044976d0>"
      ]
     },
     "execution_count": 75,
     "metadata": {},
     "output_type": "execute_result"
    }
   ],
   "source": [
    "gender_sports = questionnaire.pivot_table(index='gender', columns='sports', values='id', aggfunc='count')\n",
    "gender_sports.loc['Total'] = gender_sports.sum()\n",
    "gender_sports = gender_sports.apply(lambda x: x / sum(x), axis=1)\n",
    "gender_sports['Total'] = gender_sports.sum(axis=1)\n",
    "gender_sports.style.format('{:.01%}', na_rep='-')\n",
    "\n",
    "gender_interest = questionnaire.pivot_table(index='gender', columns='interest', values='id', aggfunc='count')\n",
    "gender_interest.loc['Total'] = gender_interest.sum()\n",
    "gender_interest = gender_interest.apply(lambda x: x / sum(x), axis=1)\n",
    "gender_interest['Total'] = gender_interest.sum(axis=1)\n",
    "gender_interest.style.format('{:.01%}', na_rep='-')\n",
    "\n",
    "pd.concat([gender_sports, gender_interest], axis=1).style.format('{:.01%}', na_rep='-')"
   ]
  },
  {
   "cell_type": "markdown",
   "metadata": {},
   "source": [
    "観測度数と期待度数"
   ]
  },
  {
   "cell_type": "code",
   "execution_count": 76,
   "metadata": {},
   "outputs": [
    {
     "data": {
      "text/html": [
       "<div>\n",
       "<style scoped>\n",
       "    .dataframe tbody tr th:only-of-type {\n",
       "        vertical-align: middle;\n",
       "    }\n",
       "\n",
       "    .dataframe tbody tr th {\n",
       "        vertical-align: top;\n",
       "    }\n",
       "\n",
       "    .dataframe thead th {\n",
       "        text-align: right;\n",
       "    }\n",
       "</style>\n",
       "<table border=\"1\" class=\"dataframe\">\n",
       "  <thead>\n",
       "    <tr style=\"text-align: right;\">\n",
       "      <th>interest</th>\n",
       "      <th>ある</th>\n",
       "      <th>ない</th>\n",
       "      <th>Total</th>\n",
       "    </tr>\n",
       "    <tr>\n",
       "      <th>sports</th>\n",
       "      <th></th>\n",
       "      <th></th>\n",
       "      <th></th>\n",
       "    </tr>\n",
       "  </thead>\n",
       "  <tbody>\n",
       "    <tr>\n",
       "      <th>みない</th>\n",
       "      <td>131</td>\n",
       "      <td>53</td>\n",
       "      <td>184</td>\n",
       "    </tr>\n",
       "    <tr>\n",
       "      <th>みる</th>\n",
       "      <td>68</td>\n",
       "      <td>188</td>\n",
       "      <td>256</td>\n",
       "    </tr>\n",
       "    <tr>\n",
       "      <th>Total</th>\n",
       "      <td>199</td>\n",
       "      <td>241</td>\n",
       "      <td>440</td>\n",
       "    </tr>\n",
       "  </tbody>\n",
       "</table>\n",
       "</div>"
      ],
      "text/plain": [
       "interest   ある   ない  Total\n",
       "sports                   \n",
       "みない       131   53    184\n",
       "みる         68  188    256\n",
       "Total     199  241    440"
      ]
     },
     "execution_count": 76,
     "metadata": {},
     "output_type": "execute_result"
    }
   ],
   "source": [
    "observation_freq = questionnaire_sum.copy()\n",
    "observation_freq"
   ]
  },
  {
   "cell_type": "code",
   "execution_count": 77,
   "metadata": {},
   "outputs": [
    {
     "data": {
      "text/html": [
       "<div>\n",
       "<style scoped>\n",
       "    .dataframe tbody tr th:only-of-type {\n",
       "        vertical-align: middle;\n",
       "    }\n",
       "\n",
       "    .dataframe tbody tr th {\n",
       "        vertical-align: top;\n",
       "    }\n",
       "\n",
       "    .dataframe thead th {\n",
       "        text-align: right;\n",
       "    }\n",
       "</style>\n",
       "<table border=\"1\" class=\"dataframe\">\n",
       "  <thead>\n",
       "    <tr style=\"text-align: right;\">\n",
       "      <th></th>\n",
       "      <th>Total</th>\n",
       "      <th>Total</th>\n",
       "      <th>Total</th>\n",
       "    </tr>\n",
       "    <tr>\n",
       "      <th>sports</th>\n",
       "      <th></th>\n",
       "      <th></th>\n",
       "      <th></th>\n",
       "    </tr>\n",
       "  </thead>\n",
       "  <tbody>\n",
       "    <tr>\n",
       "      <th>みない</th>\n",
       "      <td>92.0</td>\n",
       "      <td>92.0</td>\n",
       "      <td>184</td>\n",
       "    </tr>\n",
       "    <tr>\n",
       "      <th>みる</th>\n",
       "      <td>128.0</td>\n",
       "      <td>128.0</td>\n",
       "      <td>256</td>\n",
       "    </tr>\n",
       "    <tr>\n",
       "      <th>Total</th>\n",
       "      <td>220.0</td>\n",
       "      <td>220.0</td>\n",
       "      <td>440</td>\n",
       "    </tr>\n",
       "  </tbody>\n",
       "</table>\n",
       "</div>"
      ],
      "text/plain": [
       "        Total  Total  Total\n",
       "sports                     \n",
       "みない      92.0   92.0    184\n",
       "みる      128.0  128.0    256\n",
       "Total   220.0  220.0    440"
      ]
     },
     "execution_count": 77,
     "metadata": {},
     "output_type": "execute_result"
    }
   ],
   "source": [
    "# 1:1\n",
    "expected_freq11 = pd.concat([observation_freq['Total']/2, observation_freq['Total']/2, observation_freq['Total']], axis=1)\n",
    "expected_freq11"
   ]
  },
  {
   "cell_type": "code",
   "execution_count": 78,
   "metadata": {},
   "outputs": [
    {
     "data": {
      "text/html": [
       "<div>\n",
       "<style scoped>\n",
       "    .dataframe tbody tr th:only-of-type {\n",
       "        vertical-align: middle;\n",
       "    }\n",
       "\n",
       "    .dataframe tbody tr th {\n",
       "        vertical-align: top;\n",
       "    }\n",
       "\n",
       "    .dataframe thead th {\n",
       "        text-align: right;\n",
       "    }\n",
       "</style>\n",
       "<table border=\"1\" class=\"dataframe\">\n",
       "  <thead>\n",
       "    <tr style=\"text-align: right;\">\n",
       "      <th></th>\n",
       "      <th>Total</th>\n",
       "      <th>Total</th>\n",
       "      <th>Total</th>\n",
       "    </tr>\n",
       "    <tr>\n",
       "      <th>sports</th>\n",
       "      <th></th>\n",
       "      <th></th>\n",
       "      <th></th>\n",
       "    </tr>\n",
       "  </thead>\n",
       "  <tbody>\n",
       "    <tr>\n",
       "      <th>みない</th>\n",
       "      <td>122.666667</td>\n",
       "      <td>61.333333</td>\n",
       "      <td>184</td>\n",
       "    </tr>\n",
       "    <tr>\n",
       "      <th>みる</th>\n",
       "      <td>170.666667</td>\n",
       "      <td>85.333333</td>\n",
       "      <td>256</td>\n",
       "    </tr>\n",
       "    <tr>\n",
       "      <th>Total</th>\n",
       "      <td>293.333333</td>\n",
       "      <td>146.666667</td>\n",
       "      <td>440</td>\n",
       "    </tr>\n",
       "  </tbody>\n",
       "</table>\n",
       "</div>"
      ],
      "text/plain": [
       "             Total       Total  Total\n",
       "sports                               \n",
       "みない     122.666667   61.333333    184\n",
       "みる      170.666667   85.333333    256\n",
       "Total   293.333333  146.666667    440"
      ]
     },
     "execution_count": 78,
     "metadata": {},
     "output_type": "execute_result"
    }
   ],
   "source": [
    "# 2:1\n",
    "expected_freq12 = pd.concat([observation_freq['Total']*2/3, observation_freq['Total']*1/3, observation_freq['Total']], axis=1)\n",
    "expected_freq12"
   ]
  },
  {
   "cell_type": "markdown",
   "metadata": {},
   "source": [
    "2変数に関連性がないことを仮定したときの期待度数"
   ]
  },
  {
   "cell_type": "code",
   "execution_count": 79,
   "metadata": {},
   "outputs": [
    {
     "data": {
      "text/html": [
       "<div>\n",
       "<style scoped>\n",
       "    .dataframe tbody tr th:only-of-type {\n",
       "        vertical-align: middle;\n",
       "    }\n",
       "\n",
       "    .dataframe tbody tr th {\n",
       "        vertical-align: top;\n",
       "    }\n",
       "\n",
       "    .dataframe thead th {\n",
       "        text-align: right;\n",
       "    }\n",
       "</style>\n",
       "<table border=\"1\" class=\"dataframe\">\n",
       "  <thead>\n",
       "    <tr style=\"text-align: right;\">\n",
       "      <th>interest</th>\n",
       "      <th>ある</th>\n",
       "      <th>ない</th>\n",
       "      <th>Total</th>\n",
       "    </tr>\n",
       "    <tr>\n",
       "      <th>sports</th>\n",
       "      <th></th>\n",
       "      <th></th>\n",
       "      <th></th>\n",
       "    </tr>\n",
       "  </thead>\n",
       "  <tbody>\n",
       "    <tr>\n",
       "      <th>みない</th>\n",
       "      <td>131</td>\n",
       "      <td>53</td>\n",
       "      <td>184</td>\n",
       "    </tr>\n",
       "    <tr>\n",
       "      <th>みる</th>\n",
       "      <td>68</td>\n",
       "      <td>188</td>\n",
       "      <td>256</td>\n",
       "    </tr>\n",
       "    <tr>\n",
       "      <th>Total</th>\n",
       "      <td>199</td>\n",
       "      <td>241</td>\n",
       "      <td>440</td>\n",
       "    </tr>\n",
       "  </tbody>\n",
       "</table>\n",
       "</div>"
      ],
      "text/plain": [
       "interest   ある   ない  Total\n",
       "sports                   \n",
       "みない       131   53    184\n",
       "みる         68  188    256\n",
       "Total     199  241    440"
      ]
     },
     "execution_count": 79,
     "metadata": {},
     "output_type": "execute_result"
    }
   ],
   "source": [
    "# 観測度数\n",
    "questionnaire_sum"
   ]
  },
  {
   "cell_type": "code",
   "execution_count": 80,
   "metadata": {},
   "outputs": [
    {
     "data": {
      "text/html": [
       "<div>\n",
       "<style scoped>\n",
       "    .dataframe tbody tr th:only-of-type {\n",
       "        vertical-align: middle;\n",
       "    }\n",
       "\n",
       "    .dataframe tbody tr th {\n",
       "        vertical-align: top;\n",
       "    }\n",
       "\n",
       "    .dataframe thead th {\n",
       "        text-align: right;\n",
       "    }\n",
       "</style>\n",
       "<table border=\"1\" class=\"dataframe\">\n",
       "  <thead>\n",
       "    <tr style=\"text-align: right;\">\n",
       "      <th></th>\n",
       "      <th>ある</th>\n",
       "      <th>ない</th>\n",
       "      <th>Total</th>\n",
       "    </tr>\n",
       "    <tr>\n",
       "      <th>sports</th>\n",
       "      <th></th>\n",
       "      <th></th>\n",
       "      <th></th>\n",
       "    </tr>\n",
       "  </thead>\n",
       "  <tbody>\n",
       "    <tr>\n",
       "      <th>みない</th>\n",
       "      <td>83.218182</td>\n",
       "      <td>100.781818</td>\n",
       "      <td>184.0</td>\n",
       "    </tr>\n",
       "    <tr>\n",
       "      <th>みる</th>\n",
       "      <td>115.781818</td>\n",
       "      <td>140.218182</td>\n",
       "      <td>256.0</td>\n",
       "    </tr>\n",
       "    <tr>\n",
       "      <th>Total</th>\n",
       "      <td>199.000000</td>\n",
       "      <td>241.000000</td>\n",
       "      <td>440.0</td>\n",
       "    </tr>\n",
       "  </tbody>\n",
       "</table>\n",
       "</div>"
      ],
      "text/plain": [
       "                ある          ない  Total\n",
       "sports                               \n",
       "みない      83.218182  100.781818  184.0\n",
       "みる      115.781818  140.218182  256.0\n",
       "Total   199.000000  241.000000  440.0"
      ]
     },
     "execution_count": 80,
     "metadata": {},
     "output_type": "execute_result"
    }
   ],
   "source": [
    "# 関連性がないときの期待度数\n",
    "unrelated_expected_freq = pd.DataFrame()\n",
    "unrelated_expected_freq['ある'] = questionnaire_sum['Total'] * questionnaire_sum.loc['Total', 'ある'] / questionnaire_sum.loc['Total', 'Total']\n",
    "unrelated_expected_freq['ない'] = questionnaire_sum['Total'] * questionnaire_sum.loc['Total', 'ない'] / questionnaire_sum.loc['Total', 'Total']\n",
    "unrelated_expected_freq['Total'] = unrelated_expected_freq.sum(axis=1)\n",
    "unrelated_expected_freq"
   ]
  },
  {
   "cell_type": "markdown",
   "metadata": {},
   "source": [
    "$\\chi^2$ 統計量: 観測度数の期待度数からの乖離 "
   ]
  },
  {
   "cell_type": "code",
   "execution_count": 81,
   "metadata": {},
   "outputs": [
    {
     "data": {
      "text/plain": [
       "86.09054654473886"
      ]
     },
     "execution_count": 81,
     "metadata": {},
     "output_type": "execute_result"
    }
   ],
   "source": [
    "chi2_ = ((questionnaire_sum - unrelated_expected_freq) ** 2 / unrelated_expected_freq).sum().sum()\n",
    "chi2_"
   ]
  },
  {
   "cell_type": "markdown",
   "metadata": {},
   "source": [
    "クラメールの連関係数, ピアソンの連関係数"
   ]
  },
  {
   "cell_type": "code",
   "execution_count": 96,
   "metadata": {},
   "outputs": [
    {
     "name": "stdout",
     "output_type": "stream",
     "text": [
      "クラメールの連関係数: 0.442\n",
      "クラメールの連関係数: 0.405\n"
     ]
    }
   ],
   "source": [
    "rc = np.sqrt(chi2_ / observation_freq.loc['Total', 'Total'] / (min(questionnaire_count.shape)-1))\n",
    "print(f'クラメールの連関係数: {rc:.03f}')\n",
    "rp = np.sqrt(chi2_ / (chi2_ + observation_freq.loc['Total', 'Total']))\n",
    "print(f'クラメールの連関係数: {rp:.03f}')"
   ]
  },
  {
   "cell_type": "markdown",
   "metadata": {},
   "source": [
    "$\\chi^2$ 検定: 母集団における関連性の検定\n",
    "- $H_0$ : 関連がない\n",
    "- $H_1$ : 関連がある\n",
    "- 求めた $\\chi^2 = 86.09$"
   ]
  },
  {
   "cell_type": "code",
   "execution_count": 135,
   "metadata": {},
   "outputs": [
    {
     "name": "stdout",
     "output_type": "stream",
     "text": [
      "[1.57087858e-04 3.93214000e-03 4.54936423e-01 3.84145882e+00\n",
      " 6.63489660e+00]\n"
     ]
    },
    {
     "data": {
      "image/png": "[encoded data removed]",
      "text/plain": [
       "<Figure size 1200x300 with 1 Axes>"
      ]
     },
     "metadata": {},
     "output_type": "display_data"
    }
   ],
   "source": [
    "# カイ二乗のパーセント点\n",
    "dof = (questionnaire_count.shape[0]-1) * (questionnaire_count.shape[1]-1)\n",
    "p = np.array([0.01, 0.05, 0.5, 0.95, 0.99])\n",
    "print(stats.chi2.ppf(p, dof))\n",
    "\n",
    "plt.figure(figsize=(12, 3))\n",
    "x = np.linspace(0, chi2_, 10000)\n",
    "y = stats.chi2.pdf(x, df=dof)\n",
    "plt.plot(x, y, label=f'chi2, df={dof}')\n",
    "plt.scatter(chi2_, 0, color='r', label='chi2_stats')\n",
    "plt.legend()\n",
    "plt.show()"
   ]
  }
 ],
 "metadata": {
  "kernelspec": {
   "display_name": "Python 3",
   "language": "python",
   "name": "python3"
  },
  "language_info": {
   "codemirror_mode": {
    "name": "ipython",
    "version": 3
   },
   "file_extension": ".py",
   "mimetype": "text/x-python",
   "name": "python",
   "nbconvert_exporter": "python",
   "pygments_lexer": "ipython3",
   "version": "3.10.9"
  }
 },
 "nbformat": 4,
 "nbformat_minor": 2
}
