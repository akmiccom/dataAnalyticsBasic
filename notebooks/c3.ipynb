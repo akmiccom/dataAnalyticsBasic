{
 "cells": [
  {
   "cell_type": "code",
   "execution_count": 1,
   "metadata": {},
   "outputs": [],
   "source": [
    "from glob import glob\n",
    "import pandas as pd"
   ]
  },
  {
   "cell_type": "code",
   "execution_count": 3,
   "metadata": {},
   "outputs": [
    {
     "name": "stdout",
     "output_type": "stream",
     "text": [
      "0 ../csv/例題_データアナリティクス基礎\\例題10_自由記述データ&形態素解析データ.xlsx\n",
      "1 ../csv/例題_データアナリティクス基礎\\例題11_乱数で発生させた分布の基本統計量.xlsx\n",
      "2 ../csv/例題_データアナリティクス基礎\\例題1_自転車データ.xlsx\n",
      "3 ../csv/例題_データアナリティクス基礎\\例題2_顧客ID付き食品購入データ.xlsx\n",
      "4 ../csv/例題_データアナリティクス基礎\\例題3_テレビ視聴アンケートデータ.xlsx\n",
      "5 ../csv/例題_データアナリティクス基礎\\例題4_5つの地域の事業所数.xlsx\n",
      "6 ../csv/例題_データアナリティクス基礎\\例題5_関東地方の人口データ.xlsx\n",
      "7 ../csv/例題_データアナリティクス基礎\\例題7_異なる授業形態による成績データ.xlsx\n",
      "8 ../csv/例題_データアナリティクス基礎\\例題8_遊園地テーマパーク入場者数.xlsx\n",
      "9 ../csv/例題_データアナリティクス基礎\\例題9_店舗別販売額.xlsx\n"
     ]
    }
   ],
   "source": [
    "files = glob(\"../csv/例題_データアナリティクス基礎/*\")\n",
    "for i, f in enumerate(files):\n",
    "    print(i, f)\n"
   ]
  },
  {
   "cell_type": "code",
   "execution_count": 7,
   "metadata": {},
   "outputs": [
    {
     "data": {
      "text/html": [
       "<div>\n",
       "<style scoped>\n",
       "    .dataframe tbody tr th:only-of-type {\n",
       "        vertical-align: middle;\n",
       "    }\n",
       "\n",
       "    .dataframe tbody tr th {\n",
       "        vertical-align: top;\n",
       "    }\n",
       "\n",
       "    .dataframe thead th {\n",
       "        text-align: right;\n",
       "    }\n",
       "</style>\n",
       "<table border=\"1\" class=\"dataframe\">\n",
       "  <thead>\n",
       "    <tr style=\"text-align: right;\">\n",
       "      <th></th>\n",
       "      <th>id</th>\n",
       "      <th>gender</th>\n",
       "      <th>sports</th>\n",
       "      <th>interest</th>\n",
       "    </tr>\n",
       "  </thead>\n",
       "  <tbody>\n",
       "    <tr>\n",
       "      <th>0</th>\n",
       "      <td>1</td>\n",
       "      <td>男</td>\n",
       "      <td>みる</td>\n",
       "      <td>ない</td>\n",
       "    </tr>\n",
       "    <tr>\n",
       "      <th>1</th>\n",
       "      <td>2</td>\n",
       "      <td>男</td>\n",
       "      <td>みる</td>\n",
       "      <td>ない</td>\n",
       "    </tr>\n",
       "    <tr>\n",
       "      <th>2</th>\n",
       "      <td>3</td>\n",
       "      <td>男</td>\n",
       "      <td>みる</td>\n",
       "      <td>ない</td>\n",
       "    </tr>\n",
       "    <tr>\n",
       "      <th>3</th>\n",
       "      <td>4</td>\n",
       "      <td>女</td>\n",
       "      <td>みない</td>\n",
       "      <td>ある</td>\n",
       "    </tr>\n",
       "    <tr>\n",
       "      <th>4</th>\n",
       "      <td>5</td>\n",
       "      <td>女</td>\n",
       "      <td>みる</td>\n",
       "      <td>ある</td>\n",
       "    </tr>\n",
       "  </tbody>\n",
       "</table>\n",
       "</div>"
      ],
      "text/plain": [
       "   id gender sports interest\n",
       "0   1      男     みる       ない\n",
       "1   2      男     みる       ない\n",
       "2   3      男     みる       ない\n",
       "3   4      女    みない       ある\n",
       "4   5      女     みる       ある"
      ]
     },
     "execution_count": 7,
     "metadata": {},
     "output_type": "execute_result"
    }
   ],
   "source": [
    "questionnaire = pd.read_excel(files[4])\n",
    "questionnaire.columns = ['id', 'gender', 'sports', 'interest']\n",
    "questionnaire.head()"
   ]
  },
  {
   "cell_type": "markdown",
   "metadata": {},
   "source": [
    "スポーツ中継 × 商品への関心 についてのクロス集計表作成"
   ]
  },
  {
   "cell_type": "code",
   "execution_count": 55,
   "metadata": {},
   "outputs": [
    {
     "data": {
      "text/html": [
       "<div>\n",
       "<style scoped>\n",
       "    .dataframe tbody tr th:only-of-type {\n",
       "        vertical-align: middle;\n",
       "    }\n",
       "\n",
       "    .dataframe tbody tr th {\n",
       "        vertical-align: top;\n",
       "    }\n",
       "\n",
       "    .dataframe thead th {\n",
       "        text-align: right;\n",
       "    }\n",
       "</style>\n",
       "<table border=\"1\" class=\"dataframe\">\n",
       "  <thead>\n",
       "    <tr style=\"text-align: right;\">\n",
       "      <th>interest</th>\n",
       "      <th>ある</th>\n",
       "      <th>ない</th>\n",
       "    </tr>\n",
       "    <tr>\n",
       "      <th>sports</th>\n",
       "      <th></th>\n",
       "      <th></th>\n",
       "    </tr>\n",
       "  </thead>\n",
       "  <tbody>\n",
       "    <tr>\n",
       "      <th>みない</th>\n",
       "      <td>131</td>\n",
       "      <td>53</td>\n",
       "    </tr>\n",
       "    <tr>\n",
       "      <th>みる</th>\n",
       "      <td>68</td>\n",
       "      <td>188</td>\n",
       "    </tr>\n",
       "  </tbody>\n",
       "</table>\n",
       "</div>"
      ],
      "text/plain": [
       "interest   ある   ない\n",
       "sports            \n",
       "みない       131   53\n",
       "みる         68  188"
      ]
     },
     "execution_count": 55,
     "metadata": {},
     "output_type": "execute_result"
    }
   ],
   "source": [
    "questionnaire_count = questionnaire.pivot_table(index='sports', columns='interest', values='id', aggfunc='count')\n",
    "questionnaire_count"
   ]
  },
  {
   "cell_type": "markdown",
   "metadata": {},
   "source": [
    "スポーツ中継 × 商品への関心 の構成割合についてのクロス集計表作成"
   ]
  },
  {
   "cell_type": "code",
   "execution_count": 62,
   "metadata": {},
   "outputs": [
    {
     "data": {
      "text/html": [
       "<style type=\"text/css\">\n",
       "</style>\n",
       "<table id=\"T_c9024\">\n",
       "  <thead>\n",
       "    <tr>\n",
       "      <th class=\"index_name level0\" >interest</th>\n",
       "      <th id=\"T_c9024_level0_col0\" class=\"col_heading level0 col0\" >ある</th>\n",
       "      <th id=\"T_c9024_level0_col1\" class=\"col_heading level0 col1\" >ない</th>\n",
       "    </tr>\n",
       "    <tr>\n",
       "      <th class=\"index_name level0\" >sports</th>\n",
       "      <th class=\"blank col0\" >&nbsp;</th>\n",
       "      <th class=\"blank col1\" >&nbsp;</th>\n",
       "    </tr>\n",
       "  </thead>\n",
       "  <tbody>\n",
       "    <tr>\n",
       "      <th id=\"T_c9024_level0_row0\" class=\"row_heading level0 row0\" >みない</th>\n",
       "      <td id=\"T_c9024_row0_col0\" class=\"data row0 col0\" >29.8%</td>\n",
       "      <td id=\"T_c9024_row0_col1\" class=\"data row0 col1\" >12.0%</td>\n",
       "    </tr>\n",
       "    <tr>\n",
       "      <th id=\"T_c9024_level0_row1\" class=\"row_heading level0 row1\" >みる</th>\n",
       "      <td id=\"T_c9024_row1_col0\" class=\"data row1 col0\" >15.5%</td>\n",
       "      <td id=\"T_c9024_row1_col1\" class=\"data row1 col1\" >42.7%</td>\n",
       "    </tr>\n",
       "  </tbody>\n",
       "</table>\n"
      ],
      "text/plain": [
       "<pandas.io.formats.style.Styler at 0x27f09666590>"
      ]
     },
     "execution_count": 62,
     "metadata": {},
     "output_type": "execute_result"
    }
   ],
   "source": [
    "questionnaire_ratio = questionnaire_count.apply(lambda x: x / questionnaire_count.sum().sum())\n",
    "questionnaire_ratio.style.format('{:.01%}', na_rep='-')"
   ]
  },
  {
   "cell_type": "markdown",
   "metadata": {},
   "source": [
    "行・列にカウントの合計を追加"
   ]
  },
  {
   "cell_type": "code",
   "execution_count": 63,
   "metadata": {},
   "outputs": [
    {
     "data": {
      "text/html": [
       "<div>\n",
       "<style scoped>\n",
       "    .dataframe tbody tr th:only-of-type {\n",
       "        vertical-align: middle;\n",
       "    }\n",
       "\n",
       "    .dataframe tbody tr th {\n",
       "        vertical-align: top;\n",
       "    }\n",
       "\n",
       "    .dataframe thead th {\n",
       "        text-align: right;\n",
       "    }\n",
       "</style>\n",
       "<table border=\"1\" class=\"dataframe\">\n",
       "  <thead>\n",
       "    <tr style=\"text-align: right;\">\n",
       "      <th>interest</th>\n",
       "      <th>ある</th>\n",
       "      <th>ない</th>\n",
       "      <th>Total</th>\n",
       "    </tr>\n",
       "    <tr>\n",
       "      <th>sports</th>\n",
       "      <th></th>\n",
       "      <th></th>\n",
       "      <th></th>\n",
       "    </tr>\n",
       "  </thead>\n",
       "  <tbody>\n",
       "    <tr>\n",
       "      <th>みない</th>\n",
       "      <td>131</td>\n",
       "      <td>53</td>\n",
       "      <td>184</td>\n",
       "    </tr>\n",
       "    <tr>\n",
       "      <th>みる</th>\n",
       "      <td>68</td>\n",
       "      <td>188</td>\n",
       "      <td>256</td>\n",
       "    </tr>\n",
       "    <tr>\n",
       "      <th>Total</th>\n",
       "      <td>199</td>\n",
       "      <td>241</td>\n",
       "      <td>440</td>\n",
       "    </tr>\n",
       "  </tbody>\n",
       "</table>\n",
       "</div>"
      ],
      "text/plain": [
       "interest   ある   ない  Total\n",
       "sports                   \n",
       "みない       131   53    184\n",
       "みる         68  188    256\n",
       "Total     199  241    440"
      ]
     },
     "execution_count": 63,
     "metadata": {},
     "output_type": "execute_result"
    }
   ],
   "source": [
    "questionnaire_sum = questionnaire_count.copy()\n",
    "questionnaire_sum['Total'] = questionnaire_sum.apply(lambda x : sum(x), axis=1)\n",
    "questionnaire_sum.loc['Total'] = questionnaire_sum.apply(lambda x : sum(x), axis=0)\n",
    "questionnaire_sum\n"
   ]
  },
  {
   "cell_type": "markdown",
   "metadata": {},
   "source": [
    "行・列にカウントの割合合計を追加"
   ]
  },
  {
   "cell_type": "code",
   "execution_count": 66,
   "metadata": {},
   "outputs": [
    {
     "data": {
      "text/html": [
       "<style type=\"text/css\">\n",
       "</style>\n",
       "<table id=\"T_7fcde\">\n",
       "  <thead>\n",
       "    <tr>\n",
       "      <th class=\"index_name level0\" >interest</th>\n",
       "      <th id=\"T_7fcde_level0_col0\" class=\"col_heading level0 col0\" >ある</th>\n",
       "      <th id=\"T_7fcde_level0_col1\" class=\"col_heading level0 col1\" >ない</th>\n",
       "      <th id=\"T_7fcde_level0_col2\" class=\"col_heading level0 col2\" >Total</th>\n",
       "    </tr>\n",
       "    <tr>\n",
       "      <th class=\"index_name level0\" >sports</th>\n",
       "      <th class=\"blank col0\" >&nbsp;</th>\n",
       "      <th class=\"blank col1\" >&nbsp;</th>\n",
       "      <th class=\"blank col2\" >&nbsp;</th>\n",
       "    </tr>\n",
       "  </thead>\n",
       "  <tbody>\n",
       "    <tr>\n",
       "      <th id=\"T_7fcde_level0_row0\" class=\"row_heading level0 row0\" >みない</th>\n",
       "      <td id=\"T_7fcde_row0_col0\" class=\"data row0 col0\" >29.8%</td>\n",
       "      <td id=\"T_7fcde_row0_col1\" class=\"data row0 col1\" >12.0%</td>\n",
       "      <td id=\"T_7fcde_row0_col2\" class=\"data row0 col2\" >41.8%</td>\n",
       "    </tr>\n",
       "    <tr>\n",
       "      <th id=\"T_7fcde_level0_row1\" class=\"row_heading level0 row1\" >みる</th>\n",
       "      <td id=\"T_7fcde_row1_col0\" class=\"data row1 col0\" >15.5%</td>\n",
       "      <td id=\"T_7fcde_row1_col1\" class=\"data row1 col1\" >42.7%</td>\n",
       "      <td id=\"T_7fcde_row1_col2\" class=\"data row1 col2\" >58.2%</td>\n",
       "    </tr>\n",
       "    <tr>\n",
       "      <th id=\"T_7fcde_level0_row2\" class=\"row_heading level0 row2\" >Total</th>\n",
       "      <td id=\"T_7fcde_row2_col0\" class=\"data row2 col0\" >45.2%</td>\n",
       "      <td id=\"T_7fcde_row2_col1\" class=\"data row2 col1\" >54.8%</td>\n",
       "      <td id=\"T_7fcde_row2_col2\" class=\"data row2 col2\" >100.0%</td>\n",
       "    </tr>\n",
       "  </tbody>\n",
       "</table>\n"
      ],
      "text/plain": [
       "<pandas.io.formats.style.Styler at 0x27f08fcdea0>"
      ]
     },
     "execution_count": 66,
     "metadata": {},
     "output_type": "execute_result"
    }
   ],
   "source": [
    "questionnaire_sum2 = questionnaire_ratio.copy()\n",
    "questionnaire_sum2['Total'] = questionnaire_sum2.apply(lambda x : sum(x), axis=1)\n",
    "questionnaire_sum2.loc['Total'] = questionnaire_sum2.apply(lambda x : sum(x), axis=0)\n",
    "questionnaire_sum2.style.format('{:.01%}', na_rep='-')"
   ]
  },
  {
   "cell_type": "markdown",
   "metadata": {},
   "source": [
    "行のみの割合合計"
   ]
  },
  {
   "cell_type": "code",
   "execution_count": 83,
   "metadata": {},
   "outputs": [
    {
     "data": {
      "text/html": [
       "<div>\n",
       "<style scoped>\n",
       "    .dataframe tbody tr th:only-of-type {\n",
       "        vertical-align: middle;\n",
       "    }\n",
       "\n",
       "    .dataframe tbody tr th {\n",
       "        vertical-align: top;\n",
       "    }\n",
       "\n",
       "    .dataframe thead th {\n",
       "        text-align: right;\n",
       "    }\n",
       "</style>\n",
       "<table border=\"1\" class=\"dataframe\">\n",
       "  <thead>\n",
       "    <tr style=\"text-align: right;\">\n",
       "      <th>interest</th>\n",
       "      <th>ある</th>\n",
       "      <th>ない</th>\n",
       "    </tr>\n",
       "    <tr>\n",
       "      <th>sports</th>\n",
       "      <th></th>\n",
       "      <th></th>\n",
       "    </tr>\n",
       "  </thead>\n",
       "  <tbody>\n",
       "    <tr>\n",
       "      <th>みない</th>\n",
       "      <td>0.711957</td>\n",
       "      <td>0.288043</td>\n",
       "    </tr>\n",
       "    <tr>\n",
       "      <th>みる</th>\n",
       "      <td>0.265625</td>\n",
       "      <td>0.734375</td>\n",
       "    </tr>\n",
       "  </tbody>\n",
       "</table>\n",
       "</div>"
      ],
      "text/plain": [
       "interest        ある        ない\n",
       "sports                      \n",
       "みない       0.711957  0.288043\n",
       "みる        0.265625  0.734375"
      ]
     },
     "execution_count": 83,
     "metadata": {},
     "output_type": "execute_result"
    }
   ],
   "source": [
    "questionnaire_count.apply(lambda x: x / sum(x), axis=1)"
   ]
  }
 ],
 "metadata": {
  "kernelspec": {
   "display_name": "Python 3",
   "language": "python",
   "name": "python3"
  },
  "language_info": {
   "codemirror_mode": {
    "name": "ipython",
    "version": 3
   },
   "file_extension": ".py",
   "mimetype": "text/x-python",
   "name": "python",
   "nbconvert_exporter": "python",
   "pygments_lexer": "ipython3",
   "version": "3.10.9"
  }
 },
 "nbformat": 4,
 "nbformat_minor": 2
}
