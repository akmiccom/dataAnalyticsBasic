{
 "cells": [
  {
   "cell_type": "code",
   "execution_count": 1,
   "metadata": {},
   "outputs": [],
   "source": [
    "from glob import glob\n",
    "import pandas as pd\n",
    "import numpy as np\n",
    "from scipy import stats  \n",
    "import matplotlib.pyplot as plt\n",
    "import japanize_matplotlib"
   ]
  },
  {
   "cell_type": "code",
   "execution_count": 2,
   "metadata": {},
   "outputs": [
    {
     "name": "stdout",
     "output_type": "stream",
     "text": [
      "0 ../csv/演習問題_データアナリティクス基礎\\第10章演習問題_乱数で発生させて分布の基本統計量.xlsx\n",
      "1 ../csv/演習問題_データアナリティクス基礎\\第2章演習問題_クレームデータ.xlsx\n",
      "2 ../csv/演習問題_データアナリティクス基礎\\第3章演習問題_職場ストレス.xlsx\n",
      "3 ../csv/演習問題_データアナリティクス基礎\\第4章演習問題_児童のネット利用時間.xlsx\n",
      "4 ../csv/演習問題_データアナリティクス基礎\\第5章演習問題_生鮮野菜の購入額.xlsx\n",
      "5 ../csv/演習問題_データアナリティクス基礎\\第7章演習問題_授業効果の検証.xlsx\n",
      "6 ../csv/演習問題_データアナリティクス基礎\\第8章演習問題1_健康食品・化粧品販売額.xlsx\n",
      "7 ../csv/演習問題_データアナリティクス基礎\\第8章演習問題2_百貨店の衣料品売上高.xlsx\n",
      "8 ../csv/演習問題_データアナリティクス基礎\\第9章演習問題_自由記述データ＆形態素解析データ.xlsx\n"
     ]
    }
   ],
   "source": [
    "files = glob(\"../csv/演習問題_データアナリティクス基礎/*\")\n",
    "for i, f in enumerate(files):\n",
    "    print(i, f)\n"
   ]
  },
  {
   "cell_type": "code",
   "execution_count": 3,
   "metadata": {},
   "outputs": [
    {
     "name": "stdout",
     "output_type": "stream",
     "text": [
      "Index(['ID', '授業前', '授業後'], dtype='object')\n",
      "<class 'pandas.core.frame.DataFrame'>\n",
      "RangeIndex: 19 entries, 0 to 18\n",
      "Data columns (total 3 columns):\n",
      " #   Column  Non-Null Count  Dtype\n",
      "---  ------  --------------  -----\n",
      " 0   id      19 non-null     int64\n",
      " 1   before  19 non-null     int64\n",
      " 2   after   19 non-null     int64\n",
      "dtypes: int64(3)\n",
      "memory usage: 584.0 bytes\n"
     ]
    },
    {
     "data": {
      "text/html": [
       "<div>\n",
       "<style scoped>\n",
       "    .dataframe tbody tr th:only-of-type {\n",
       "        vertical-align: middle;\n",
       "    }\n",
       "\n",
       "    .dataframe tbody tr th {\n",
       "        vertical-align: top;\n",
       "    }\n",
       "\n",
       "    .dataframe thead th {\n",
       "        text-align: right;\n",
       "    }\n",
       "</style>\n",
       "<table border=\"1\" class=\"dataframe\">\n",
       "  <thead>\n",
       "    <tr style=\"text-align: right;\">\n",
       "      <th></th>\n",
       "      <th>id</th>\n",
       "      <th>before</th>\n",
       "      <th>after</th>\n",
       "    </tr>\n",
       "  </thead>\n",
       "  <tbody>\n",
       "    <tr>\n",
       "      <th>0</th>\n",
       "      <td>1</td>\n",
       "      <td>11</td>\n",
       "      <td>14</td>\n",
       "    </tr>\n",
       "    <tr>\n",
       "      <th>1</th>\n",
       "      <td>2</td>\n",
       "      <td>15</td>\n",
       "      <td>15</td>\n",
       "    </tr>\n",
       "    <tr>\n",
       "      <th>2</th>\n",
       "      <td>3</td>\n",
       "      <td>14</td>\n",
       "      <td>17</td>\n",
       "    </tr>\n",
       "    <tr>\n",
       "      <th>3</th>\n",
       "      <td>4</td>\n",
       "      <td>14</td>\n",
       "      <td>13</td>\n",
       "    </tr>\n",
       "    <tr>\n",
       "      <th>4</th>\n",
       "      <td>5</td>\n",
       "      <td>16</td>\n",
       "      <td>18</td>\n",
       "    </tr>\n",
       "  </tbody>\n",
       "</table>\n",
       "</div>"
      ],
      "text/plain": [
       "   id  before  after\n",
       "0   1      11     14\n",
       "1   2      15     15\n",
       "2   3      14     17\n",
       "3   4      14     13\n",
       "4   5      16     18"
      ]
     },
     "execution_count": 3,
     "metadata": {},
     "output_type": "execute_result"
    }
   ],
   "source": [
    "df = pd.read_excel(files[5])\n",
    "print(df.columns)\n",
    "df.columns = ['id', 'before', 'after']\n",
    "df.info()\n",
    "df.head()"
   ]
  },
  {
   "cell_type": "markdown",
   "metadata": {},
   "source": [
    "母平均の推定値"
   ]
  },
  {
   "cell_type": "code",
   "execution_count": 4,
   "metadata": {},
   "outputs": [
    {
     "data": {
      "text/html": [
       "<div>\n",
       "<style scoped>\n",
       "    .dataframe tbody tr th:only-of-type {\n",
       "        vertical-align: middle;\n",
       "    }\n",
       "\n",
       "    .dataframe tbody tr th {\n",
       "        vertical-align: top;\n",
       "    }\n",
       "\n",
       "    .dataframe thead th {\n",
       "        text-align: right;\n",
       "    }\n",
       "</style>\n",
       "<table border=\"1\" class=\"dataframe\">\n",
       "  <thead>\n",
       "    <tr style=\"text-align: right;\">\n",
       "      <th></th>\n",
       "      <th>id</th>\n",
       "      <th>before</th>\n",
       "      <th>after</th>\n",
       "    </tr>\n",
       "  </thead>\n",
       "  <tbody>\n",
       "    <tr>\n",
       "      <th>count</th>\n",
       "      <td>19.000000</td>\n",
       "      <td>19.000000</td>\n",
       "      <td>19.000000</td>\n",
       "    </tr>\n",
       "    <tr>\n",
       "      <th>mean</th>\n",
       "      <td>10.000000</td>\n",
       "      <td>12.578947</td>\n",
       "      <td>14.105263</td>\n",
       "    </tr>\n",
       "    <tr>\n",
       "      <th>std</th>\n",
       "      <td>5.627314</td>\n",
       "      <td>2.433922</td>\n",
       "      <td>2.806634</td>\n",
       "    </tr>\n",
       "    <tr>\n",
       "      <th>min</th>\n",
       "      <td>1.000000</td>\n",
       "      <td>8.000000</td>\n",
       "      <td>7.000000</td>\n",
       "    </tr>\n",
       "    <tr>\n",
       "      <th>25%</th>\n",
       "      <td>5.500000</td>\n",
       "      <td>11.000000</td>\n",
       "      <td>13.000000</td>\n",
       "    </tr>\n",
       "    <tr>\n",
       "      <th>50%</th>\n",
       "      <td>10.000000</td>\n",
       "      <td>13.000000</td>\n",
       "      <td>14.000000</td>\n",
       "    </tr>\n",
       "    <tr>\n",
       "      <th>75%</th>\n",
       "      <td>14.500000</td>\n",
       "      <td>14.000000</td>\n",
       "      <td>16.000000</td>\n",
       "    </tr>\n",
       "    <tr>\n",
       "      <th>max</th>\n",
       "      <td>19.000000</td>\n",
       "      <td>16.000000</td>\n",
       "      <td>18.000000</td>\n",
       "    </tr>\n",
       "  </tbody>\n",
       "</table>\n",
       "</div>"
      ],
      "text/plain": [
       "              id     before      after\n",
       "count  19.000000  19.000000  19.000000\n",
       "mean   10.000000  12.578947  14.105263\n",
       "std     5.627314   2.433922   2.806634\n",
       "min     1.000000   8.000000   7.000000\n",
       "25%     5.500000  11.000000  13.000000\n",
       "50%    10.000000  13.000000  14.000000\n",
       "75%    14.500000  14.000000  16.000000\n",
       "max    19.000000  16.000000  18.000000"
      ]
     },
     "execution_count": 4,
     "metadata": {},
     "output_type": "execute_result"
    }
   ],
   "source": [
    "df.describe()"
   ]
  },
  {
   "cell_type": "code",
   "execution_count": 5,
   "metadata": {},
   "outputs": [
    {
     "name": "stdout",
     "output_type": "stream",
     "text": [
      "授業前の母平均推定値: 12.6\n"
     ]
    }
   ],
   "source": [
    "print(f'授業前の母平均推定値: {df.describe().iloc[1, 1]:.01f}')"
   ]
  },
  {
   "cell_type": "markdown",
   "metadata": {},
   "source": [
    "授業前の母平均の標本誤差"
   ]
  },
  {
   "cell_type": "code",
   "execution_count": 6,
   "metadata": {},
   "outputs": [
    {
     "name": "stdout",
     "output_type": "stream",
     "text": [
      "標本平均の標準誤差: 0.56\n"
     ]
    }
   ],
   "source": [
    "print(f'標本平均の標準誤差: {(df[\"before\"].std() / np.sqrt(df.shape[0])):.02f}')"
   ]
  },
  {
   "cell_type": "markdown",
   "metadata": {},
   "source": [
    "授業前の母平均のt分布に基づく信頼度95%の信頼上限"
   ]
  },
  {
   "cell_type": "code",
   "execution_count": 7,
   "metadata": {},
   "outputs": [
    {
     "name": "stdout",
     "output_type": "stream",
     "text": [
      "[11.4 13.8]\n"
     ]
    }
   ],
   "source": [
    "alpha = 0.05\n",
    "n = df.shape[0]\n",
    "mean_before = df['before'].mean()\n",
    "t = stats.t.ppf(1-alpha/2, n)\n",
    "std_before = df['before'].std() / np.sqrt(n)\n",
    "# print(mean_before, t, std_before)\n",
    "upper_limit = round(mean_before + t * std_before, 2)\n",
    "lower_limit = round(mean_before - t * std_before, 2)\n",
    "print(f'[{lower_limit:.01f}', f'{upper_limit:.01f}]')"
   ]
  },
  {
   "cell_type": "markdown",
   "metadata": {},
   "source": [
    "授業前後について一対の標本による平均の検定（対応のある2標本t検定）"
   ]
  },
  {
   "cell_type": "code",
   "execution_count": 13,
   "metadata": {},
   "outputs": [
    {
     "data": {
      "text/html": [
       "<div>\n",
       "<style scoped>\n",
       "    .dataframe tbody tr th:only-of-type {\n",
       "        vertical-align: middle;\n",
       "    }\n",
       "\n",
       "    .dataframe tbody tr th {\n",
       "        vertical-align: top;\n",
       "    }\n",
       "\n",
       "    .dataframe thead th {\n",
       "        text-align: right;\n",
       "    }\n",
       "</style>\n",
       "<table border=\"1\" class=\"dataframe\">\n",
       "  <thead>\n",
       "    <tr style=\"text-align: right;\">\n",
       "      <th></th>\n",
       "      <th>id</th>\n",
       "      <th>before</th>\n",
       "      <th>after</th>\n",
       "    </tr>\n",
       "  </thead>\n",
       "  <tbody>\n",
       "    <tr>\n",
       "      <th>count</th>\n",
       "      <td>19.000000</td>\n",
       "      <td>19.000000</td>\n",
       "      <td>19.000000</td>\n",
       "    </tr>\n",
       "    <tr>\n",
       "      <th>mean</th>\n",
       "      <td>10.000000</td>\n",
       "      <td>12.578947</td>\n",
       "      <td>14.105263</td>\n",
       "    </tr>\n",
       "    <tr>\n",
       "      <th>std</th>\n",
       "      <td>5.627314</td>\n",
       "      <td>2.433922</td>\n",
       "      <td>2.806634</td>\n",
       "    </tr>\n",
       "    <tr>\n",
       "      <th>min</th>\n",
       "      <td>1.000000</td>\n",
       "      <td>8.000000</td>\n",
       "      <td>7.000000</td>\n",
       "    </tr>\n",
       "    <tr>\n",
       "      <th>25%</th>\n",
       "      <td>5.500000</td>\n",
       "      <td>11.000000</td>\n",
       "      <td>13.000000</td>\n",
       "    </tr>\n",
       "    <tr>\n",
       "      <th>50%</th>\n",
       "      <td>10.000000</td>\n",
       "      <td>13.000000</td>\n",
       "      <td>14.000000</td>\n",
       "    </tr>\n",
       "    <tr>\n",
       "      <th>75%</th>\n",
       "      <td>14.500000</td>\n",
       "      <td>14.000000</td>\n",
       "      <td>16.000000</td>\n",
       "    </tr>\n",
       "    <tr>\n",
       "      <th>max</th>\n",
       "      <td>19.000000</td>\n",
       "      <td>16.000000</td>\n",
       "      <td>18.000000</td>\n",
       "    </tr>\n",
       "  </tbody>\n",
       "</table>\n",
       "</div>"
      ],
      "text/plain": [
       "              id     before      after\n",
       "count  19.000000  19.000000  19.000000\n",
       "mean   10.000000  12.578947  14.105263\n",
       "std     5.627314   2.433922   2.806634\n",
       "min     1.000000   8.000000   7.000000\n",
       "25%     5.500000  11.000000  13.000000\n",
       "50%    10.000000  13.000000  14.000000\n",
       "75%    14.500000  14.000000  16.000000\n",
       "max    19.000000  16.000000  18.000000"
      ]
     },
     "execution_count": 13,
     "metadata": {},
     "output_type": "execute_result"
    }
   ],
   "source": [
    "stats_date = df.describe()\n",
    "stats_date"
   ]
  },
  {
   "cell_type": "markdown",
   "metadata": {},
   "source": [
    "対応のある2標本のt検定\n",
    "- $H_0: \\mu_1 = \\mu_2 $ \n",
    "- $H_1: \\mu_1 \\neq \\mu_2 $\n",
    "\n",
    "以下の二つの方法を示す"
   ]
  },
  {
   "cell_type": "code",
   "execution_count": 37,
   "metadata": {},
   "outputs": [
    {
     "name": "stdout",
     "output_type": "stream",
     "text": [
      "t_value: -3.683, p_value: 0.0017\n"
     ]
    }
   ],
   "source": [
    "# Calculate the T-test for the mean of ONE group of scores.\n",
    "result1 = stats.ttest_1samp(df['before'] - df['after'], popmean=0)\n",
    "print(f't_value: {result1[0]:.03f}, p_value: {result1[1]:.04f}')\n",
    "\n",
    "# Calculates the T-test on TWO RELATED samples of scores, a and b.\n",
    "result2 = stats.ttest_rel(df['before'], df['after'], alternative='two-sided')\n",
    "print(f't_value: {result2[0]:.03f}, p_value: {result2[1]:.04f}')"
   ]
  },
  {
   "cell_type": "markdown",
   "metadata": {},
   "source": [
    "手計算による検算"
   ]
  },
  {
   "cell_type": "code",
   "execution_count": 59,
   "metadata": {},
   "outputs": [
    {
     "name": "stdout",
     "output_type": "stream",
     "text": [
      "t_value: -3.683\n"
     ]
    }
   ],
   "source": [
    "n = df.shape[0]\n",
    "ab = df['before'] - df['after']\n",
    "sample_std_ab = ab.std() / np.sqrt(n)\n",
    "t_value = (ab.mean() - 0) / sample_std_ab\n",
    "print(f't_value: {t_value:.03f}')"
   ]
  }
 ],
 "metadata": {
  "kernelspec": {
   "display_name": "Python 3",
   "language": "python",
   "name": "python3"
  },
  "language_info": {
   "codemirror_mode": {
    "name": "ipython",
    "version": 3
   },
   "file_extension": ".py",
   "mimetype": "text/x-python",
   "name": "python",
   "nbconvert_exporter": "python",
   "pygments_lexer": "ipython3",
   "version": "3.10.9"
  }
 },
 "nbformat": 4,
 "nbformat_minor": 2
}
