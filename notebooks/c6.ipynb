{
 "cells": [
  {
   "cell_type": "code",
   "execution_count": 1,
   "metadata": {},
   "outputs": [],
   "source": [
    "from glob import glob\n",
    "import pandas as pd\n",
    "import numpy as np\n",
    "from scipy import stats  \n",
    "import matplotlib.pyplot as plt\n",
    "import japanize_matplotlib"
   ]
  },
  {
   "cell_type": "code",
   "execution_count": 5,
   "metadata": {},
   "outputs": [],
   "source": [
    "mu_a, sigma_a = 300, 15\n",
    "mu_b, sigma_b = 280, 15"
   ]
  },
  {
   "cell_type": "code",
   "execution_count": 39,
   "metadata": {},
   "outputs": [
    {
     "data": {
      "image/png": "[encoded data removed]",
      "text/plain": [
       "<Figure size 400x300 with 1 Axes>"
      ]
     },
     "metadata": {},
     "output_type": "display_data"
    }
   ],
   "source": [
    "plt.figure(figsize=(4, 3))\n",
    "x = np.linspace(mu_a-sigma_a*4, mu_a+sigma_a*4, 1000)\n",
    "y = stats.norm.pdf(x, loc=mu_a, scale=sigma_a)\n",
    "plt.plot(x, y, label=f'μ={mu_a}, σ={sigma_a}')\n",
    "plt.legend()\n",
    "plt.show()"
   ]
  },
  {
   "cell_type": "code",
   "execution_count": 77,
   "metadata": {},
   "outputs": [
    {
     "name": "stdout",
     "output_type": "stream",
     "text": [
      "310g 以上になる確率: 0.2525\n"
     ]
    }
   ],
   "source": [
    "x = 310\n",
    "z = (x - mu_a) / sigma_a\n",
    "print(f'{x}g 以上になる確率: {1 - stats.norm.cdf(z):.04f}')"
   ]
  },
  {
   "cell_type": "code",
   "execution_count": 72,
   "metadata": {},
   "outputs": [
    {
     "name": "stdout",
     "output_type": "stream",
     "text": [
      "285.0\n"
     ]
    }
   ],
   "source": [
    "mu_ab = mu_a / 4 + mu_b * 3 / 4\n",
    "print(mu_ab)"
   ]
  },
  {
   "cell_type": "code",
   "execution_count": 73,
   "metadata": {},
   "outputs": [
    {
     "name": "stdout",
     "output_type": "stream",
     "text": [
      "11.858541225631422\n"
     ]
    }
   ],
   "source": [
    "sigma_ab = np.sqrt(np.power(1/4, 2) * np.power(sigma_a, 2) + np.power(3/4, 2) * np.power(sigma_b, 2))\n",
    "print(sigma_ab)"
   ]
  },
  {
   "cell_type": "code",
   "execution_count": 76,
   "metadata": {},
   "outputs": [
    {
     "name": "stdout",
     "output_type": "stream",
     "text": [
      "310g 以上になる確率: 0.0175\n"
     ]
    }
   ],
   "source": [
    "x = 310\n",
    "z = (x - mu_ab) / sigma_ab\n",
    "print(f'{x}g 以上になる確率: {1 - stats.norm.cdf(z):.04f}')"
   ]
  },
  {
   "cell_type": "markdown",
   "metadata": {},
   "source": [
    "- 条件\n",
    "    - a の玉ねぎの割合 : 0.2\n",
    "    - b の玉ねぎの割合 : 0.8\n",
    "    - a の玉ねぎで 310g 超の玉ねぎである確率 : 0.2525\n",
    "    - b の玉ねぎで 310g 超の玉ねぎである確率 : 0.0228\n",
    "- $a \\cap 310$ である確率: 0.2 x 0.2525\n",
    "- $b \\cap 310$ である確率: 0.8 x 0.0228\n",
    "- $a \\cap 309$ である確率: 1 - 0.2 x 0.2525\n",
    "- $b \\cap 309$ である確率: 1 - 0.8 x 0.0228\n",
    "\n",
    "| |aをとる確率|bをとる確率|\n",
    "|:--:|:--:|:--:|\n",
    "|310超|0.2 x 0.2525| 0.8 x 0.0228|\n",
    "|310以下|1- (0.2 x 0.2525)| 1- (0.8 x 0.0228)|"
   ]
  },
  {
   "cell_type": "code",
   "execution_count": 102,
   "metadata": {},
   "outputs": [
    {
     "data": {
      "text/html": [
       "<div>\n",
       "<style scoped>\n",
       "    .dataframe tbody tr th:only-of-type {\n",
       "        vertical-align: middle;\n",
       "    }\n",
       "\n",
       "    .dataframe tbody tr th {\n",
       "        vertical-align: top;\n",
       "    }\n",
       "\n",
       "    .dataframe thead th {\n",
       "        text-align: right;\n",
       "    }\n",
       "</style>\n",
       "<table border=\"1\" class=\"dataframe\">\n",
       "  <thead>\n",
       "    <tr style=\"text-align: right;\">\n",
       "      <th></th>\n",
       "      <th>A</th>\n",
       "      <th>B</th>\n",
       "    </tr>\n",
       "  </thead>\n",
       "  <tbody>\n",
       "    <tr>\n",
       "      <th>310超</th>\n",
       "      <td>0.050499</td>\n",
       "      <td>0.0182</td>\n",
       "    </tr>\n",
       "    <tr>\n",
       "      <th>310以下</th>\n",
       "      <td>0.149501</td>\n",
       "      <td>0.7818</td>\n",
       "    </tr>\n",
       "  </tbody>\n",
       "</table>\n",
       "</div>"
      ],
      "text/plain": [
       "              A       B\n",
       "310超   0.050499  0.0182\n",
       "310以下  0.149501  0.7818"
      ]
     },
     "execution_count": 102,
     "metadata": {},
     "output_type": "execute_result"
    }
   ],
   "source": [
    "p_a, p_b = 0.2, 0.8\n",
    "\n",
    "x = 310\n",
    "z_a = (x - mu_a) / sigma_a\n",
    "z_b = (x - mu_b) / sigma_b\n",
    "p_a_310 = 1 - stats.norm.cdf(z_a)\n",
    "p_b_310 = 1 - stats.norm.cdf(z_b)\n",
    "\n",
    "acap310 = p_a * p_a_310\n",
    "bcap310 = p_b * p_b_310\n",
    "\n",
    "pd.DataFrame(\n",
    "    [[acap310, bcap310], [p_a - acap310, p_b - bcap310]],\n",
    "    columns=['A', 'B'],\n",
    "    index=['310超', '310以下']\n",
    ")"
   ]
  },
  {
   "cell_type": "code",
   "execution_count": null,
   "metadata": {},
   "outputs": [],
   "source": []
  }
 ],
 "metadata": {
  "kernelspec": {
   "display_name": "Python 3",
   "language": "python",
   "name": "python3"
  },
  "language_info": {
   "codemirror_mode": {
    "name": "ipython",
    "version": 3
   },
   "file_extension": ".py",
   "mimetype": "text/x-python",
   "name": "python",
   "nbconvert_exporter": "python",
   "pygments_lexer": "ipython3",
   "version": "3.10.9"
  }
 },
 "nbformat": 4,
 "nbformat_minor": 2
}
