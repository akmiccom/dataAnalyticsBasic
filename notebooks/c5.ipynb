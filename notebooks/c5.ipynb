{
 "cells": [
  {
   "cell_type": "code",
   "execution_count": 194,
   "metadata": {},
   "outputs": [],
   "source": [
    "import pandas as pd\n",
    "import numpy as np\n",
    "from scipy import stats  \n",
    "import matplotlib.pyplot as plt\n",
    "import japanize_matplotlib\n",
    "from glob import glob"
   ]
  },
  {
   "cell_type": "code",
   "execution_count": 195,
   "metadata": {},
   "outputs": [
    {
     "name": "stdout",
     "output_type": "stream",
     "text": [
      "0 ../csv/例題_データアナリティクス基礎\\例題10_自由記述データ&形態素解析データ.xlsx\n",
      "1 ../csv/例題_データアナリティクス基礎\\例題11_乱数で発生させた分布の基本統計量.xlsx\n",
      "2 ../csv/例題_データアナリティクス基礎\\例題1_自転車データ.xlsx\n",
      "3 ../csv/例題_データアナリティクス基礎\\例題2_顧客ID付き食品購入データ.xlsx\n",
      "4 ../csv/例題_データアナリティクス基礎\\例題3_テレビ視聴アンケートデータ.xlsx\n",
      "5 ../csv/例題_データアナリティクス基礎\\例題4_5つの地域の事業所数.xlsx\n",
      "6 ../csv/例題_データアナリティクス基礎\\例題5_関東地方の人口データ.xlsx\n",
      "7 ../csv/例題_データアナリティクス基礎\\例題7_異なる授業形態による成績データ.xlsx\n",
      "8 ../csv/例題_データアナリティクス基礎\\例題8_遊園地テーマパーク入場者数.xlsx\n",
      "9 ../csv/例題_データアナリティクス基礎\\例題9_店舗別販売額.xlsx\n"
     ]
    }
   ],
   "source": [
    "files = glob(\"../csv/例題_データアナリティクス基礎/*\")\n",
    "for i, f in enumerate(files):\n",
    "    print(i, f)\n"
   ]
  },
  {
   "cell_type": "code",
   "execution_count": 196,
   "metadata": {},
   "outputs": [
    {
     "name": "stdout",
     "output_type": "stream",
     "text": [
      "Index(['都県名', '市区町村名', '区分', '総人口\\n（人）', '面積\\n（km2)', '平均年齢\\n（歳）',\n",
      "       '核家族世帯\\n（万世帯）', '第３次産業\\n就労者の割合\\n（％）'],\n",
      "      dtype='object')\n"
     ]
    },
    {
     "data": {
      "text/html": [
       "<div>\n",
       "<style scoped>\n",
       "    .dataframe tbody tr th:only-of-type {\n",
       "        vertical-align: middle;\n",
       "    }\n",
       "\n",
       "    .dataframe tbody tr th {\n",
       "        vertical-align: top;\n",
       "    }\n",
       "\n",
       "    .dataframe thead th {\n",
       "        text-align: right;\n",
       "    }\n",
       "</style>\n",
       "<table border=\"1\" class=\"dataframe\">\n",
       "  <thead>\n",
       "    <tr style=\"text-align: right;\">\n",
       "      <th></th>\n",
       "      <th>pref</th>\n",
       "      <th>cities</th>\n",
       "      <th>class</th>\n",
       "      <th>pop</th>\n",
       "      <th>area</th>\n",
       "      <th>age</th>\n",
       "      <th>household</th>\n",
       "      <th>ratio</th>\n",
       "    </tr>\n",
       "  </thead>\n",
       "  <tbody>\n",
       "    <tr>\n",
       "      <th>0</th>\n",
       "      <td>東京都</td>\n",
       "      <td>あきる野市</td>\n",
       "      <td>市</td>\n",
       "      <td>80954</td>\n",
       "      <td>73.467647</td>\n",
       "      <td>46.587797</td>\n",
       "      <td>2.0470</td>\n",
       "      <td>73.317075</td>\n",
       "    </tr>\n",
       "    <tr>\n",
       "      <th>1</th>\n",
       "      <td>千葉県</td>\n",
       "      <td>いすみ市</td>\n",
       "      <td>市</td>\n",
       "      <td>38594</td>\n",
       "      <td>157.462260</td>\n",
       "      <td>53.001037</td>\n",
       "      <td>0.8203</td>\n",
       "      <td>66.634627</td>\n",
       "    </tr>\n",
       "    <tr>\n",
       "      <th>2</th>\n",
       "      <td>茨城県</td>\n",
       "      <td>かすみがうら市</td>\n",
       "      <td>市</td>\n",
       "      <td>42147</td>\n",
       "      <td>156.622074</td>\n",
       "      <td>47.213030</td>\n",
       "      <td>0.8614</td>\n",
       "      <td>57.537196</td>\n",
       "    </tr>\n",
       "    <tr>\n",
       "      <th>3</th>\n",
       "      <td>埼玉県</td>\n",
       "      <td>さいたま市 浦和区</td>\n",
       "      <td>区</td>\n",
       "      <td>154416</td>\n",
       "      <td>11.510011</td>\n",
       "      <td>43.580678</td>\n",
       "      <td>4.0173</td>\n",
       "      <td>82.985686</td>\n",
       "    </tr>\n",
       "    <tr>\n",
       "      <th>4</th>\n",
       "      <td>埼玉県</td>\n",
       "      <td>さいたま市 岩槻区</td>\n",
       "      <td>区</td>\n",
       "      <td>109801</td>\n",
       "      <td>49.169764</td>\n",
       "      <td>47.370459</td>\n",
       "      <td>2.7230</td>\n",
       "      <td>70.862069</td>\n",
       "    </tr>\n",
       "  </tbody>\n",
       "</table>\n",
       "</div>"
      ],
      "text/plain": [
       "  pref     cities class     pop        area        age  household      ratio\n",
       "0  東京都      あきる野市     市   80954   73.467647  46.587797     2.0470  73.317075\n",
       "1  千葉県       いすみ市     市   38594  157.462260  53.001037     0.8203  66.634627\n",
       "2  茨城県    かすみがうら市     市   42147  156.622074  47.213030     0.8614  57.537196\n",
       "3  埼玉県  さいたま市 浦和区     区  154416   11.510011  43.580678     4.0173  82.985686\n",
       "4  埼玉県  さいたま市 岩槻区     区  109801   49.169764  47.370459     2.7230  70.862069"
      ]
     },
     "execution_count": 196,
     "metadata": {},
     "output_type": "execute_result"
    }
   ],
   "source": [
    "population_data = pd.read_excel(files[6])\n",
    "print(population_data.columns)\n",
    "population_data.columns = ['pref', 'cities', 'class', 'pop', 'area', 'age', 'household', 'ratio']\n",
    "population_data.head()"
   ]
  },
  {
   "cell_type": "code",
   "execution_count": 209,
   "metadata": {},
   "outputs": [
    {
     "data": {
      "text/html": [
       "<div>\n",
       "<style scoped>\n",
       "    .dataframe tbody tr th:only-of-type {\n",
       "        vertical-align: middle;\n",
       "    }\n",
       "\n",
       "    .dataframe tbody tr th {\n",
       "        vertical-align: top;\n",
       "    }\n",
       "\n",
       "    .dataframe thead th {\n",
       "        text-align: right;\n",
       "    }\n",
       "</style>\n",
       "<table border=\"1\" class=\"dataframe\">\n",
       "  <thead>\n",
       "    <tr style=\"text-align: right;\">\n",
       "      <th></th>\n",
       "      <th>pop</th>\n",
       "      <th>area</th>\n",
       "      <th>age</th>\n",
       "      <th>household</th>\n",
       "      <th>ratio</th>\n",
       "      <th>dencity</th>\n",
       "    </tr>\n",
       "  </thead>\n",
       "  <tbody>\n",
       "    <tr>\n",
       "      <th>pop</th>\n",
       "      <td>1.000000</td>\n",
       "      <td>-</td>\n",
       "      <td>-</td>\n",
       "      <td>-</td>\n",
       "      <td>-</td>\n",
       "      <td>-</td>\n",
       "    </tr>\n",
       "    <tr>\n",
       "      <th>area</th>\n",
       "      <td>-0.053318</td>\n",
       "      <td>1.0</td>\n",
       "      <td>-</td>\n",
       "      <td>-</td>\n",
       "      <td>-</td>\n",
       "      <td>-</td>\n",
       "    </tr>\n",
       "    <tr>\n",
       "      <th>age</th>\n",
       "      <td>-0.448625</td>\n",
       "      <td>0.278114</td>\n",
       "      <td>1.0</td>\n",
       "      <td>-</td>\n",
       "      <td>-</td>\n",
       "      <td>-</td>\n",
       "    </tr>\n",
       "    <tr>\n",
       "      <th>household</th>\n",
       "      <td>0.996342</td>\n",
       "      <td>-0.070386</td>\n",
       "      <td>-0.45062</td>\n",
       "      <td>1.0</td>\n",
       "      <td>-</td>\n",
       "      <td>-</td>\n",
       "    </tr>\n",
       "    <tr>\n",
       "      <th>ratio</th>\n",
       "      <td>0.511483</td>\n",
       "      <td>-0.320585</td>\n",
       "      <td>-0.434113</td>\n",
       "      <td>0.524136</td>\n",
       "      <td>1.0</td>\n",
       "      <td>-</td>\n",
       "    </tr>\n",
       "    <tr>\n",
       "      <th>dencity</th>\n",
       "      <td>0.630847</td>\n",
       "      <td>-0.351245</td>\n",
       "      <td>-0.513029</td>\n",
       "      <td>0.619234</td>\n",
       "      <td>0.687707</td>\n",
       "      <td>1.0</td>\n",
       "    </tr>\n",
       "  </tbody>\n",
       "</table>\n",
       "</div>"
      ],
      "text/plain": [
       "                pop      area       age household     ratio dencity\n",
       "pop        1.000000         -         -         -         -       -\n",
       "area      -0.053318       1.0         -         -         -       -\n",
       "age       -0.448625  0.278114       1.0         -         -       -\n",
       "household  0.996342 -0.070386  -0.45062       1.0         -       -\n",
       "ratio      0.511483 -0.320585 -0.434113  0.524136       1.0       -\n",
       "dencity    0.630847 -0.351245 -0.513029  0.619234  0.687707     1.0"
      ]
     },
     "metadata": {},
     "output_type": "display_data"
    },
    {
     "name": "stdout",
     "output_type": "stream",
     "text": [
      "核家族世帯と第3次産業の就労割合の相関係数 :-\n"
     ]
    }
   ],
   "source": [
    "# 相関係数\n",
    "correlation_coefficient = population_data.corr(numeric_only=True)\n",
    "for i in range(1, 6):\n",
    "    for j in range(i):\n",
    "        correlation_coefficient.iloc[j, i] = '-'\n",
    "# correlation_coefficient.iloc[0, 1] = '-'\n",
    "display(correlation_coefficient)\n",
    "print(f\"核家族世帯と第3次産業の就労割合の相関係数 :{correlation_coefficient.loc['household', 'ratio']}\")"
   ]
  },
  {
   "cell_type": "code",
   "execution_count": 198,
   "metadata": {},
   "outputs": [
    {
     "data": {
      "text/html": [
       "<div>\n",
       "<style scoped>\n",
       "    .dataframe tbody tr th:only-of-type {\n",
       "        vertical-align: middle;\n",
       "    }\n",
       "\n",
       "    .dataframe tbody tr th {\n",
       "        vertical-align: top;\n",
       "    }\n",
       "\n",
       "    .dataframe thead th {\n",
       "        text-align: right;\n",
       "    }\n",
       "</style>\n",
       "<table border=\"1\" class=\"dataframe\">\n",
       "  <thead>\n",
       "    <tr style=\"text-align: right;\">\n",
       "      <th></th>\n",
       "      <th>pop</th>\n",
       "      <th>area</th>\n",
       "      <th>age</th>\n",
       "      <th>household</th>\n",
       "      <th>ratio</th>\n",
       "      <th>dencity</th>\n",
       "    </tr>\n",
       "  </thead>\n",
       "  <tbody>\n",
       "    <tr>\n",
       "      <th>pop</th>\n",
       "      <td>1.000000</td>\n",
       "      <td>-0.053318</td>\n",
       "      <td>-0.448625</td>\n",
       "      <td>0.996342</td>\n",
       "      <td>0.511483</td>\n",
       "      <td>0.630847</td>\n",
       "    </tr>\n",
       "    <tr>\n",
       "      <th>area</th>\n",
       "      <td>-0.053318</td>\n",
       "      <td>1.000000</td>\n",
       "      <td>0.278114</td>\n",
       "      <td>-0.070386</td>\n",
       "      <td>-0.320585</td>\n",
       "      <td>-0.351245</td>\n",
       "    </tr>\n",
       "    <tr>\n",
       "      <th>age</th>\n",
       "      <td>-0.448625</td>\n",
       "      <td>0.278114</td>\n",
       "      <td>1.000000</td>\n",
       "      <td>-0.450620</td>\n",
       "      <td>-0.434113</td>\n",
       "      <td>-0.513029</td>\n",
       "    </tr>\n",
       "    <tr>\n",
       "      <th>household</th>\n",
       "      <td>0.996342</td>\n",
       "      <td>-0.070386</td>\n",
       "      <td>-0.450620</td>\n",
       "      <td>1.000000</td>\n",
       "      <td>0.524136</td>\n",
       "      <td>0.619234</td>\n",
       "    </tr>\n",
       "    <tr>\n",
       "      <th>ratio</th>\n",
       "      <td>0.511483</td>\n",
       "      <td>-0.320585</td>\n",
       "      <td>-0.434113</td>\n",
       "      <td>0.524136</td>\n",
       "      <td>1.000000</td>\n",
       "      <td>0.687707</td>\n",
       "    </tr>\n",
       "    <tr>\n",
       "      <th>dencity</th>\n",
       "      <td>0.630847</td>\n",
       "      <td>-0.351245</td>\n",
       "      <td>-0.513029</td>\n",
       "      <td>0.619234</td>\n",
       "      <td>0.687707</td>\n",
       "      <td>1.000000</td>\n",
       "    </tr>\n",
       "  </tbody>\n",
       "</table>\n",
       "</div>"
      ],
      "text/plain": [
       "                pop      area       age  household     ratio   dencity\n",
       "pop        1.000000 -0.053318 -0.448625   0.996342  0.511483  0.630847\n",
       "area      -0.053318  1.000000  0.278114  -0.070386 -0.320585 -0.351245\n",
       "age       -0.448625  0.278114  1.000000  -0.450620 -0.434113 -0.513029\n",
       "household  0.996342 -0.070386 -0.450620   1.000000  0.524136  0.619234\n",
       "ratio      0.511483 -0.320585 -0.434113   0.524136  1.000000  0.687707\n",
       "dencity    0.630847 -0.351245 -0.513029   0.619234  0.687707  1.000000"
      ]
     },
     "execution_count": 198,
     "metadata": {},
     "output_type": "execute_result"
    }
   ],
   "source": [
    "# 人口密度を追加した相関係数\n",
    "population_data['dencity'] = population_data['pop'] / population_data['area']\n",
    "population_data.corr(numeric_only=True)"
   ]
  },
  {
   "cell_type": "code",
   "execution_count": 199,
   "metadata": {},
   "outputs": [
    {
     "name": "stdout",
     "output_type": "stream",
     "text": [
      "                            OLS Regression Results                            \n",
      "==============================================================================\n",
      "Dep. Variable:                  ratio   R-squared:                       0.209\n",
      "Model:                            OLS   Adj. R-squared:                  0.204\n",
      "Method:                 Least Squares   F-statistic:                     45.67\n",
      "Date:                Fri, 05 Apr 2024   Prob (F-statistic):           2.05e-10\n",
      "Time:                        14:33:27   Log-Likelihood:                -610.10\n",
      "No. Observations:                 175   AIC:                             1224.\n",
      "Df Residuals:                     173   BIC:                             1231.\n",
      "Df Model:                           1                                         \n",
      "Covariance Type:            nonrobust                                         \n",
      "==============================================================================\n",
      "                 coef    std err          t      P>|t|      [0.025      0.975]\n",
      "------------------------------------------------------------------------------\n",
      "const        147.5459     11.512     12.816      0.000     124.823     170.268\n",
      "age           -1.6711      0.247     -6.758      0.000      -2.159      -1.183\n",
      "==============================================================================\n",
      "Omnibus:                        3.496   Durbin-Watson:                   1.636\n",
      "Prob(Omnibus):                  0.174   Jarque-Bera (JB):                3.457\n",
      "Skew:                          -0.301   Prob(JB):                        0.178\n",
      "Kurtosis:                       2.664   Cond. No.                         892.\n",
      "==============================================================================\n",
      "\n",
      "Notes:\n",
      "[1] Standard Errors assume that the covariance matrix of the errors is correctly specified.\n"
     ]
    }
   ],
   "source": [
    "# 回帰分析\n",
    "import statsmodels.api as sm\n",
    "\n",
    "cities_data = population_data[population_data['class'] == '市']\n",
    "x_train = cities_data[['age']]\n",
    "y_train = cities_data[['ratio']]\n",
    "x_add_const = sm.add_constant(x_train)\n",
    "model_sm = sm.OLS(y_train, x_add_const).fit()\n",
    "print(model_sm.summary())"
   ]
  },
  {
   "cell_type": "code",
   "execution_count": 200,
   "metadata": {},
   "outputs": [
    {
     "name": "stdout",
     "output_type": "stream",
     "text": [
      "切片: 147.55\n",
      "傾き: -1.67\n",
      "決定係数: 0.21\n",
      "予測値数: (175,)\n"
     ]
    },
    {
     "data": {
      "image/png": "[encoded data removed]",
      "text/plain": [
       "<Figure size 400x300 with 1 Axes>"
      ]
     },
     "metadata": {},
     "output_type": "display_data"
    }
   ],
   "source": [
    "from sklearn.linear_model import LinearRegression\n",
    "\n",
    "model_lr = LinearRegression()\n",
    "x_train = cities_data[['age']]\n",
    "y_train = cities_data['ratio']\n",
    "model_lr.fit(x_train, y_train)\n",
    "y_pred = model_lr.predict(x_train)\n",
    "r = model_lr.score(x_train, y_train)\n",
    "print(f'切片: {model_lr.intercept_:.02f}')\n",
    "print(f'傾き: {model_lr.coef_[0]:.02f}')\n",
    "print(f'決定係数: {r:.02f}')\n",
    "print(f'予測値数: {y_pred.shape}')\n",
    "\n",
    "plt.figure(figsize=[4, 3])\n",
    "plt.scatter(x_train, y_train, marker='.')\n",
    "plt.plot(x_train, y_pred, color = 'red')\n",
    "plt.show()"
   ]
  },
  {
   "cell_type": "code",
   "execution_count": 201,
   "metadata": {},
   "outputs": [
    {
     "name": "stdout",
     "output_type": "stream",
     "text": [
      "63.99\n"
     ]
    }
   ],
   "source": [
    "# 平均年齢50歳の予測値\n",
    "x = 50\n",
    "# print(model_lr.predict([[x]]))\n",
    "y_hat = model_lr.coef_[0] * x + model_lr.intercept_\n",
    "print(f'{y_hat:.02f}')"
   ]
  },
  {
   "cell_type": "code",
   "execution_count": 202,
   "metadata": {},
   "outputs": [
    {
     "data": {
      "text/plain": [
       "pref                栃木県\n",
       "cities              真岡市\n",
       "class                 市\n",
       "pop               79539\n",
       "area         167.344835\n",
       "age           45.227991\n",
       "household        1.5741\n",
       "ratio         52.189056\n",
       "dencity           475.3\n",
       "Name: 181, dtype: object"
      ]
     },
     "execution_count": 202,
     "metadata": {},
     "output_type": "execute_result"
    }
   ],
   "source": [
    "#  最大残差の市町村\n",
    "pos = (y_pred - y_train).argmax()\n",
    "cities_data.iloc[94]"
   ]
  },
  {
   "cell_type": "code",
   "execution_count": null,
   "metadata": {},
   "outputs": [],
   "source": []
  }
 ],
 "metadata": {
  "kernelspec": {
   "display_name": "Python 3",
   "language": "python",
   "name": "python3"
  },
  "language_info": {
   "codemirror_mode": {
    "name": "ipython",
    "version": 3
   },
   "file_extension": ".py",
   "mimetype": "text/x-python",
   "name": "python",
   "nbconvert_exporter": "python",
   "pygments_lexer": "ipython3",
   "version": "3.10.9"
  }
 },
 "nbformat": 4,
 "nbformat_minor": 2
}
